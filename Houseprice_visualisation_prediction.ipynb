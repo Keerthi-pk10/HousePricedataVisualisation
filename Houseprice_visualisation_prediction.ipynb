{
  "cells": [
    {
      "cell_type": "markdown",
      "metadata": {
        "id": "L175YCJ4ZqL-"
      },
      "source": [
        "IMPORT LIBRARIES\n",
        "\n"
      ]
    },
    {
      "cell_type": "code",
      "execution_count": 6,
      "metadata": {
        "id": "ajLDToCfqnEh"
      },
      "outputs": [],
      "source": [
        "import pandas as pd\n",
        "import numpy as np\n",
        "import matplotlib.pyplot as plt\n",
        "import seaborn as sns"
      ]
    },
    {
      "cell_type": "markdown",
      "metadata": {
        "id": "CshVtRkeQzrT"
      },
      "source": [
        "LOAD THE DATASET"
      ]
    },
    {
      "cell_type": "code",
      "execution_count": 7,
      "metadata": {
        "id": "9-fFPxDZaHds"
      },
      "outputs": [],
      "source": [
        "df = pd.read_csv(\"/content/House Price India.csv\")"
      ]
    },
    {
      "cell_type": "markdown",
      "metadata": {
        "id": "phvQfcZkaG-3"
      },
      "source": [
        "EDA AND PREPROCESSING"
      ]
    },
    {
      "cell_type": "code",
      "execution_count": 8,
      "metadata": {
        "colab": {
          "base_uri": "https://localhost:8080/",
          "height": 351
        },
        "id": "sUALa8HIudvs",
        "outputId": "8b5f398d-9cdc-40cc-f38b-37a3e7e0e946"
      },
      "outputs": [
        {
          "output_type": "execute_result",
          "data": {
            "text/plain": [
              "           id   Date  number of bedrooms  number of bathrooms  living area  \\\n",
              "0  6762810145  42491                   5                 2.50         3650   \n",
              "1  6762810635  42491                   4                 2.50         2920   \n",
              "2  6762810998  42491                   5                 2.75         2910   \n",
              "3  6762812605  42491                   4                 2.50         3310   \n",
              "4  6762812919  42491                   3                 2.00         2710   \n",
              "\n",
              "   lot area  number of floors  waterfront present  number of views  \\\n",
              "0      9050               2.0                   0                4   \n",
              "1      4000               1.5                   0                0   \n",
              "2      9480               1.5                   0                0   \n",
              "3     42998               2.0                   0                0   \n",
              "4      4500               1.5                   0                0   \n",
              "\n",
              "   condition of the house  ...  Built Year  Renovation Year  Postal Code  \\\n",
              "0                       5  ...        1921                0       122003   \n",
              "1                       5  ...        1909                0       122004   \n",
              "2                       3  ...        1939                0       122004   \n",
              "3                       3  ...        2001                0       122005   \n",
              "4                       4  ...        1929                0       122006   \n",
              "\n",
              "   Lattitude  Longitude  living_area_renov  lot_area_renov  \\\n",
              "0    52.8645   -114.557               2880            5400   \n",
              "1    52.8878   -114.470               2470            4000   \n",
              "2    52.8852   -114.468               2940            6600   \n",
              "3    52.9532   -114.321               3350           42847   \n",
              "4    52.9047   -114.485               2060            4500   \n",
              "\n",
              "   Number of schools nearby  Distance from the airport    Price  \n",
              "0                         2                         58  2380000  \n",
              "1                         2                         51  1400000  \n",
              "2                         1                         53  1200000  \n",
              "3                         3                         76   838000  \n",
              "4                         1                         51   805000  \n",
              "\n",
              "[5 rows x 23 columns]"
            ],
            "text/html": [
              "\n",
              "  <div id=\"df-5394ac3c-15e0-4119-8967-aa67480cb5c8\">\n",
              "    <div class=\"colab-df-container\">\n",
              "      <div>\n",
              "<style scoped>\n",
              "    .dataframe tbody tr th:only-of-type {\n",
              "        vertical-align: middle;\n",
              "    }\n",
              "\n",
              "    .dataframe tbody tr th {\n",
              "        vertical-align: top;\n",
              "    }\n",
              "\n",
              "    .dataframe thead th {\n",
              "        text-align: right;\n",
              "    }\n",
              "</style>\n",
              "<table border=\"1\" class=\"dataframe\">\n",
              "  <thead>\n",
              "    <tr style=\"text-align: right;\">\n",
              "      <th></th>\n",
              "      <th>id</th>\n",
              "      <th>Date</th>\n",
              "      <th>number of bedrooms</th>\n",
              "      <th>number of bathrooms</th>\n",
              "      <th>living area</th>\n",
              "      <th>lot area</th>\n",
              "      <th>number of floors</th>\n",
              "      <th>waterfront present</th>\n",
              "      <th>number of views</th>\n",
              "      <th>condition of the house</th>\n",
              "      <th>...</th>\n",
              "      <th>Built Year</th>\n",
              "      <th>Renovation Year</th>\n",
              "      <th>Postal Code</th>\n",
              "      <th>Lattitude</th>\n",
              "      <th>Longitude</th>\n",
              "      <th>living_area_renov</th>\n",
              "      <th>lot_area_renov</th>\n",
              "      <th>Number of schools nearby</th>\n",
              "      <th>Distance from the airport</th>\n",
              "      <th>Price</th>\n",
              "    </tr>\n",
              "  </thead>\n",
              "  <tbody>\n",
              "    <tr>\n",
              "      <th>0</th>\n",
              "      <td>6762810145</td>\n",
              "      <td>42491</td>\n",
              "      <td>5</td>\n",
              "      <td>2.50</td>\n",
              "      <td>3650</td>\n",
              "      <td>9050</td>\n",
              "      <td>2.0</td>\n",
              "      <td>0</td>\n",
              "      <td>4</td>\n",
              "      <td>5</td>\n",
              "      <td>...</td>\n",
              "      <td>1921</td>\n",
              "      <td>0</td>\n",
              "      <td>122003</td>\n",
              "      <td>52.8645</td>\n",
              "      <td>-114.557</td>\n",
              "      <td>2880</td>\n",
              "      <td>5400</td>\n",
              "      <td>2</td>\n",
              "      <td>58</td>\n",
              "      <td>2380000</td>\n",
              "    </tr>\n",
              "    <tr>\n",
              "      <th>1</th>\n",
              "      <td>6762810635</td>\n",
              "      <td>42491</td>\n",
              "      <td>4</td>\n",
              "      <td>2.50</td>\n",
              "      <td>2920</td>\n",
              "      <td>4000</td>\n",
              "      <td>1.5</td>\n",
              "      <td>0</td>\n",
              "      <td>0</td>\n",
              "      <td>5</td>\n",
              "      <td>...</td>\n",
              "      <td>1909</td>\n",
              "      <td>0</td>\n",
              "      <td>122004</td>\n",
              "      <td>52.8878</td>\n",
              "      <td>-114.470</td>\n",
              "      <td>2470</td>\n",
              "      <td>4000</td>\n",
              "      <td>2</td>\n",
              "      <td>51</td>\n",
              "      <td>1400000</td>\n",
              "    </tr>\n",
              "    <tr>\n",
              "      <th>2</th>\n",
              "      <td>6762810998</td>\n",
              "      <td>42491</td>\n",
              "      <td>5</td>\n",
              "      <td>2.75</td>\n",
              "      <td>2910</td>\n",
              "      <td>9480</td>\n",
              "      <td>1.5</td>\n",
              "      <td>0</td>\n",
              "      <td>0</td>\n",
              "      <td>3</td>\n",
              "      <td>...</td>\n",
              "      <td>1939</td>\n",
              "      <td>0</td>\n",
              "      <td>122004</td>\n",
              "      <td>52.8852</td>\n",
              "      <td>-114.468</td>\n",
              "      <td>2940</td>\n",
              "      <td>6600</td>\n",
              "      <td>1</td>\n",
              "      <td>53</td>\n",
              "      <td>1200000</td>\n",
              "    </tr>\n",
              "    <tr>\n",
              "      <th>3</th>\n",
              "      <td>6762812605</td>\n",
              "      <td>42491</td>\n",
              "      <td>4</td>\n",
              "      <td>2.50</td>\n",
              "      <td>3310</td>\n",
              "      <td>42998</td>\n",
              "      <td>2.0</td>\n",
              "      <td>0</td>\n",
              "      <td>0</td>\n",
              "      <td>3</td>\n",
              "      <td>...</td>\n",
              "      <td>2001</td>\n",
              "      <td>0</td>\n",
              "      <td>122005</td>\n",
              "      <td>52.9532</td>\n",
              "      <td>-114.321</td>\n",
              "      <td>3350</td>\n",
              "      <td>42847</td>\n",
              "      <td>3</td>\n",
              "      <td>76</td>\n",
              "      <td>838000</td>\n",
              "    </tr>\n",
              "    <tr>\n",
              "      <th>4</th>\n",
              "      <td>6762812919</td>\n",
              "      <td>42491</td>\n",
              "      <td>3</td>\n",
              "      <td>2.00</td>\n",
              "      <td>2710</td>\n",
              "      <td>4500</td>\n",
              "      <td>1.5</td>\n",
              "      <td>0</td>\n",
              "      <td>0</td>\n",
              "      <td>4</td>\n",
              "      <td>...</td>\n",
              "      <td>1929</td>\n",
              "      <td>0</td>\n",
              "      <td>122006</td>\n",
              "      <td>52.9047</td>\n",
              "      <td>-114.485</td>\n",
              "      <td>2060</td>\n",
              "      <td>4500</td>\n",
              "      <td>1</td>\n",
              "      <td>51</td>\n",
              "      <td>805000</td>\n",
              "    </tr>\n",
              "  </tbody>\n",
              "</table>\n",
              "<p>5 rows × 23 columns</p>\n",
              "</div>\n",
              "      <button class=\"colab-df-convert\" onclick=\"convertToInteractive('df-5394ac3c-15e0-4119-8967-aa67480cb5c8')\"\n",
              "              title=\"Convert this dataframe to an interactive table.\"\n",
              "              style=\"display:none;\">\n",
              "        \n",
              "  <svg xmlns=\"http://www.w3.org/2000/svg\" height=\"24px\"viewBox=\"0 0 24 24\"\n",
              "       width=\"24px\">\n",
              "    <path d=\"M0 0h24v24H0V0z\" fill=\"none\"/>\n",
              "    <path d=\"M18.56 5.44l.94 2.06.94-2.06 2.06-.94-2.06-.94-.94-2.06-.94 2.06-2.06.94zm-11 1L8.5 8.5l.94-2.06 2.06-.94-2.06-.94L8.5 2.5l-.94 2.06-2.06.94zm10 10l.94 2.06.94-2.06 2.06-.94-2.06-.94-.94-2.06-.94 2.06-2.06.94z\"/><path d=\"M17.41 7.96l-1.37-1.37c-.4-.4-.92-.59-1.43-.59-.52 0-1.04.2-1.43.59L10.3 9.45l-7.72 7.72c-.78.78-.78 2.05 0 2.83L4 21.41c.39.39.9.59 1.41.59.51 0 1.02-.2 1.41-.59l7.78-7.78 2.81-2.81c.8-.78.8-2.07 0-2.86zM5.41 20L4 18.59l7.72-7.72 1.47 1.35L5.41 20z\"/>\n",
              "  </svg>\n",
              "      </button>\n",
              "      \n",
              "  <style>\n",
              "    .colab-df-container {\n",
              "      display:flex;\n",
              "      flex-wrap:wrap;\n",
              "      gap: 12px;\n",
              "    }\n",
              "\n",
              "    .colab-df-convert {\n",
              "      background-color: #E8F0FE;\n",
              "      border: none;\n",
              "      border-radius: 50%;\n",
              "      cursor: pointer;\n",
              "      display: none;\n",
              "      fill: #1967D2;\n",
              "      height: 32px;\n",
              "      padding: 0 0 0 0;\n",
              "      width: 32px;\n",
              "    }\n",
              "\n",
              "    .colab-df-convert:hover {\n",
              "      background-color: #E2EBFA;\n",
              "      box-shadow: 0px 1px 2px rgba(60, 64, 67, 0.3), 0px 1px 3px 1px rgba(60, 64, 67, 0.15);\n",
              "      fill: #174EA6;\n",
              "    }\n",
              "\n",
              "    [theme=dark] .colab-df-convert {\n",
              "      background-color: #3B4455;\n",
              "      fill: #D2E3FC;\n",
              "    }\n",
              "\n",
              "    [theme=dark] .colab-df-convert:hover {\n",
              "      background-color: #434B5C;\n",
              "      box-shadow: 0px 1px 3px 1px rgba(0, 0, 0, 0.15);\n",
              "      filter: drop-shadow(0px 1px 2px rgba(0, 0, 0, 0.3));\n",
              "      fill: #FFFFFF;\n",
              "    }\n",
              "  </style>\n",
              "\n",
              "      <script>\n",
              "        const buttonEl =\n",
              "          document.querySelector('#df-5394ac3c-15e0-4119-8967-aa67480cb5c8 button.colab-df-convert');\n",
              "        buttonEl.style.display =\n",
              "          google.colab.kernel.accessAllowed ? 'block' : 'none';\n",
              "\n",
              "        async function convertToInteractive(key) {\n",
              "          const element = document.querySelector('#df-5394ac3c-15e0-4119-8967-aa67480cb5c8');\n",
              "          const dataTable =\n",
              "            await google.colab.kernel.invokeFunction('convertToInteractive',\n",
              "                                                     [key], {});\n",
              "          if (!dataTable) return;\n",
              "\n",
              "          const docLinkHtml = 'Like what you see? Visit the ' +\n",
              "            '<a target=\"_blank\" href=https://colab.research.google.com/notebooks/data_table.ipynb>data table notebook</a>'\n",
              "            + ' to learn more about interactive tables.';\n",
              "          element.innerHTML = '';\n",
              "          dataTable['output_type'] = 'display_data';\n",
              "          await google.colab.output.renderOutput(dataTable, element);\n",
              "          const docLink = document.createElement('div');\n",
              "          docLink.innerHTML = docLinkHtml;\n",
              "          element.appendChild(docLink);\n",
              "        }\n",
              "      </script>\n",
              "    </div>\n",
              "  </div>\n",
              "  "
            ]
          },
          "metadata": {},
          "execution_count": 8
        }
      ],
      "source": [
        "\n",
        "df.head()"
      ]
    },
    {
      "cell_type": "code",
      "execution_count": 9,
      "metadata": {
        "colab": {
          "base_uri": "https://localhost:8080/",
          "height": 351
        },
        "id": "vMN-B4BUZ4wd",
        "outputId": "b17f90ad-f849-4d49-f18a-c9e358166bd2"
      },
      "outputs": [
        {
          "output_type": "execute_result",
          "data": {
            "text/plain": [
              "               id   Date  number of bedrooms  number of bathrooms  \\\n",
              "14615  6762830250  42734                   2                  1.5   \n",
              "14616  6762830339  42734                   3                  2.0   \n",
              "14617  6762830618  42734                   2                  1.0   \n",
              "14618  6762830709  42734                   4                  1.0   \n",
              "14619  6762831463  42734                   3                  1.0   \n",
              "\n",
              "       living area  lot area  number of floors  waterfront present  \\\n",
              "14615         1556     20000               1.0                   0   \n",
              "14616         1680      7000               1.5                   0   \n",
              "14617         1070      6120               1.0                   0   \n",
              "14618         1030      6621               1.0                   0   \n",
              "14619          900      4770               1.0                   0   \n",
              "\n",
              "       number of views  condition of the house  ...  Built Year  \\\n",
              "14615                0                       4  ...        1957   \n",
              "14616                0                       4  ...        1968   \n",
              "14617                0                       3  ...        1962   \n",
              "14618                0                       4  ...        1955   \n",
              "14619                0                       3  ...        1969   \n",
              "\n",
              "       Renovation Year  Postal Code  Lattitude  Longitude  living_area_renov  \\\n",
              "14615                0       122066    52.6191   -114.472               2250   \n",
              "14616                0       122072    52.5075   -114.393               1540   \n",
              "14617                0       122056    52.7289   -114.507               1130   \n",
              "14618                0       122042    52.7157   -114.411               1420   \n",
              "14619             2009       122018    52.5338   -114.552                900   \n",
              "\n",
              "       lot_area_renov  Number of schools nearby  Distance from the airport  \\\n",
              "14615           17286                         3                         76   \n",
              "14616            7480                         3                         59   \n",
              "14617            6120                         2                         64   \n",
              "14618            6631                         3                         54   \n",
              "14619            3480                         2                         55   \n",
              "\n",
              "        Price  \n",
              "14615  221700  \n",
              "14616  219200  \n",
              "14617  209000  \n",
              "14618  205000  \n",
              "14619  146000  \n",
              "\n",
              "[5 rows x 23 columns]"
            ],
            "text/html": [
              "\n",
              "  <div id=\"df-e621d4ba-6d75-4395-b782-d7cceece7b20\">\n",
              "    <div class=\"colab-df-container\">\n",
              "      <div>\n",
              "<style scoped>\n",
              "    .dataframe tbody tr th:only-of-type {\n",
              "        vertical-align: middle;\n",
              "    }\n",
              "\n",
              "    .dataframe tbody tr th {\n",
              "        vertical-align: top;\n",
              "    }\n",
              "\n",
              "    .dataframe thead th {\n",
              "        text-align: right;\n",
              "    }\n",
              "</style>\n",
              "<table border=\"1\" class=\"dataframe\">\n",
              "  <thead>\n",
              "    <tr style=\"text-align: right;\">\n",
              "      <th></th>\n",
              "      <th>id</th>\n",
              "      <th>Date</th>\n",
              "      <th>number of bedrooms</th>\n",
              "      <th>number of bathrooms</th>\n",
              "      <th>living area</th>\n",
              "      <th>lot area</th>\n",
              "      <th>number of floors</th>\n",
              "      <th>waterfront present</th>\n",
              "      <th>number of views</th>\n",
              "      <th>condition of the house</th>\n",
              "      <th>...</th>\n",
              "      <th>Built Year</th>\n",
              "      <th>Renovation Year</th>\n",
              "      <th>Postal Code</th>\n",
              "      <th>Lattitude</th>\n",
              "      <th>Longitude</th>\n",
              "      <th>living_area_renov</th>\n",
              "      <th>lot_area_renov</th>\n",
              "      <th>Number of schools nearby</th>\n",
              "      <th>Distance from the airport</th>\n",
              "      <th>Price</th>\n",
              "    </tr>\n",
              "  </thead>\n",
              "  <tbody>\n",
              "    <tr>\n",
              "      <th>14615</th>\n",
              "      <td>6762830250</td>\n",
              "      <td>42734</td>\n",
              "      <td>2</td>\n",
              "      <td>1.5</td>\n",
              "      <td>1556</td>\n",
              "      <td>20000</td>\n",
              "      <td>1.0</td>\n",
              "      <td>0</td>\n",
              "      <td>0</td>\n",
              "      <td>4</td>\n",
              "      <td>...</td>\n",
              "      <td>1957</td>\n",
              "      <td>0</td>\n",
              "      <td>122066</td>\n",
              "      <td>52.6191</td>\n",
              "      <td>-114.472</td>\n",
              "      <td>2250</td>\n",
              "      <td>17286</td>\n",
              "      <td>3</td>\n",
              "      <td>76</td>\n",
              "      <td>221700</td>\n",
              "    </tr>\n",
              "    <tr>\n",
              "      <th>14616</th>\n",
              "      <td>6762830339</td>\n",
              "      <td>42734</td>\n",
              "      <td>3</td>\n",
              "      <td>2.0</td>\n",
              "      <td>1680</td>\n",
              "      <td>7000</td>\n",
              "      <td>1.5</td>\n",
              "      <td>0</td>\n",
              "      <td>0</td>\n",
              "      <td>4</td>\n",
              "      <td>...</td>\n",
              "      <td>1968</td>\n",
              "      <td>0</td>\n",
              "      <td>122072</td>\n",
              "      <td>52.5075</td>\n",
              "      <td>-114.393</td>\n",
              "      <td>1540</td>\n",
              "      <td>7480</td>\n",
              "      <td>3</td>\n",
              "      <td>59</td>\n",
              "      <td>219200</td>\n",
              "    </tr>\n",
              "    <tr>\n",
              "      <th>14617</th>\n",
              "      <td>6762830618</td>\n",
              "      <td>42734</td>\n",
              "      <td>2</td>\n",
              "      <td>1.0</td>\n",
              "      <td>1070</td>\n",
              "      <td>6120</td>\n",
              "      <td>1.0</td>\n",
              "      <td>0</td>\n",
              "      <td>0</td>\n",
              "      <td>3</td>\n",
              "      <td>...</td>\n",
              "      <td>1962</td>\n",
              "      <td>0</td>\n",
              "      <td>122056</td>\n",
              "      <td>52.7289</td>\n",
              "      <td>-114.507</td>\n",
              "      <td>1130</td>\n",
              "      <td>6120</td>\n",
              "      <td>2</td>\n",
              "      <td>64</td>\n",
              "      <td>209000</td>\n",
              "    </tr>\n",
              "    <tr>\n",
              "      <th>14618</th>\n",
              "      <td>6762830709</td>\n",
              "      <td>42734</td>\n",
              "      <td>4</td>\n",
              "      <td>1.0</td>\n",
              "      <td>1030</td>\n",
              "      <td>6621</td>\n",
              "      <td>1.0</td>\n",
              "      <td>0</td>\n",
              "      <td>0</td>\n",
              "      <td>4</td>\n",
              "      <td>...</td>\n",
              "      <td>1955</td>\n",
              "      <td>0</td>\n",
              "      <td>122042</td>\n",
              "      <td>52.7157</td>\n",
              "      <td>-114.411</td>\n",
              "      <td>1420</td>\n",
              "      <td>6631</td>\n",
              "      <td>3</td>\n",
              "      <td>54</td>\n",
              "      <td>205000</td>\n",
              "    </tr>\n",
              "    <tr>\n",
              "      <th>14619</th>\n",
              "      <td>6762831463</td>\n",
              "      <td>42734</td>\n",
              "      <td>3</td>\n",
              "      <td>1.0</td>\n",
              "      <td>900</td>\n",
              "      <td>4770</td>\n",
              "      <td>1.0</td>\n",
              "      <td>0</td>\n",
              "      <td>0</td>\n",
              "      <td>3</td>\n",
              "      <td>...</td>\n",
              "      <td>1969</td>\n",
              "      <td>2009</td>\n",
              "      <td>122018</td>\n",
              "      <td>52.5338</td>\n",
              "      <td>-114.552</td>\n",
              "      <td>900</td>\n",
              "      <td>3480</td>\n",
              "      <td>2</td>\n",
              "      <td>55</td>\n",
              "      <td>146000</td>\n",
              "    </tr>\n",
              "  </tbody>\n",
              "</table>\n",
              "<p>5 rows × 23 columns</p>\n",
              "</div>\n",
              "      <button class=\"colab-df-convert\" onclick=\"convertToInteractive('df-e621d4ba-6d75-4395-b782-d7cceece7b20')\"\n",
              "              title=\"Convert this dataframe to an interactive table.\"\n",
              "              style=\"display:none;\">\n",
              "        \n",
              "  <svg xmlns=\"http://www.w3.org/2000/svg\" height=\"24px\"viewBox=\"0 0 24 24\"\n",
              "       width=\"24px\">\n",
              "    <path d=\"M0 0h24v24H0V0z\" fill=\"none\"/>\n",
              "    <path d=\"M18.56 5.44l.94 2.06.94-2.06 2.06-.94-2.06-.94-.94-2.06-.94 2.06-2.06.94zm-11 1L8.5 8.5l.94-2.06 2.06-.94-2.06-.94L8.5 2.5l-.94 2.06-2.06.94zm10 10l.94 2.06.94-2.06 2.06-.94-2.06-.94-.94-2.06-.94 2.06-2.06.94z\"/><path d=\"M17.41 7.96l-1.37-1.37c-.4-.4-.92-.59-1.43-.59-.52 0-1.04.2-1.43.59L10.3 9.45l-7.72 7.72c-.78.78-.78 2.05 0 2.83L4 21.41c.39.39.9.59 1.41.59.51 0 1.02-.2 1.41-.59l7.78-7.78 2.81-2.81c.8-.78.8-2.07 0-2.86zM5.41 20L4 18.59l7.72-7.72 1.47 1.35L5.41 20z\"/>\n",
              "  </svg>\n",
              "      </button>\n",
              "      \n",
              "  <style>\n",
              "    .colab-df-container {\n",
              "      display:flex;\n",
              "      flex-wrap:wrap;\n",
              "      gap: 12px;\n",
              "    }\n",
              "\n",
              "    .colab-df-convert {\n",
              "      background-color: #E8F0FE;\n",
              "      border: none;\n",
              "      border-radius: 50%;\n",
              "      cursor: pointer;\n",
              "      display: none;\n",
              "      fill: #1967D2;\n",
              "      height: 32px;\n",
              "      padding: 0 0 0 0;\n",
              "      width: 32px;\n",
              "    }\n",
              "\n",
              "    .colab-df-convert:hover {\n",
              "      background-color: #E2EBFA;\n",
              "      box-shadow: 0px 1px 2px rgba(60, 64, 67, 0.3), 0px 1px 3px 1px rgba(60, 64, 67, 0.15);\n",
              "      fill: #174EA6;\n",
              "    }\n",
              "\n",
              "    [theme=dark] .colab-df-convert {\n",
              "      background-color: #3B4455;\n",
              "      fill: #D2E3FC;\n",
              "    }\n",
              "\n",
              "    [theme=dark] .colab-df-convert:hover {\n",
              "      background-color: #434B5C;\n",
              "      box-shadow: 0px 1px 3px 1px rgba(0, 0, 0, 0.15);\n",
              "      filter: drop-shadow(0px 1px 2px rgba(0, 0, 0, 0.3));\n",
              "      fill: #FFFFFF;\n",
              "    }\n",
              "  </style>\n",
              "\n",
              "      <script>\n",
              "        const buttonEl =\n",
              "          document.querySelector('#df-e621d4ba-6d75-4395-b782-d7cceece7b20 button.colab-df-convert');\n",
              "        buttonEl.style.display =\n",
              "          google.colab.kernel.accessAllowed ? 'block' : 'none';\n",
              "\n",
              "        async function convertToInteractive(key) {\n",
              "          const element = document.querySelector('#df-e621d4ba-6d75-4395-b782-d7cceece7b20');\n",
              "          const dataTable =\n",
              "            await google.colab.kernel.invokeFunction('convertToInteractive',\n",
              "                                                     [key], {});\n",
              "          if (!dataTable) return;\n",
              "\n",
              "          const docLinkHtml = 'Like what you see? Visit the ' +\n",
              "            '<a target=\"_blank\" href=https://colab.research.google.com/notebooks/data_table.ipynb>data table notebook</a>'\n",
              "            + ' to learn more about interactive tables.';\n",
              "          element.innerHTML = '';\n",
              "          dataTable['output_type'] = 'display_data';\n",
              "          await google.colab.output.renderOutput(dataTable, element);\n",
              "          const docLink = document.createElement('div');\n",
              "          docLink.innerHTML = docLinkHtml;\n",
              "          element.appendChild(docLink);\n",
              "        }\n",
              "      </script>\n",
              "    </div>\n",
              "  </div>\n",
              "  "
            ]
          },
          "metadata": {},
          "execution_count": 9
        }
      ],
      "source": [
        "df.tail()"
      ]
    },
    {
      "cell_type": "code",
      "execution_count": 10,
      "metadata": {
        "colab": {
          "base_uri": "https://localhost:8080/"
        },
        "id": "Y0mPmOvtyFyj",
        "outputId": "273f5568-9f6f-4f0f-e3a9-a40db1308bc6"
      },
      "outputs": [
        {
          "output_type": "execute_result",
          "data": {
            "text/plain": [
              "(14620, 23)"
            ]
          },
          "metadata": {},
          "execution_count": 10
        }
      ],
      "source": [
        "df.shape"
      ]
    },
    {
      "cell_type": "code",
      "execution_count": 11,
      "metadata": {
        "colab": {
          "base_uri": "https://localhost:8080/"
        },
        "id": "-EVxcBQ8yQCB",
        "outputId": "4c5b747c-c7a9-4183-a8f3-bda49464da97"
      },
      "outputs": [
        {
          "output_type": "stream",
          "name": "stdout",
          "text": [
            "<class 'pandas.core.frame.DataFrame'>\n",
            "RangeIndex: 14620 entries, 0 to 14619\n",
            "Data columns (total 23 columns):\n",
            " #   Column                                 Non-Null Count  Dtype  \n",
            "---  ------                                 --------------  -----  \n",
            " 0   id                                     14620 non-null  int64  \n",
            " 1   Date                                   14620 non-null  int64  \n",
            " 2   number of bedrooms                     14620 non-null  int64  \n",
            " 3   number of bathrooms                    14620 non-null  float64\n",
            " 4   living area                            14620 non-null  int64  \n",
            " 5   lot area                               14620 non-null  int64  \n",
            " 6   number of floors                       14620 non-null  float64\n",
            " 7   waterfront present                     14620 non-null  int64  \n",
            " 8   number of views                        14620 non-null  int64  \n",
            " 9   condition of the house                 14620 non-null  int64  \n",
            " 10  grade of the house                     14620 non-null  int64  \n",
            " 11  Area of the house(excluding basement)  14620 non-null  int64  \n",
            " 12  Area of the basement                   14620 non-null  int64  \n",
            " 13  Built Year                             14620 non-null  int64  \n",
            " 14  Renovation Year                        14620 non-null  int64  \n",
            " 15  Postal Code                            14620 non-null  int64  \n",
            " 16  Lattitude                              14620 non-null  float64\n",
            " 17  Longitude                              14620 non-null  float64\n",
            " 18  living_area_renov                      14620 non-null  int64  \n",
            " 19  lot_area_renov                         14620 non-null  int64  \n",
            " 20  Number of schools nearby               14620 non-null  int64  \n",
            " 21  Distance from the airport              14620 non-null  int64  \n",
            " 22  Price                                  14620 non-null  int64  \n",
            "dtypes: float64(4), int64(19)\n",
            "memory usage: 2.6 MB\n"
          ]
        }
      ],
      "source": [
        "df.info()"
      ]
    },
    {
      "cell_type": "markdown",
      "metadata": {
        "id": "8RNTApyW8enq"
      },
      "source": [
        "DESCRIPTIVE STATISTICS"
      ]
    },
    {
      "cell_type": "code",
      "execution_count": 12,
      "metadata": {
        "colab": {
          "base_uri": "https://localhost:8080/",
          "height": 428
        },
        "id": "0rEXZkWTMgPw",
        "outputId": "0f4d7b13-d69c-4cc2-d63d-26f63d795266"
      },
      "outputs": [
        {
          "output_type": "execute_result",
          "data": {
            "text/plain": [
              "                 id          Date  number of bedrooms  number of bathrooms  \\\n",
              "count  1.462000e+04  14620.000000        14620.000000         14620.000000   \n",
              "mean   6.762821e+09  42604.538646            3.379343             2.129583   \n",
              "std    6.237575e+03     67.347991            0.938719             0.769934   \n",
              "min    6.762810e+09  42491.000000            1.000000             0.500000   \n",
              "25%    6.762815e+09  42546.000000            3.000000             1.750000   \n",
              "50%    6.762821e+09  42600.000000            3.000000             2.250000   \n",
              "75%    6.762826e+09  42662.000000            4.000000             2.500000   \n",
              "max    6.762832e+09  42734.000000           33.000000             8.000000   \n",
              "\n",
              "        living area      lot area  number of floors  waterfront present  \\\n",
              "count  14620.000000  1.462000e+04      14620.000000        14620.000000   \n",
              "mean    2098.262996  1.509328e+04          1.502360            0.007661   \n",
              "std      928.275721  3.791962e+04          0.540239            0.087193   \n",
              "min      370.000000  5.200000e+02          1.000000            0.000000   \n",
              "25%     1440.000000  5.010750e+03          1.000000            0.000000   \n",
              "50%     1930.000000  7.620000e+03          1.500000            0.000000   \n",
              "75%     2570.000000  1.080000e+04          2.000000            0.000000   \n",
              "max    13540.000000  1.074218e+06          3.500000            1.000000   \n",
              "\n",
              "       number of views  condition of the house  ...    Built Year  \\\n",
              "count     14620.000000            14620.000000  ...  14620.000000   \n",
              "mean          0.233105                3.430506  ...   1970.926402   \n",
              "std           0.766259                0.664151  ...     29.493625   \n",
              "min           0.000000                1.000000  ...   1900.000000   \n",
              "25%           0.000000                3.000000  ...   1951.000000   \n",
              "50%           0.000000                3.000000  ...   1975.000000   \n",
              "75%           0.000000                4.000000  ...   1997.000000   \n",
              "max           4.000000                5.000000  ...   2015.000000   \n",
              "\n",
              "       Renovation Year    Postal Code     Lattitude     Longitude  \\\n",
              "count     14620.000000   14620.000000  14620.000000  14620.000000   \n",
              "mean         90.924008  122033.062244     52.792848   -114.404007   \n",
              "std         416.216661      19.082418      0.137522      0.141326   \n",
              "min           0.000000  122003.000000     52.385900   -114.709000   \n",
              "25%           0.000000  122017.000000     52.707600   -114.519000   \n",
              "50%           0.000000  122032.000000     52.806400   -114.421000   \n",
              "75%           0.000000  122048.000000     52.908900   -114.315000   \n",
              "max        2015.000000  122072.000000     53.007600   -113.505000   \n",
              "\n",
              "       living_area_renov  lot_area_renov  Number of schools nearby  \\\n",
              "count       14620.000000    14620.000000              14620.000000   \n",
              "mean         1996.702257    12753.500068                  2.012244   \n",
              "std           691.093366    26058.414467                  0.817284   \n",
              "min           460.000000      651.000000                  1.000000   \n",
              "25%          1490.000000     5097.750000                  1.000000   \n",
              "50%          1850.000000     7620.000000                  2.000000   \n",
              "75%          2380.000000    10125.000000                  3.000000   \n",
              "max          6110.000000   560617.000000                  3.000000   \n",
              "\n",
              "       Distance from the airport         Price  \n",
              "count               14620.000000  1.462000e+04  \n",
              "mean                   64.950958  5.389322e+05  \n",
              "std                     8.936008  3.675324e+05  \n",
              "min                    50.000000  7.800000e+04  \n",
              "25%                    57.000000  3.200000e+05  \n",
              "50%                    65.000000  4.500000e+05  \n",
              "75%                    73.000000  6.450000e+05  \n",
              "max                    80.000000  7.700000e+06  \n",
              "\n",
              "[8 rows x 23 columns]"
            ],
            "text/html": [
              "\n",
              "  <div id=\"df-640f6260-421a-480a-b345-7f1ba7795d79\">\n",
              "    <div class=\"colab-df-container\">\n",
              "      <div>\n",
              "<style scoped>\n",
              "    .dataframe tbody tr th:only-of-type {\n",
              "        vertical-align: middle;\n",
              "    }\n",
              "\n",
              "    .dataframe tbody tr th {\n",
              "        vertical-align: top;\n",
              "    }\n",
              "\n",
              "    .dataframe thead th {\n",
              "        text-align: right;\n",
              "    }\n",
              "</style>\n",
              "<table border=\"1\" class=\"dataframe\">\n",
              "  <thead>\n",
              "    <tr style=\"text-align: right;\">\n",
              "      <th></th>\n",
              "      <th>id</th>\n",
              "      <th>Date</th>\n",
              "      <th>number of bedrooms</th>\n",
              "      <th>number of bathrooms</th>\n",
              "      <th>living area</th>\n",
              "      <th>lot area</th>\n",
              "      <th>number of floors</th>\n",
              "      <th>waterfront present</th>\n",
              "      <th>number of views</th>\n",
              "      <th>condition of the house</th>\n",
              "      <th>...</th>\n",
              "      <th>Built Year</th>\n",
              "      <th>Renovation Year</th>\n",
              "      <th>Postal Code</th>\n",
              "      <th>Lattitude</th>\n",
              "      <th>Longitude</th>\n",
              "      <th>living_area_renov</th>\n",
              "      <th>lot_area_renov</th>\n",
              "      <th>Number of schools nearby</th>\n",
              "      <th>Distance from the airport</th>\n",
              "      <th>Price</th>\n",
              "    </tr>\n",
              "  </thead>\n",
              "  <tbody>\n",
              "    <tr>\n",
              "      <th>count</th>\n",
              "      <td>1.462000e+04</td>\n",
              "      <td>14620.000000</td>\n",
              "      <td>14620.000000</td>\n",
              "      <td>14620.000000</td>\n",
              "      <td>14620.000000</td>\n",
              "      <td>1.462000e+04</td>\n",
              "      <td>14620.000000</td>\n",
              "      <td>14620.000000</td>\n",
              "      <td>14620.000000</td>\n",
              "      <td>14620.000000</td>\n",
              "      <td>...</td>\n",
              "      <td>14620.000000</td>\n",
              "      <td>14620.000000</td>\n",
              "      <td>14620.000000</td>\n",
              "      <td>14620.000000</td>\n",
              "      <td>14620.000000</td>\n",
              "      <td>14620.000000</td>\n",
              "      <td>14620.000000</td>\n",
              "      <td>14620.000000</td>\n",
              "      <td>14620.000000</td>\n",
              "      <td>1.462000e+04</td>\n",
              "    </tr>\n",
              "    <tr>\n",
              "      <th>mean</th>\n",
              "      <td>6.762821e+09</td>\n",
              "      <td>42604.538646</td>\n",
              "      <td>3.379343</td>\n",
              "      <td>2.129583</td>\n",
              "      <td>2098.262996</td>\n",
              "      <td>1.509328e+04</td>\n",
              "      <td>1.502360</td>\n",
              "      <td>0.007661</td>\n",
              "      <td>0.233105</td>\n",
              "      <td>3.430506</td>\n",
              "      <td>...</td>\n",
              "      <td>1970.926402</td>\n",
              "      <td>90.924008</td>\n",
              "      <td>122033.062244</td>\n",
              "      <td>52.792848</td>\n",
              "      <td>-114.404007</td>\n",
              "      <td>1996.702257</td>\n",
              "      <td>12753.500068</td>\n",
              "      <td>2.012244</td>\n",
              "      <td>64.950958</td>\n",
              "      <td>5.389322e+05</td>\n",
              "    </tr>\n",
              "    <tr>\n",
              "      <th>std</th>\n",
              "      <td>6.237575e+03</td>\n",
              "      <td>67.347991</td>\n",
              "      <td>0.938719</td>\n",
              "      <td>0.769934</td>\n",
              "      <td>928.275721</td>\n",
              "      <td>3.791962e+04</td>\n",
              "      <td>0.540239</td>\n",
              "      <td>0.087193</td>\n",
              "      <td>0.766259</td>\n",
              "      <td>0.664151</td>\n",
              "      <td>...</td>\n",
              "      <td>29.493625</td>\n",
              "      <td>416.216661</td>\n",
              "      <td>19.082418</td>\n",
              "      <td>0.137522</td>\n",
              "      <td>0.141326</td>\n",
              "      <td>691.093366</td>\n",
              "      <td>26058.414467</td>\n",
              "      <td>0.817284</td>\n",
              "      <td>8.936008</td>\n",
              "      <td>3.675324e+05</td>\n",
              "    </tr>\n",
              "    <tr>\n",
              "      <th>min</th>\n",
              "      <td>6.762810e+09</td>\n",
              "      <td>42491.000000</td>\n",
              "      <td>1.000000</td>\n",
              "      <td>0.500000</td>\n",
              "      <td>370.000000</td>\n",
              "      <td>5.200000e+02</td>\n",
              "      <td>1.000000</td>\n",
              "      <td>0.000000</td>\n",
              "      <td>0.000000</td>\n",
              "      <td>1.000000</td>\n",
              "      <td>...</td>\n",
              "      <td>1900.000000</td>\n",
              "      <td>0.000000</td>\n",
              "      <td>122003.000000</td>\n",
              "      <td>52.385900</td>\n",
              "      <td>-114.709000</td>\n",
              "      <td>460.000000</td>\n",
              "      <td>651.000000</td>\n",
              "      <td>1.000000</td>\n",
              "      <td>50.000000</td>\n",
              "      <td>7.800000e+04</td>\n",
              "    </tr>\n",
              "    <tr>\n",
              "      <th>25%</th>\n",
              "      <td>6.762815e+09</td>\n",
              "      <td>42546.000000</td>\n",
              "      <td>3.000000</td>\n",
              "      <td>1.750000</td>\n",
              "      <td>1440.000000</td>\n",
              "      <td>5.010750e+03</td>\n",
              "      <td>1.000000</td>\n",
              "      <td>0.000000</td>\n",
              "      <td>0.000000</td>\n",
              "      <td>3.000000</td>\n",
              "      <td>...</td>\n",
              "      <td>1951.000000</td>\n",
              "      <td>0.000000</td>\n",
              "      <td>122017.000000</td>\n",
              "      <td>52.707600</td>\n",
              "      <td>-114.519000</td>\n",
              "      <td>1490.000000</td>\n",
              "      <td>5097.750000</td>\n",
              "      <td>1.000000</td>\n",
              "      <td>57.000000</td>\n",
              "      <td>3.200000e+05</td>\n",
              "    </tr>\n",
              "    <tr>\n",
              "      <th>50%</th>\n",
              "      <td>6.762821e+09</td>\n",
              "      <td>42600.000000</td>\n",
              "      <td>3.000000</td>\n",
              "      <td>2.250000</td>\n",
              "      <td>1930.000000</td>\n",
              "      <td>7.620000e+03</td>\n",
              "      <td>1.500000</td>\n",
              "      <td>0.000000</td>\n",
              "      <td>0.000000</td>\n",
              "      <td>3.000000</td>\n",
              "      <td>...</td>\n",
              "      <td>1975.000000</td>\n",
              "      <td>0.000000</td>\n",
              "      <td>122032.000000</td>\n",
              "      <td>52.806400</td>\n",
              "      <td>-114.421000</td>\n",
              "      <td>1850.000000</td>\n",
              "      <td>7620.000000</td>\n",
              "      <td>2.000000</td>\n",
              "      <td>65.000000</td>\n",
              "      <td>4.500000e+05</td>\n",
              "    </tr>\n",
              "    <tr>\n",
              "      <th>75%</th>\n",
              "      <td>6.762826e+09</td>\n",
              "      <td>42662.000000</td>\n",
              "      <td>4.000000</td>\n",
              "      <td>2.500000</td>\n",
              "      <td>2570.000000</td>\n",
              "      <td>1.080000e+04</td>\n",
              "      <td>2.000000</td>\n",
              "      <td>0.000000</td>\n",
              "      <td>0.000000</td>\n",
              "      <td>4.000000</td>\n",
              "      <td>...</td>\n",
              "      <td>1997.000000</td>\n",
              "      <td>0.000000</td>\n",
              "      <td>122048.000000</td>\n",
              "      <td>52.908900</td>\n",
              "      <td>-114.315000</td>\n",
              "      <td>2380.000000</td>\n",
              "      <td>10125.000000</td>\n",
              "      <td>3.000000</td>\n",
              "      <td>73.000000</td>\n",
              "      <td>6.450000e+05</td>\n",
              "    </tr>\n",
              "    <tr>\n",
              "      <th>max</th>\n",
              "      <td>6.762832e+09</td>\n",
              "      <td>42734.000000</td>\n",
              "      <td>33.000000</td>\n",
              "      <td>8.000000</td>\n",
              "      <td>13540.000000</td>\n",
              "      <td>1.074218e+06</td>\n",
              "      <td>3.500000</td>\n",
              "      <td>1.000000</td>\n",
              "      <td>4.000000</td>\n",
              "      <td>5.000000</td>\n",
              "      <td>...</td>\n",
              "      <td>2015.000000</td>\n",
              "      <td>2015.000000</td>\n",
              "      <td>122072.000000</td>\n",
              "      <td>53.007600</td>\n",
              "      <td>-113.505000</td>\n",
              "      <td>6110.000000</td>\n",
              "      <td>560617.000000</td>\n",
              "      <td>3.000000</td>\n",
              "      <td>80.000000</td>\n",
              "      <td>7.700000e+06</td>\n",
              "    </tr>\n",
              "  </tbody>\n",
              "</table>\n",
              "<p>8 rows × 23 columns</p>\n",
              "</div>\n",
              "      <button class=\"colab-df-convert\" onclick=\"convertToInteractive('df-640f6260-421a-480a-b345-7f1ba7795d79')\"\n",
              "              title=\"Convert this dataframe to an interactive table.\"\n",
              "              style=\"display:none;\">\n",
              "        \n",
              "  <svg xmlns=\"http://www.w3.org/2000/svg\" height=\"24px\"viewBox=\"0 0 24 24\"\n",
              "       width=\"24px\">\n",
              "    <path d=\"M0 0h24v24H0V0z\" fill=\"none\"/>\n",
              "    <path d=\"M18.56 5.44l.94 2.06.94-2.06 2.06-.94-2.06-.94-.94-2.06-.94 2.06-2.06.94zm-11 1L8.5 8.5l.94-2.06 2.06-.94-2.06-.94L8.5 2.5l-.94 2.06-2.06.94zm10 10l.94 2.06.94-2.06 2.06-.94-2.06-.94-.94-2.06-.94 2.06-2.06.94z\"/><path d=\"M17.41 7.96l-1.37-1.37c-.4-.4-.92-.59-1.43-.59-.52 0-1.04.2-1.43.59L10.3 9.45l-7.72 7.72c-.78.78-.78 2.05 0 2.83L4 21.41c.39.39.9.59 1.41.59.51 0 1.02-.2 1.41-.59l7.78-7.78 2.81-2.81c.8-.78.8-2.07 0-2.86zM5.41 20L4 18.59l7.72-7.72 1.47 1.35L5.41 20z\"/>\n",
              "  </svg>\n",
              "      </button>\n",
              "      \n",
              "  <style>\n",
              "    .colab-df-container {\n",
              "      display:flex;\n",
              "      flex-wrap:wrap;\n",
              "      gap: 12px;\n",
              "    }\n",
              "\n",
              "    .colab-df-convert {\n",
              "      background-color: #E8F0FE;\n",
              "      border: none;\n",
              "      border-radius: 50%;\n",
              "      cursor: pointer;\n",
              "      display: none;\n",
              "      fill: #1967D2;\n",
              "      height: 32px;\n",
              "      padding: 0 0 0 0;\n",
              "      width: 32px;\n",
              "    }\n",
              "\n",
              "    .colab-df-convert:hover {\n",
              "      background-color: #E2EBFA;\n",
              "      box-shadow: 0px 1px 2px rgba(60, 64, 67, 0.3), 0px 1px 3px 1px rgba(60, 64, 67, 0.15);\n",
              "      fill: #174EA6;\n",
              "    }\n",
              "\n",
              "    [theme=dark] .colab-df-convert {\n",
              "      background-color: #3B4455;\n",
              "      fill: #D2E3FC;\n",
              "    }\n",
              "\n",
              "    [theme=dark] .colab-df-convert:hover {\n",
              "      background-color: #434B5C;\n",
              "      box-shadow: 0px 1px 3px 1px rgba(0, 0, 0, 0.15);\n",
              "      filter: drop-shadow(0px 1px 2px rgba(0, 0, 0, 0.3));\n",
              "      fill: #FFFFFF;\n",
              "    }\n",
              "  </style>\n",
              "\n",
              "      <script>\n",
              "        const buttonEl =\n",
              "          document.querySelector('#df-640f6260-421a-480a-b345-7f1ba7795d79 button.colab-df-convert');\n",
              "        buttonEl.style.display =\n",
              "          google.colab.kernel.accessAllowed ? 'block' : 'none';\n",
              "\n",
              "        async function convertToInteractive(key) {\n",
              "          const element = document.querySelector('#df-640f6260-421a-480a-b345-7f1ba7795d79');\n",
              "          const dataTable =\n",
              "            await google.colab.kernel.invokeFunction('convertToInteractive',\n",
              "                                                     [key], {});\n",
              "          if (!dataTable) return;\n",
              "\n",
              "          const docLinkHtml = 'Like what you see? Visit the ' +\n",
              "            '<a target=\"_blank\" href=https://colab.research.google.com/notebooks/data_table.ipynb>data table notebook</a>'\n",
              "            + ' to learn more about interactive tables.';\n",
              "          element.innerHTML = '';\n",
              "          dataTable['output_type'] = 'display_data';\n",
              "          await google.colab.output.renderOutput(dataTable, element);\n",
              "          const docLink = document.createElement('div');\n",
              "          docLink.innerHTML = docLinkHtml;\n",
              "          element.appendChild(docLink);\n",
              "        }\n",
              "      </script>\n",
              "    </div>\n",
              "  </div>\n",
              "  "
            ]
          },
          "metadata": {},
          "execution_count": 12
        }
      ],
      "source": [
        "df.describe()"
      ]
    },
    {
      "cell_type": "markdown",
      "metadata": {
        "id": "mAYJQpJ4Mf7_"
      },
      "source": []
    },
    {
      "cell_type": "code",
      "execution_count": 13,
      "metadata": {
        "colab": {
          "base_uri": "https://localhost:8080/",
          "height": 351
        },
        "id": "zohuaEpYt3d_",
        "outputId": "6e60ce21-55c9-49dc-ab18-db0c087b846d"
      },
      "outputs": [
        {
          "output_type": "execute_result",
          "data": {
            "text/plain": [
              "               id   Date  number of bedrooms  number of bathrooms  \\\n",
              "14615  6762830250  42734                   2                  1.5   \n",
              "14616  6762830339  42734                   3                  2.0   \n",
              "14617  6762830618  42734                   2                  1.0   \n",
              "14618  6762830709  42734                   4                  1.0   \n",
              "14619  6762831463  42734                   3                  1.0   \n",
              "\n",
              "       living area  lot area  number of floors  waterfront present  \\\n",
              "14615         1556     20000               1.0                   0   \n",
              "14616         1680      7000               1.5                   0   \n",
              "14617         1070      6120               1.0                   0   \n",
              "14618         1030      6621               1.0                   0   \n",
              "14619          900      4770               1.0                   0   \n",
              "\n",
              "       number of views  condition of the house  ...  Built Year  \\\n",
              "14615                0                       4  ...        1957   \n",
              "14616                0                       4  ...        1968   \n",
              "14617                0                       3  ...        1962   \n",
              "14618                0                       4  ...        1955   \n",
              "14619                0                       3  ...        1969   \n",
              "\n",
              "       Renovation Year  Postal Code  Lattitude  Longitude  living_area_renov  \\\n",
              "14615                0       122066    52.6191   -114.472               2250   \n",
              "14616                0       122072    52.5075   -114.393               1540   \n",
              "14617                0       122056    52.7289   -114.507               1130   \n",
              "14618                0       122042    52.7157   -114.411               1420   \n",
              "14619             2009       122018    52.5338   -114.552                900   \n",
              "\n",
              "       lot_area_renov  Number of schools nearby  Distance from the airport  \\\n",
              "14615           17286                         3                         76   \n",
              "14616            7480                         3                         59   \n",
              "14617            6120                         2                         64   \n",
              "14618            6631                         3                         54   \n",
              "14619            3480                         2                         55   \n",
              "\n",
              "        Price  \n",
              "14615  221700  \n",
              "14616  219200  \n",
              "14617  209000  \n",
              "14618  205000  \n",
              "14619  146000  \n",
              "\n",
              "[5 rows x 23 columns]"
            ],
            "text/html": [
              "\n",
              "  <div id=\"df-56926605-3bc6-4e05-b3f5-b4c0feb59e5b\">\n",
              "    <div class=\"colab-df-container\">\n",
              "      <div>\n",
              "<style scoped>\n",
              "    .dataframe tbody tr th:only-of-type {\n",
              "        vertical-align: middle;\n",
              "    }\n",
              "\n",
              "    .dataframe tbody tr th {\n",
              "        vertical-align: top;\n",
              "    }\n",
              "\n",
              "    .dataframe thead th {\n",
              "        text-align: right;\n",
              "    }\n",
              "</style>\n",
              "<table border=\"1\" class=\"dataframe\">\n",
              "  <thead>\n",
              "    <tr style=\"text-align: right;\">\n",
              "      <th></th>\n",
              "      <th>id</th>\n",
              "      <th>Date</th>\n",
              "      <th>number of bedrooms</th>\n",
              "      <th>number of bathrooms</th>\n",
              "      <th>living area</th>\n",
              "      <th>lot area</th>\n",
              "      <th>number of floors</th>\n",
              "      <th>waterfront present</th>\n",
              "      <th>number of views</th>\n",
              "      <th>condition of the house</th>\n",
              "      <th>...</th>\n",
              "      <th>Built Year</th>\n",
              "      <th>Renovation Year</th>\n",
              "      <th>Postal Code</th>\n",
              "      <th>Lattitude</th>\n",
              "      <th>Longitude</th>\n",
              "      <th>living_area_renov</th>\n",
              "      <th>lot_area_renov</th>\n",
              "      <th>Number of schools nearby</th>\n",
              "      <th>Distance from the airport</th>\n",
              "      <th>Price</th>\n",
              "    </tr>\n",
              "  </thead>\n",
              "  <tbody>\n",
              "    <tr>\n",
              "      <th>14615</th>\n",
              "      <td>6762830250</td>\n",
              "      <td>42734</td>\n",
              "      <td>2</td>\n",
              "      <td>1.5</td>\n",
              "      <td>1556</td>\n",
              "      <td>20000</td>\n",
              "      <td>1.0</td>\n",
              "      <td>0</td>\n",
              "      <td>0</td>\n",
              "      <td>4</td>\n",
              "      <td>...</td>\n",
              "      <td>1957</td>\n",
              "      <td>0</td>\n",
              "      <td>122066</td>\n",
              "      <td>52.6191</td>\n",
              "      <td>-114.472</td>\n",
              "      <td>2250</td>\n",
              "      <td>17286</td>\n",
              "      <td>3</td>\n",
              "      <td>76</td>\n",
              "      <td>221700</td>\n",
              "    </tr>\n",
              "    <tr>\n",
              "      <th>14616</th>\n",
              "      <td>6762830339</td>\n",
              "      <td>42734</td>\n",
              "      <td>3</td>\n",
              "      <td>2.0</td>\n",
              "      <td>1680</td>\n",
              "      <td>7000</td>\n",
              "      <td>1.5</td>\n",
              "      <td>0</td>\n",
              "      <td>0</td>\n",
              "      <td>4</td>\n",
              "      <td>...</td>\n",
              "      <td>1968</td>\n",
              "      <td>0</td>\n",
              "      <td>122072</td>\n",
              "      <td>52.5075</td>\n",
              "      <td>-114.393</td>\n",
              "      <td>1540</td>\n",
              "      <td>7480</td>\n",
              "      <td>3</td>\n",
              "      <td>59</td>\n",
              "      <td>219200</td>\n",
              "    </tr>\n",
              "    <tr>\n",
              "      <th>14617</th>\n",
              "      <td>6762830618</td>\n",
              "      <td>42734</td>\n",
              "      <td>2</td>\n",
              "      <td>1.0</td>\n",
              "      <td>1070</td>\n",
              "      <td>6120</td>\n",
              "      <td>1.0</td>\n",
              "      <td>0</td>\n",
              "      <td>0</td>\n",
              "      <td>3</td>\n",
              "      <td>...</td>\n",
              "      <td>1962</td>\n",
              "      <td>0</td>\n",
              "      <td>122056</td>\n",
              "      <td>52.7289</td>\n",
              "      <td>-114.507</td>\n",
              "      <td>1130</td>\n",
              "      <td>6120</td>\n",
              "      <td>2</td>\n",
              "      <td>64</td>\n",
              "      <td>209000</td>\n",
              "    </tr>\n",
              "    <tr>\n",
              "      <th>14618</th>\n",
              "      <td>6762830709</td>\n",
              "      <td>42734</td>\n",
              "      <td>4</td>\n",
              "      <td>1.0</td>\n",
              "      <td>1030</td>\n",
              "      <td>6621</td>\n",
              "      <td>1.0</td>\n",
              "      <td>0</td>\n",
              "      <td>0</td>\n",
              "      <td>4</td>\n",
              "      <td>...</td>\n",
              "      <td>1955</td>\n",
              "      <td>0</td>\n",
              "      <td>122042</td>\n",
              "      <td>52.7157</td>\n",
              "      <td>-114.411</td>\n",
              "      <td>1420</td>\n",
              "      <td>6631</td>\n",
              "      <td>3</td>\n",
              "      <td>54</td>\n",
              "      <td>205000</td>\n",
              "    </tr>\n",
              "    <tr>\n",
              "      <th>14619</th>\n",
              "      <td>6762831463</td>\n",
              "      <td>42734</td>\n",
              "      <td>3</td>\n",
              "      <td>1.0</td>\n",
              "      <td>900</td>\n",
              "      <td>4770</td>\n",
              "      <td>1.0</td>\n",
              "      <td>0</td>\n",
              "      <td>0</td>\n",
              "      <td>3</td>\n",
              "      <td>...</td>\n",
              "      <td>1969</td>\n",
              "      <td>2009</td>\n",
              "      <td>122018</td>\n",
              "      <td>52.5338</td>\n",
              "      <td>-114.552</td>\n",
              "      <td>900</td>\n",
              "      <td>3480</td>\n",
              "      <td>2</td>\n",
              "      <td>55</td>\n",
              "      <td>146000</td>\n",
              "    </tr>\n",
              "  </tbody>\n",
              "</table>\n",
              "<p>5 rows × 23 columns</p>\n",
              "</div>\n",
              "      <button class=\"colab-df-convert\" onclick=\"convertToInteractive('df-56926605-3bc6-4e05-b3f5-b4c0feb59e5b')\"\n",
              "              title=\"Convert this dataframe to an interactive table.\"\n",
              "              style=\"display:none;\">\n",
              "        \n",
              "  <svg xmlns=\"http://www.w3.org/2000/svg\" height=\"24px\"viewBox=\"0 0 24 24\"\n",
              "       width=\"24px\">\n",
              "    <path d=\"M0 0h24v24H0V0z\" fill=\"none\"/>\n",
              "    <path d=\"M18.56 5.44l.94 2.06.94-2.06 2.06-.94-2.06-.94-.94-2.06-.94 2.06-2.06.94zm-11 1L8.5 8.5l.94-2.06 2.06-.94-2.06-.94L8.5 2.5l-.94 2.06-2.06.94zm10 10l.94 2.06.94-2.06 2.06-.94-2.06-.94-.94-2.06-.94 2.06-2.06.94z\"/><path d=\"M17.41 7.96l-1.37-1.37c-.4-.4-.92-.59-1.43-.59-.52 0-1.04.2-1.43.59L10.3 9.45l-7.72 7.72c-.78.78-.78 2.05 0 2.83L4 21.41c.39.39.9.59 1.41.59.51 0 1.02-.2 1.41-.59l7.78-7.78 2.81-2.81c.8-.78.8-2.07 0-2.86zM5.41 20L4 18.59l7.72-7.72 1.47 1.35L5.41 20z\"/>\n",
              "  </svg>\n",
              "      </button>\n",
              "      \n",
              "  <style>\n",
              "    .colab-df-container {\n",
              "      display:flex;\n",
              "      flex-wrap:wrap;\n",
              "      gap: 12px;\n",
              "    }\n",
              "\n",
              "    .colab-df-convert {\n",
              "      background-color: #E8F0FE;\n",
              "      border: none;\n",
              "      border-radius: 50%;\n",
              "      cursor: pointer;\n",
              "      display: none;\n",
              "      fill: #1967D2;\n",
              "      height: 32px;\n",
              "      padding: 0 0 0 0;\n",
              "      width: 32px;\n",
              "    }\n",
              "\n",
              "    .colab-df-convert:hover {\n",
              "      background-color: #E2EBFA;\n",
              "      box-shadow: 0px 1px 2px rgba(60, 64, 67, 0.3), 0px 1px 3px 1px rgba(60, 64, 67, 0.15);\n",
              "      fill: #174EA6;\n",
              "    }\n",
              "\n",
              "    [theme=dark] .colab-df-convert {\n",
              "      background-color: #3B4455;\n",
              "      fill: #D2E3FC;\n",
              "    }\n",
              "\n",
              "    [theme=dark] .colab-df-convert:hover {\n",
              "      background-color: #434B5C;\n",
              "      box-shadow: 0px 1px 3px 1px rgba(0, 0, 0, 0.15);\n",
              "      filter: drop-shadow(0px 1px 2px rgba(0, 0, 0, 0.3));\n",
              "      fill: #FFFFFF;\n",
              "    }\n",
              "  </style>\n",
              "\n",
              "      <script>\n",
              "        const buttonEl =\n",
              "          document.querySelector('#df-56926605-3bc6-4e05-b3f5-b4c0feb59e5b button.colab-df-convert');\n",
              "        buttonEl.style.display =\n",
              "          google.colab.kernel.accessAllowed ? 'block' : 'none';\n",
              "\n",
              "        async function convertToInteractive(key) {\n",
              "          const element = document.querySelector('#df-56926605-3bc6-4e05-b3f5-b4c0feb59e5b');\n",
              "          const dataTable =\n",
              "            await google.colab.kernel.invokeFunction('convertToInteractive',\n",
              "                                                     [key], {});\n",
              "          if (!dataTable) return;\n",
              "\n",
              "          const docLinkHtml = 'Like what you see? Visit the ' +\n",
              "            '<a target=\"_blank\" href=https://colab.research.google.com/notebooks/data_table.ipynb>data table notebook</a>'\n",
              "            + ' to learn more about interactive tables.';\n",
              "          element.innerHTML = '';\n",
              "          dataTable['output_type'] = 'display_data';\n",
              "          await google.colab.output.renderOutput(dataTable, element);\n",
              "          const docLink = document.createElement('div');\n",
              "          docLink.innerHTML = docLinkHtml;\n",
              "          element.appendChild(docLink);\n",
              "        }\n",
              "      </script>\n",
              "    </div>\n",
              "  </div>\n",
              "  "
            ]
          },
          "metadata": {},
          "execution_count": 13
        }
      ],
      "source": [
        "df.tail()"
      ]
    },
    {
      "cell_type": "code",
      "execution_count": 14,
      "metadata": {
        "colab": {
          "base_uri": "https://localhost:8080/",
          "height": 1000
        },
        "id": "IpzaiiDi8jde",
        "outputId": "d5a2a71b-b708-488d-b39e-abd1bd391510"
      },
      "outputs": [
        {
          "output_type": "execute_result",
          "data": {
            "text/plain": [
              "                                             id      Date  number of bedrooms  \\\n",
              "id                                     1.000000  0.045966           -0.329034   \n",
              "Date                                   0.045966  1.000000           -0.015663   \n",
              "number of bedrooms                    -0.329034 -0.015663            1.000000   \n",
              "number of bathrooms                   -0.516909 -0.026485            0.509784   \n",
              "living area                           -0.648127 -0.021958            0.570526   \n",
              "lot area                              -0.100269  0.004392            0.034416   \n",
              "number of floors                      -0.312305 -0.010335            0.177294   \n",
              "waterfront present                    -0.112937  0.012006           -0.006257   \n",
              "number of views                       -0.293004 -0.004782            0.078665   \n",
              "condition of the house                -0.045061 -0.027402            0.026597   \n",
              "grade of the house                    -0.673448 -0.033097            0.352945   \n",
              "Area of the house(excluding basement) -0.565116 -0.015994            0.473599   \n",
              "Area of the basement                  -0.290806 -0.015711            0.300332   \n",
              "Built Year                            -0.068645 -0.005869            0.152954   \n",
              "Renovation Year                       -0.109155 -0.011636            0.016132   \n",
              "Postal Code                            0.294709  0.018243           -0.044156   \n",
              "Lattitude                             -0.479334 -0.023327           -0.013163   \n",
              "Longitude                             -0.070841 -0.018231            0.135712   \n",
              "living_area_renov                     -0.599900 -0.032495            0.389855   \n",
              "lot_area_renov                        -0.089604 -0.000050            0.029400   \n",
              "Number of schools nearby              -0.004821 -0.004071            0.003397   \n",
              "Distance from the airport             -0.004542  0.011457           -0.006157   \n",
              "Price                                 -0.773114 -0.027919            0.308460   \n",
              "\n",
              "                                       number of bathrooms  living area  \\\n",
              "id                                               -0.516909    -0.648127   \n",
              "Date                                             -0.026485    -0.021958   \n",
              "number of bedrooms                                0.509784     0.570526   \n",
              "number of bathrooms                               1.000000     0.753517   \n",
              "living area                                       0.753517     1.000000   \n",
              "lot area                                          0.080806     0.174420   \n",
              "number of floors                                  0.502924     0.354743   \n",
              "waterfront present                                0.060104     0.105837   \n",
              "number of views                                   0.183789     0.287728   \n",
              "condition of the house                           -0.128232    -0.063358   \n",
              "grade of the house                                0.663054     0.761835   \n",
              "Area of the house(excluding basement)             0.684391     0.875793   \n",
              "Area of the basement                              0.287190     0.441491   \n",
              "Built Year                                        0.498127     0.309602   \n",
              "Renovation Year                                   0.049669     0.059400   \n",
              "Postal Code                                      -0.105546    -0.080303   \n",
              "Lattitude                                         0.031156     0.054518   \n",
              "Longitude                                         0.223904     0.240208   \n",
              "living_area_renov                                 0.570530     0.757571   \n",
              "lot_area_renov                                    0.078627     0.180312   \n",
              "Number of schools nearby                          0.002180     0.002370   \n",
              "Distance from the airport                         0.009206     0.002511   \n",
              "Price                                             0.531735     0.712169   \n",
              "\n",
              "                                       lot area  number of floors  \\\n",
              "id                                    -0.100269         -0.312305   \n",
              "Date                                   0.004392         -0.010335   \n",
              "number of bedrooms                     0.034416          0.177294   \n",
              "number of bathrooms                    0.080806          0.502924   \n",
              "living area                            0.174420          0.354743   \n",
              "lot area                               1.000000         -0.004138   \n",
              "number of floors                      -0.004138          1.000000   \n",
              "waterfront present                     0.026282          0.016316   \n",
              "number of views                        0.078308          0.020153   \n",
              "condition of the house                -0.008548         -0.269928   \n",
              "grade of the house                     0.110546          0.463082   \n",
              "Area of the house(excluding basement)  0.183553          0.525643   \n",
              "Area of the basement                   0.019755         -0.242976   \n",
              "Built Year                             0.051615          0.481565   \n",
              "Renovation Year                        0.006848          0.006705   \n",
              "Postal Code                            0.070131         -0.129788   \n",
              "Lattitude                             -0.090983          0.050731   \n",
              "Longitude                              0.221432          0.127550   \n",
              "living_area_renov                      0.149744          0.285093   \n",
              "lot_area_renov                         0.706812         -0.010120   \n",
              "Number of schools nearby              -0.012671         -0.007579   \n",
              "Distance from the airport              0.003291          0.016567   \n",
              "Price                                  0.081992          0.262732   \n",
              "\n",
              "                                       waterfront present  number of views  \\\n",
              "id                                              -0.112937        -0.293004   \n",
              "Date                                             0.012006        -0.004782   \n",
              "number of bedrooms                              -0.006257         0.078665   \n",
              "number of bathrooms                              0.060104         0.183789   \n",
              "living area                                      0.105837         0.287728   \n",
              "lot area                                         0.026282         0.078308   \n",
              "number of floors                                 0.016316         0.020153   \n",
              "waterfront present                               1.000000         0.400206   \n",
              "number of views                                  0.400206         1.000000   \n",
              "condition of the house                           0.018644         0.052533   \n",
              "grade of the house                               0.079831         0.254532   \n",
              "Area of the house(excluding basement)            0.071865         0.162672   \n",
              "Area of the basement                             0.085441         0.293062   \n",
              "Built Year                                      -0.024226        -0.055357   \n",
              "Renovation Year                                  0.085865         0.102944   \n",
              "Postal Code                                      0.038318         0.039268   \n",
              "Lattitude                                       -0.021795        -0.004555   \n",
              "Longitude                                       -0.047791        -0.079706   \n",
              "living_area_renov                                0.085743         0.281452   \n",
              "lot_area_renov                                   0.032055         0.072300   \n",
              "Number of schools nearby                         0.001563         0.008004   \n",
              "Distance from the airport                        0.001448        -0.001657   \n",
              "Price                                            0.263687         0.395973   \n",
              "\n",
              "                                       condition of the house  ...  \\\n",
              "id                                                  -0.045061  ...   \n",
              "Date                                                -0.027402  ...   \n",
              "number of bedrooms                                   0.026597  ...   \n",
              "number of bathrooms                                 -0.128232  ...   \n",
              "living area                                         -0.063358  ...   \n",
              "lot area                                            -0.008548  ...   \n",
              "number of floors                                    -0.269928  ...   \n",
              "waterfront present                                   0.018644  ...   \n",
              "number of views                                      0.052533  ...   \n",
              "condition of the house                               1.000000  ...   \n",
              "grade of the house                                  -0.152530  ...   \n",
              "Area of the house(excluding basement)               -0.167695  ...   \n",
              "Area of the basement                                 0.180609  ...   \n",
              "Built Year                                          -0.381718  ...   \n",
              "Renovation Year                                     -0.062126  ...   \n",
              "Postal Code                                          0.045334  ...   \n",
              "Lattitude                                           -0.002998  ...   \n",
              "Longitude                                           -0.121189  ...   \n",
              "living_area_renov                                   -0.099743  ...   \n",
              "lot_area_renov                                      -0.004748  ...   \n",
              "Number of schools nearby                            -0.006939  ...   \n",
              "Distance from the airport                           -0.002136  ...   \n",
              "Price                                                0.041376  ...   \n",
              "\n",
              "                                       Built Year  Renovation Year  \\\n",
              "id                                      -0.068645        -0.109155   \n",
              "Date                                    -0.005869        -0.011636   \n",
              "number of bedrooms                       0.152954         0.016132   \n",
              "number of bathrooms                      0.498127         0.049669   \n",
              "living area                              0.309602         0.059400   \n",
              "lot area                                 0.051615         0.006848   \n",
              "number of floors                         0.481565         0.006705   \n",
              "waterfront present                      -0.024226         0.085865   \n",
              "number of views                         -0.055357         0.102944   \n",
              "condition of the house                  -0.381718        -0.062126   \n",
              "grade of the house                       0.440358         0.014501   \n",
              "Area of the house(excluding basement)    0.419369         0.025727   \n",
              "Area of the basement                    -0.138843         0.075104   \n",
              "Built Year                               1.000000        -0.233683   \n",
              "Renovation Year                         -0.233683         1.000000   \n",
              "Postal Code                             -0.062349         0.018006   \n",
              "Lattitude                               -0.143153         0.028908   \n",
              "Longitude                                0.414591        -0.080050   \n",
              "living_area_renov                        0.328625        -0.002601   \n",
              "lot_area_renov                           0.072874         0.005869   \n",
              "Number of schools nearby                -0.001631        -0.000826   \n",
              "Distance from the airport               -0.003968         0.005342   \n",
              "Price                                    0.050307         0.133173   \n",
              "\n",
              "                                       Postal Code  Lattitude  Longitude  \\\n",
              "id                                        0.294709  -0.479334  -0.070841   \n",
              "Date                                      0.018243  -0.023327  -0.018231   \n",
              "number of bedrooms                       -0.044156  -0.013163   0.135712   \n",
              "number of bathrooms                      -0.105546   0.031156   0.223904   \n",
              "living area                              -0.080303   0.054518   0.240208   \n",
              "lot area                                  0.070131  -0.090983   0.221432   \n",
              "number of floors                         -0.129788   0.050731   0.127550   \n",
              "waterfront present                        0.038318  -0.021795  -0.047791   \n",
              "number of views                           0.039268  -0.004555  -0.079706   \n",
              "condition of the house                    0.045334  -0.002998  -0.121189   \n",
              "grade of the house                       -0.146342   0.115256   0.203754   \n",
              "Area of the house(excluding basement)    -0.083730  -0.000088   0.345899   \n",
              "Area of the basement                     -0.010542   0.112989  -0.145879   \n",
              "Built Year                               -0.062349  -0.143153   0.414591   \n",
              "Renovation Year                           0.018006   0.028908  -0.080050   \n",
              "Postal Code                               1.000000  -0.310172  -0.099003   \n",
              "Lattitude                                -0.310172   1.000000  -0.131472   \n",
              "Longitude                                -0.099003  -0.131472   1.000000   \n",
              "living_area_renov                        -0.108454   0.046148   0.341221   \n",
              "lot_area_renov                            0.077483  -0.091622   0.258066   \n",
              "Number of schools nearby                  0.010605   0.014949  -0.010163   \n",
              "Distance from the airport                 0.011528   0.007193  -0.003100   \n",
              "Price                                    -0.115908   0.297490   0.024414   \n",
              "\n",
              "                                       living_area_renov  lot_area_renov  \\\n",
              "id                                             -0.599900       -0.089604   \n",
              "Date                                           -0.032495       -0.000050   \n",
              "number of bedrooms                              0.389855        0.029400   \n",
              "number of bathrooms                             0.570530        0.078627   \n",
              "living area                                     0.757571        0.180312   \n",
              "lot area                                        0.149744        0.706812   \n",
              "number of floors                                0.285093       -0.010120   \n",
              "waterfront present                              0.085743        0.032055   \n",
              "number of views                                 0.281452        0.072300   \n",
              "condition of the house                         -0.099743       -0.004748   \n",
              "grade of the house                              0.720019        0.116725   \n",
              "Area of the house(excluding basement)           0.737744        0.194670   \n",
              "Area of the basement                            0.196403        0.011283   \n",
              "Built Year                                      0.328625        0.072874   \n",
              "Renovation Year                                -0.002601        0.005869   \n",
              "Postal Code                                    -0.108454        0.077483   \n",
              "Lattitude                                       0.046148       -0.091622   \n",
              "Longitude                                       0.341221        0.258066   \n",
              "living_area_renov                               1.000000        0.189225   \n",
              "lot_area_renov                                  0.189225        1.000000   \n",
              "Number of schools nearby                       -0.001203       -0.025014   \n",
              "Distance from the airport                      -0.005673       -0.014587   \n",
              "Price                                           0.584924        0.075535   \n",
              "\n",
              "                                       Number of schools nearby  \\\n",
              "id                                                    -0.004821   \n",
              "Date                                                  -0.004071   \n",
              "number of bedrooms                                     0.003397   \n",
              "number of bathrooms                                    0.002180   \n",
              "living area                                            0.002370   \n",
              "lot area                                              -0.012671   \n",
              "number of floors                                      -0.007579   \n",
              "waterfront present                                     0.001563   \n",
              "number of views                                        0.008004   \n",
              "condition of the house                                -0.006939   \n",
              "grade of the house                                     0.000986   \n",
              "Area of the house(excluding basement)                 -0.002894   \n",
              "Area of the basement                                   0.010284   \n",
              "Built Year                                            -0.001631   \n",
              "Renovation Year                                       -0.000826   \n",
              "Postal Code                                            0.010605   \n",
              "Lattitude                                              0.014949   \n",
              "Longitude                                             -0.010163   \n",
              "living_area_renov                                     -0.001203   \n",
              "lot_area_renov                                        -0.025014   \n",
              "Number of schools nearby                               1.000000   \n",
              "Distance from the airport                              0.004035   \n",
              "Price                                                  0.009890   \n",
              "\n",
              "                                       Distance from the airport     Price  \n",
              "id                                                     -0.004542 -0.773114  \n",
              "Date                                                    0.011457 -0.027919  \n",
              "number of bedrooms                                     -0.006157  0.308460  \n",
              "number of bathrooms                                     0.009206  0.531735  \n",
              "living area                                             0.002511  0.712169  \n",
              "lot area                                                0.003291  0.081992  \n",
              "number of floors                                        0.016567  0.262732  \n",
              "waterfront present                                      0.001448  0.263687  \n",
              "number of views                                        -0.001657  0.395973  \n",
              "condition of the house                                 -0.002136  0.041376  \n",
              "grade of the house                                      0.004940  0.671814  \n",
              "Area of the house(excluding basement)                   0.001222  0.615220  \n",
              "Area of the basement                                    0.002926  0.330202  \n",
              "Built Year                                             -0.003968  0.050307  \n",
              "Renovation Year                                         0.005342  0.133173  \n",
              "Postal Code                                             0.011528 -0.115908  \n",
              "Lattitude                                               0.007193  0.297490  \n",
              "Longitude                                              -0.003100  0.024414  \n",
              "living_area_renov                                      -0.005673  0.584924  \n",
              "lot_area_renov                                         -0.014587  0.075535  \n",
              "Number of schools nearby                                0.004035  0.009890  \n",
              "Distance from the airport                               1.000000  0.003804  \n",
              "Price                                                   0.003804  1.000000  \n",
              "\n",
              "[23 rows x 23 columns]"
            ],
            "text/html": [
              "\n",
              "  <div id=\"df-707085e3-db94-41fd-9e46-914d5a924bae\">\n",
              "    <div class=\"colab-df-container\">\n",
              "      <div>\n",
              "<style scoped>\n",
              "    .dataframe tbody tr th:only-of-type {\n",
              "        vertical-align: middle;\n",
              "    }\n",
              "\n",
              "    .dataframe tbody tr th {\n",
              "        vertical-align: top;\n",
              "    }\n",
              "\n",
              "    .dataframe thead th {\n",
              "        text-align: right;\n",
              "    }\n",
              "</style>\n",
              "<table border=\"1\" class=\"dataframe\">\n",
              "  <thead>\n",
              "    <tr style=\"text-align: right;\">\n",
              "      <th></th>\n",
              "      <th>id</th>\n",
              "      <th>Date</th>\n",
              "      <th>number of bedrooms</th>\n",
              "      <th>number of bathrooms</th>\n",
              "      <th>living area</th>\n",
              "      <th>lot area</th>\n",
              "      <th>number of floors</th>\n",
              "      <th>waterfront present</th>\n",
              "      <th>number of views</th>\n",
              "      <th>condition of the house</th>\n",
              "      <th>...</th>\n",
              "      <th>Built Year</th>\n",
              "      <th>Renovation Year</th>\n",
              "      <th>Postal Code</th>\n",
              "      <th>Lattitude</th>\n",
              "      <th>Longitude</th>\n",
              "      <th>living_area_renov</th>\n",
              "      <th>lot_area_renov</th>\n",
              "      <th>Number of schools nearby</th>\n",
              "      <th>Distance from the airport</th>\n",
              "      <th>Price</th>\n",
              "    </tr>\n",
              "  </thead>\n",
              "  <tbody>\n",
              "    <tr>\n",
              "      <th>id</th>\n",
              "      <td>1.000000</td>\n",
              "      <td>0.045966</td>\n",
              "      <td>-0.329034</td>\n",
              "      <td>-0.516909</td>\n",
              "      <td>-0.648127</td>\n",
              "      <td>-0.100269</td>\n",
              "      <td>-0.312305</td>\n",
              "      <td>-0.112937</td>\n",
              "      <td>-0.293004</td>\n",
              "      <td>-0.045061</td>\n",
              "      <td>...</td>\n",
              "      <td>-0.068645</td>\n",
              "      <td>-0.109155</td>\n",
              "      <td>0.294709</td>\n",
              "      <td>-0.479334</td>\n",
              "      <td>-0.070841</td>\n",
              "      <td>-0.599900</td>\n",
              "      <td>-0.089604</td>\n",
              "      <td>-0.004821</td>\n",
              "      <td>-0.004542</td>\n",
              "      <td>-0.773114</td>\n",
              "    </tr>\n",
              "    <tr>\n",
              "      <th>Date</th>\n",
              "      <td>0.045966</td>\n",
              "      <td>1.000000</td>\n",
              "      <td>-0.015663</td>\n",
              "      <td>-0.026485</td>\n",
              "      <td>-0.021958</td>\n",
              "      <td>0.004392</td>\n",
              "      <td>-0.010335</td>\n",
              "      <td>0.012006</td>\n",
              "      <td>-0.004782</td>\n",
              "      <td>-0.027402</td>\n",
              "      <td>...</td>\n",
              "      <td>-0.005869</td>\n",
              "      <td>-0.011636</td>\n",
              "      <td>0.018243</td>\n",
              "      <td>-0.023327</td>\n",
              "      <td>-0.018231</td>\n",
              "      <td>-0.032495</td>\n",
              "      <td>-0.000050</td>\n",
              "      <td>-0.004071</td>\n",
              "      <td>0.011457</td>\n",
              "      <td>-0.027919</td>\n",
              "    </tr>\n",
              "    <tr>\n",
              "      <th>number of bedrooms</th>\n",
              "      <td>-0.329034</td>\n",
              "      <td>-0.015663</td>\n",
              "      <td>1.000000</td>\n",
              "      <td>0.509784</td>\n",
              "      <td>0.570526</td>\n",
              "      <td>0.034416</td>\n",
              "      <td>0.177294</td>\n",
              "      <td>-0.006257</td>\n",
              "      <td>0.078665</td>\n",
              "      <td>0.026597</td>\n",
              "      <td>...</td>\n",
              "      <td>0.152954</td>\n",
              "      <td>0.016132</td>\n",
              "      <td>-0.044156</td>\n",
              "      <td>-0.013163</td>\n",
              "      <td>0.135712</td>\n",
              "      <td>0.389855</td>\n",
              "      <td>0.029400</td>\n",
              "      <td>0.003397</td>\n",
              "      <td>-0.006157</td>\n",
              "      <td>0.308460</td>\n",
              "    </tr>\n",
              "    <tr>\n",
              "      <th>number of bathrooms</th>\n",
              "      <td>-0.516909</td>\n",
              "      <td>-0.026485</td>\n",
              "      <td>0.509784</td>\n",
              "      <td>1.000000</td>\n",
              "      <td>0.753517</td>\n",
              "      <td>0.080806</td>\n",
              "      <td>0.502924</td>\n",
              "      <td>0.060104</td>\n",
              "      <td>0.183789</td>\n",
              "      <td>-0.128232</td>\n",
              "      <td>...</td>\n",
              "      <td>0.498127</td>\n",
              "      <td>0.049669</td>\n",
              "      <td>-0.105546</td>\n",
              "      <td>0.031156</td>\n",
              "      <td>0.223904</td>\n",
              "      <td>0.570530</td>\n",
              "      <td>0.078627</td>\n",
              "      <td>0.002180</td>\n",
              "      <td>0.009206</td>\n",
              "      <td>0.531735</td>\n",
              "    </tr>\n",
              "    <tr>\n",
              "      <th>living area</th>\n",
              "      <td>-0.648127</td>\n",
              "      <td>-0.021958</td>\n",
              "      <td>0.570526</td>\n",
              "      <td>0.753517</td>\n",
              "      <td>1.000000</td>\n",
              "      <td>0.174420</td>\n",
              "      <td>0.354743</td>\n",
              "      <td>0.105837</td>\n",
              "      <td>0.287728</td>\n",
              "      <td>-0.063358</td>\n",
              "      <td>...</td>\n",
              "      <td>0.309602</td>\n",
              "      <td>0.059400</td>\n",
              "      <td>-0.080303</td>\n",
              "      <td>0.054518</td>\n",
              "      <td>0.240208</td>\n",
              "      <td>0.757571</td>\n",
              "      <td>0.180312</td>\n",
              "      <td>0.002370</td>\n",
              "      <td>0.002511</td>\n",
              "      <td>0.712169</td>\n",
              "    </tr>\n",
              "    <tr>\n",
              "      <th>lot area</th>\n",
              "      <td>-0.100269</td>\n",
              "      <td>0.004392</td>\n",
              "      <td>0.034416</td>\n",
              "      <td>0.080806</td>\n",
              "      <td>0.174420</td>\n",
              "      <td>1.000000</td>\n",
              "      <td>-0.004138</td>\n",
              "      <td>0.026282</td>\n",
              "      <td>0.078308</td>\n",
              "      <td>-0.008548</td>\n",
              "      <td>...</td>\n",
              "      <td>0.051615</td>\n",
              "      <td>0.006848</td>\n",
              "      <td>0.070131</td>\n",
              "      <td>-0.090983</td>\n",
              "      <td>0.221432</td>\n",
              "      <td>0.149744</td>\n",
              "      <td>0.706812</td>\n",
              "      <td>-0.012671</td>\n",
              "      <td>0.003291</td>\n",
              "      <td>0.081992</td>\n",
              "    </tr>\n",
              "    <tr>\n",
              "      <th>number of floors</th>\n",
              "      <td>-0.312305</td>\n",
              "      <td>-0.010335</td>\n",
              "      <td>0.177294</td>\n",
              "      <td>0.502924</td>\n",
              "      <td>0.354743</td>\n",
              "      <td>-0.004138</td>\n",
              "      <td>1.000000</td>\n",
              "      <td>0.016316</td>\n",
              "      <td>0.020153</td>\n",
              "      <td>-0.269928</td>\n",
              "      <td>...</td>\n",
              "      <td>0.481565</td>\n",
              "      <td>0.006705</td>\n",
              "      <td>-0.129788</td>\n",
              "      <td>0.050731</td>\n",
              "      <td>0.127550</td>\n",
              "      <td>0.285093</td>\n",
              "      <td>-0.010120</td>\n",
              "      <td>-0.007579</td>\n",
              "      <td>0.016567</td>\n",
              "      <td>0.262732</td>\n",
              "    </tr>\n",
              "    <tr>\n",
              "      <th>waterfront present</th>\n",
              "      <td>-0.112937</td>\n",
              "      <td>0.012006</td>\n",
              "      <td>-0.006257</td>\n",
              "      <td>0.060104</td>\n",
              "      <td>0.105837</td>\n",
              "      <td>0.026282</td>\n",
              "      <td>0.016316</td>\n",
              "      <td>1.000000</td>\n",
              "      <td>0.400206</td>\n",
              "      <td>0.018644</td>\n",
              "      <td>...</td>\n",
              "      <td>-0.024226</td>\n",
              "      <td>0.085865</td>\n",
              "      <td>0.038318</td>\n",
              "      <td>-0.021795</td>\n",
              "      <td>-0.047791</td>\n",
              "      <td>0.085743</td>\n",
              "      <td>0.032055</td>\n",
              "      <td>0.001563</td>\n",
              "      <td>0.001448</td>\n",
              "      <td>0.263687</td>\n",
              "    </tr>\n",
              "    <tr>\n",
              "      <th>number of views</th>\n",
              "      <td>-0.293004</td>\n",
              "      <td>-0.004782</td>\n",
              "      <td>0.078665</td>\n",
              "      <td>0.183789</td>\n",
              "      <td>0.287728</td>\n",
              "      <td>0.078308</td>\n",
              "      <td>0.020153</td>\n",
              "      <td>0.400206</td>\n",
              "      <td>1.000000</td>\n",
              "      <td>0.052533</td>\n",
              "      <td>...</td>\n",
              "      <td>-0.055357</td>\n",
              "      <td>0.102944</td>\n",
              "      <td>0.039268</td>\n",
              "      <td>-0.004555</td>\n",
              "      <td>-0.079706</td>\n",
              "      <td>0.281452</td>\n",
              "      <td>0.072300</td>\n",
              "      <td>0.008004</td>\n",
              "      <td>-0.001657</td>\n",
              "      <td>0.395973</td>\n",
              "    </tr>\n",
              "    <tr>\n",
              "      <th>condition of the house</th>\n",
              "      <td>-0.045061</td>\n",
              "      <td>-0.027402</td>\n",
              "      <td>0.026597</td>\n",
              "      <td>-0.128232</td>\n",
              "      <td>-0.063358</td>\n",
              "      <td>-0.008548</td>\n",
              "      <td>-0.269928</td>\n",
              "      <td>0.018644</td>\n",
              "      <td>0.052533</td>\n",
              "      <td>1.000000</td>\n",
              "      <td>...</td>\n",
              "      <td>-0.381718</td>\n",
              "      <td>-0.062126</td>\n",
              "      <td>0.045334</td>\n",
              "      <td>-0.002998</td>\n",
              "      <td>-0.121189</td>\n",
              "      <td>-0.099743</td>\n",
              "      <td>-0.004748</td>\n",
              "      <td>-0.006939</td>\n",
              "      <td>-0.002136</td>\n",
              "      <td>0.041376</td>\n",
              "    </tr>\n",
              "    <tr>\n",
              "      <th>grade of the house</th>\n",
              "      <td>-0.673448</td>\n",
              "      <td>-0.033097</td>\n",
              "      <td>0.352945</td>\n",
              "      <td>0.663054</td>\n",
              "      <td>0.761835</td>\n",
              "      <td>0.110546</td>\n",
              "      <td>0.463082</td>\n",
              "      <td>0.079831</td>\n",
              "      <td>0.254532</td>\n",
              "      <td>-0.152530</td>\n",
              "      <td>...</td>\n",
              "      <td>0.440358</td>\n",
              "      <td>0.014501</td>\n",
              "      <td>-0.146342</td>\n",
              "      <td>0.115256</td>\n",
              "      <td>0.203754</td>\n",
              "      <td>0.720019</td>\n",
              "      <td>0.116725</td>\n",
              "      <td>0.000986</td>\n",
              "      <td>0.004940</td>\n",
              "      <td>0.671814</td>\n",
              "    </tr>\n",
              "    <tr>\n",
              "      <th>Area of the house(excluding basement)</th>\n",
              "      <td>-0.565116</td>\n",
              "      <td>-0.015994</td>\n",
              "      <td>0.473599</td>\n",
              "      <td>0.684391</td>\n",
              "      <td>0.875793</td>\n",
              "      <td>0.183553</td>\n",
              "      <td>0.525643</td>\n",
              "      <td>0.071865</td>\n",
              "      <td>0.162672</td>\n",
              "      <td>-0.167695</td>\n",
              "      <td>...</td>\n",
              "      <td>0.419369</td>\n",
              "      <td>0.025727</td>\n",
              "      <td>-0.083730</td>\n",
              "      <td>-0.000088</td>\n",
              "      <td>0.345899</td>\n",
              "      <td>0.737744</td>\n",
              "      <td>0.194670</td>\n",
              "      <td>-0.002894</td>\n",
              "      <td>0.001222</td>\n",
              "      <td>0.615220</td>\n",
              "    </tr>\n",
              "    <tr>\n",
              "      <th>Area of the basement</th>\n",
              "      <td>-0.290806</td>\n",
              "      <td>-0.015711</td>\n",
              "      <td>0.300332</td>\n",
              "      <td>0.287190</td>\n",
              "      <td>0.441491</td>\n",
              "      <td>0.019755</td>\n",
              "      <td>-0.242976</td>\n",
              "      <td>0.085441</td>\n",
              "      <td>0.293062</td>\n",
              "      <td>0.180609</td>\n",
              "      <td>...</td>\n",
              "      <td>-0.138843</td>\n",
              "      <td>0.075104</td>\n",
              "      <td>-0.010542</td>\n",
              "      <td>0.112989</td>\n",
              "      <td>-0.145879</td>\n",
              "      <td>0.196403</td>\n",
              "      <td>0.011283</td>\n",
              "      <td>0.010284</td>\n",
              "      <td>0.002926</td>\n",
              "      <td>0.330202</td>\n",
              "    </tr>\n",
              "    <tr>\n",
              "      <th>Built Year</th>\n",
              "      <td>-0.068645</td>\n",
              "      <td>-0.005869</td>\n",
              "      <td>0.152954</td>\n",
              "      <td>0.498127</td>\n",
              "      <td>0.309602</td>\n",
              "      <td>0.051615</td>\n",
              "      <td>0.481565</td>\n",
              "      <td>-0.024226</td>\n",
              "      <td>-0.055357</td>\n",
              "      <td>-0.381718</td>\n",
              "      <td>...</td>\n",
              "      <td>1.000000</td>\n",
              "      <td>-0.233683</td>\n",
              "      <td>-0.062349</td>\n",
              "      <td>-0.143153</td>\n",
              "      <td>0.414591</td>\n",
              "      <td>0.328625</td>\n",
              "      <td>0.072874</td>\n",
              "      <td>-0.001631</td>\n",
              "      <td>-0.003968</td>\n",
              "      <td>0.050307</td>\n",
              "    </tr>\n",
              "    <tr>\n",
              "      <th>Renovation Year</th>\n",
              "      <td>-0.109155</td>\n",
              "      <td>-0.011636</td>\n",
              "      <td>0.016132</td>\n",
              "      <td>0.049669</td>\n",
              "      <td>0.059400</td>\n",
              "      <td>0.006848</td>\n",
              "      <td>0.006705</td>\n",
              "      <td>0.085865</td>\n",
              "      <td>0.102944</td>\n",
              "      <td>-0.062126</td>\n",
              "      <td>...</td>\n",
              "      <td>-0.233683</td>\n",
              "      <td>1.000000</td>\n",
              "      <td>0.018006</td>\n",
              "      <td>0.028908</td>\n",
              "      <td>-0.080050</td>\n",
              "      <td>-0.002601</td>\n",
              "      <td>0.005869</td>\n",
              "      <td>-0.000826</td>\n",
              "      <td>0.005342</td>\n",
              "      <td>0.133173</td>\n",
              "    </tr>\n",
              "    <tr>\n",
              "      <th>Postal Code</th>\n",
              "      <td>0.294709</td>\n",
              "      <td>0.018243</td>\n",
              "      <td>-0.044156</td>\n",
              "      <td>-0.105546</td>\n",
              "      <td>-0.080303</td>\n",
              "      <td>0.070131</td>\n",
              "      <td>-0.129788</td>\n",
              "      <td>0.038318</td>\n",
              "      <td>0.039268</td>\n",
              "      <td>0.045334</td>\n",
              "      <td>...</td>\n",
              "      <td>-0.062349</td>\n",
              "      <td>0.018006</td>\n",
              "      <td>1.000000</td>\n",
              "      <td>-0.310172</td>\n",
              "      <td>-0.099003</td>\n",
              "      <td>-0.108454</td>\n",
              "      <td>0.077483</td>\n",
              "      <td>0.010605</td>\n",
              "      <td>0.011528</td>\n",
              "      <td>-0.115908</td>\n",
              "    </tr>\n",
              "    <tr>\n",
              "      <th>Lattitude</th>\n",
              "      <td>-0.479334</td>\n",
              "      <td>-0.023327</td>\n",
              "      <td>-0.013163</td>\n",
              "      <td>0.031156</td>\n",
              "      <td>0.054518</td>\n",
              "      <td>-0.090983</td>\n",
              "      <td>0.050731</td>\n",
              "      <td>-0.021795</td>\n",
              "      <td>-0.004555</td>\n",
              "      <td>-0.002998</td>\n",
              "      <td>...</td>\n",
              "      <td>-0.143153</td>\n",
              "      <td>0.028908</td>\n",
              "      <td>-0.310172</td>\n",
              "      <td>1.000000</td>\n",
              "      <td>-0.131472</td>\n",
              "      <td>0.046148</td>\n",
              "      <td>-0.091622</td>\n",
              "      <td>0.014949</td>\n",
              "      <td>0.007193</td>\n",
              "      <td>0.297490</td>\n",
              "    </tr>\n",
              "    <tr>\n",
              "      <th>Longitude</th>\n",
              "      <td>-0.070841</td>\n",
              "      <td>-0.018231</td>\n",
              "      <td>0.135712</td>\n",
              "      <td>0.223904</td>\n",
              "      <td>0.240208</td>\n",
              "      <td>0.221432</td>\n",
              "      <td>0.127550</td>\n",
              "      <td>-0.047791</td>\n",
              "      <td>-0.079706</td>\n",
              "      <td>-0.121189</td>\n",
              "      <td>...</td>\n",
              "      <td>0.414591</td>\n",
              "      <td>-0.080050</td>\n",
              "      <td>-0.099003</td>\n",
              "      <td>-0.131472</td>\n",
              "      <td>1.000000</td>\n",
              "      <td>0.341221</td>\n",
              "      <td>0.258066</td>\n",
              "      <td>-0.010163</td>\n",
              "      <td>-0.003100</td>\n",
              "      <td>0.024414</td>\n",
              "    </tr>\n",
              "    <tr>\n",
              "      <th>living_area_renov</th>\n",
              "      <td>-0.599900</td>\n",
              "      <td>-0.032495</td>\n",
              "      <td>0.389855</td>\n",
              "      <td>0.570530</td>\n",
              "      <td>0.757571</td>\n",
              "      <td>0.149744</td>\n",
              "      <td>0.285093</td>\n",
              "      <td>0.085743</td>\n",
              "      <td>0.281452</td>\n",
              "      <td>-0.099743</td>\n",
              "      <td>...</td>\n",
              "      <td>0.328625</td>\n",
              "      <td>-0.002601</td>\n",
              "      <td>-0.108454</td>\n",
              "      <td>0.046148</td>\n",
              "      <td>0.341221</td>\n",
              "      <td>1.000000</td>\n",
              "      <td>0.189225</td>\n",
              "      <td>-0.001203</td>\n",
              "      <td>-0.005673</td>\n",
              "      <td>0.584924</td>\n",
              "    </tr>\n",
              "    <tr>\n",
              "      <th>lot_area_renov</th>\n",
              "      <td>-0.089604</td>\n",
              "      <td>-0.000050</td>\n",
              "      <td>0.029400</td>\n",
              "      <td>0.078627</td>\n",
              "      <td>0.180312</td>\n",
              "      <td>0.706812</td>\n",
              "      <td>-0.010120</td>\n",
              "      <td>0.032055</td>\n",
              "      <td>0.072300</td>\n",
              "      <td>-0.004748</td>\n",
              "      <td>...</td>\n",
              "      <td>0.072874</td>\n",
              "      <td>0.005869</td>\n",
              "      <td>0.077483</td>\n",
              "      <td>-0.091622</td>\n",
              "      <td>0.258066</td>\n",
              "      <td>0.189225</td>\n",
              "      <td>1.000000</td>\n",
              "      <td>-0.025014</td>\n",
              "      <td>-0.014587</td>\n",
              "      <td>0.075535</td>\n",
              "    </tr>\n",
              "    <tr>\n",
              "      <th>Number of schools nearby</th>\n",
              "      <td>-0.004821</td>\n",
              "      <td>-0.004071</td>\n",
              "      <td>0.003397</td>\n",
              "      <td>0.002180</td>\n",
              "      <td>0.002370</td>\n",
              "      <td>-0.012671</td>\n",
              "      <td>-0.007579</td>\n",
              "      <td>0.001563</td>\n",
              "      <td>0.008004</td>\n",
              "      <td>-0.006939</td>\n",
              "      <td>...</td>\n",
              "      <td>-0.001631</td>\n",
              "      <td>-0.000826</td>\n",
              "      <td>0.010605</td>\n",
              "      <td>0.014949</td>\n",
              "      <td>-0.010163</td>\n",
              "      <td>-0.001203</td>\n",
              "      <td>-0.025014</td>\n",
              "      <td>1.000000</td>\n",
              "      <td>0.004035</td>\n",
              "      <td>0.009890</td>\n",
              "    </tr>\n",
              "    <tr>\n",
              "      <th>Distance from the airport</th>\n",
              "      <td>-0.004542</td>\n",
              "      <td>0.011457</td>\n",
              "      <td>-0.006157</td>\n",
              "      <td>0.009206</td>\n",
              "      <td>0.002511</td>\n",
              "      <td>0.003291</td>\n",
              "      <td>0.016567</td>\n",
              "      <td>0.001448</td>\n",
              "      <td>-0.001657</td>\n",
              "      <td>-0.002136</td>\n",
              "      <td>...</td>\n",
              "      <td>-0.003968</td>\n",
              "      <td>0.005342</td>\n",
              "      <td>0.011528</td>\n",
              "      <td>0.007193</td>\n",
              "      <td>-0.003100</td>\n",
              "      <td>-0.005673</td>\n",
              "      <td>-0.014587</td>\n",
              "      <td>0.004035</td>\n",
              "      <td>1.000000</td>\n",
              "      <td>0.003804</td>\n",
              "    </tr>\n",
              "    <tr>\n",
              "      <th>Price</th>\n",
              "      <td>-0.773114</td>\n",
              "      <td>-0.027919</td>\n",
              "      <td>0.308460</td>\n",
              "      <td>0.531735</td>\n",
              "      <td>0.712169</td>\n",
              "      <td>0.081992</td>\n",
              "      <td>0.262732</td>\n",
              "      <td>0.263687</td>\n",
              "      <td>0.395973</td>\n",
              "      <td>0.041376</td>\n",
              "      <td>...</td>\n",
              "      <td>0.050307</td>\n",
              "      <td>0.133173</td>\n",
              "      <td>-0.115908</td>\n",
              "      <td>0.297490</td>\n",
              "      <td>0.024414</td>\n",
              "      <td>0.584924</td>\n",
              "      <td>0.075535</td>\n",
              "      <td>0.009890</td>\n",
              "      <td>0.003804</td>\n",
              "      <td>1.000000</td>\n",
              "    </tr>\n",
              "  </tbody>\n",
              "</table>\n",
              "<p>23 rows × 23 columns</p>\n",
              "</div>\n",
              "      <button class=\"colab-df-convert\" onclick=\"convertToInteractive('df-707085e3-db94-41fd-9e46-914d5a924bae')\"\n",
              "              title=\"Convert this dataframe to an interactive table.\"\n",
              "              style=\"display:none;\">\n",
              "        \n",
              "  <svg xmlns=\"http://www.w3.org/2000/svg\" height=\"24px\"viewBox=\"0 0 24 24\"\n",
              "       width=\"24px\">\n",
              "    <path d=\"M0 0h24v24H0V0z\" fill=\"none\"/>\n",
              "    <path d=\"M18.56 5.44l.94 2.06.94-2.06 2.06-.94-2.06-.94-.94-2.06-.94 2.06-2.06.94zm-11 1L8.5 8.5l.94-2.06 2.06-.94-2.06-.94L8.5 2.5l-.94 2.06-2.06.94zm10 10l.94 2.06.94-2.06 2.06-.94-2.06-.94-.94-2.06-.94 2.06-2.06.94z\"/><path d=\"M17.41 7.96l-1.37-1.37c-.4-.4-.92-.59-1.43-.59-.52 0-1.04.2-1.43.59L10.3 9.45l-7.72 7.72c-.78.78-.78 2.05 0 2.83L4 21.41c.39.39.9.59 1.41.59.51 0 1.02-.2 1.41-.59l7.78-7.78 2.81-2.81c.8-.78.8-2.07 0-2.86zM5.41 20L4 18.59l7.72-7.72 1.47 1.35L5.41 20z\"/>\n",
              "  </svg>\n",
              "      </button>\n",
              "      \n",
              "  <style>\n",
              "    .colab-df-container {\n",
              "      display:flex;\n",
              "      flex-wrap:wrap;\n",
              "      gap: 12px;\n",
              "    }\n",
              "\n",
              "    .colab-df-convert {\n",
              "      background-color: #E8F0FE;\n",
              "      border: none;\n",
              "      border-radius: 50%;\n",
              "      cursor: pointer;\n",
              "      display: none;\n",
              "      fill: #1967D2;\n",
              "      height: 32px;\n",
              "      padding: 0 0 0 0;\n",
              "      width: 32px;\n",
              "    }\n",
              "\n",
              "    .colab-df-convert:hover {\n",
              "      background-color: #E2EBFA;\n",
              "      box-shadow: 0px 1px 2px rgba(60, 64, 67, 0.3), 0px 1px 3px 1px rgba(60, 64, 67, 0.15);\n",
              "      fill: #174EA6;\n",
              "    }\n",
              "\n",
              "    [theme=dark] .colab-df-convert {\n",
              "      background-color: #3B4455;\n",
              "      fill: #D2E3FC;\n",
              "    }\n",
              "\n",
              "    [theme=dark] .colab-df-convert:hover {\n",
              "      background-color: #434B5C;\n",
              "      box-shadow: 0px 1px 3px 1px rgba(0, 0, 0, 0.15);\n",
              "      filter: drop-shadow(0px 1px 2px rgba(0, 0, 0, 0.3));\n",
              "      fill: #FFFFFF;\n",
              "    }\n",
              "  </style>\n",
              "\n",
              "      <script>\n",
              "        const buttonEl =\n",
              "          document.querySelector('#df-707085e3-db94-41fd-9e46-914d5a924bae button.colab-df-convert');\n",
              "        buttonEl.style.display =\n",
              "          google.colab.kernel.accessAllowed ? 'block' : 'none';\n",
              "\n",
              "        async function convertToInteractive(key) {\n",
              "          const element = document.querySelector('#df-707085e3-db94-41fd-9e46-914d5a924bae');\n",
              "          const dataTable =\n",
              "            await google.colab.kernel.invokeFunction('convertToInteractive',\n",
              "                                                     [key], {});\n",
              "          if (!dataTable) return;\n",
              "\n",
              "          const docLinkHtml = 'Like what you see? Visit the ' +\n",
              "            '<a target=\"_blank\" href=https://colab.research.google.com/notebooks/data_table.ipynb>data table notebook</a>'\n",
              "            + ' to learn more about interactive tables.';\n",
              "          element.innerHTML = '';\n",
              "          dataTable['output_type'] = 'display_data';\n",
              "          await google.colab.output.renderOutput(dataTable, element);\n",
              "          const docLink = document.createElement('div');\n",
              "          docLink.innerHTML = docLinkHtml;\n",
              "          element.appendChild(docLink);\n",
              "        }\n",
              "      </script>\n",
              "    </div>\n",
              "  </div>\n",
              "  "
            ]
          },
          "metadata": {},
          "execution_count": 14
        }
      ],
      "source": [
        "df.corr()"
      ]
    },
    {
      "cell_type": "code",
      "execution_count": 15,
      "metadata": {
        "colab": {
          "base_uri": "https://localhost:8080/"
        },
        "id": "2D5e_R8xNcd4",
        "outputId": "bcd013a9-a284-418f-855d-c48d3361db44"
      },
      "outputs": [
        {
          "output_type": "execute_result",
          "data": {
            "text/plain": [
              "array(['id', 'Date', 'number of bedrooms', 'number of bathrooms',\n",
              "       'living area', 'lot area', 'number of floors',\n",
              "       'waterfront present', 'number of views', 'condition of the house',\n",
              "       'grade of the house', 'Area of the house(excluding basement)',\n",
              "       'Area of the basement', 'Built Year', 'Renovation Year',\n",
              "       'Postal Code', 'Lattitude', 'Longitude', 'living_area_renov',\n",
              "       'lot_area_renov', 'Number of schools nearby',\n",
              "       'Distance from the airport', 'Price'], dtype=object)"
            ]
          },
          "metadata": {},
          "execution_count": 15
        }
      ],
      "source": [
        "df.columns.values"
      ]
    },
    {
      "cell_type": "code",
      "execution_count": 16,
      "metadata": {
        "id": "S9Haah82xBE9"
      },
      "outputs": [],
      "source": [
        "df.columns = [c.replace(' ', '_') for c in df.columns]"
      ]
    },
    {
      "cell_type": "code",
      "execution_count": 17,
      "metadata": {
        "colab": {
          "base_uri": "https://localhost:8080/"
        },
        "id": "VE70b-4s-Rel",
        "outputId": "50e28d80-cdeb-45ea-bdf4-12ec3400e21f"
      },
      "outputs": [
        {
          "output_type": "execute_result",
          "data": {
            "text/plain": [
              "array(['id', 'Date', 'number_of_bedrooms', 'number_of_bathrooms',\n",
              "       'living_area', 'lot_area', 'number_of_floors',\n",
              "       'waterfront_present', 'number_of_views', 'condition_of_the_house',\n",
              "       'grade_of_the_house', 'Area_of_the_house(excluding_basement)',\n",
              "       'Area_of_the_basement', 'Built_Year', 'Renovation_Year',\n",
              "       'Postal_Code', 'Lattitude', 'Longitude', 'living_area_renov',\n",
              "       'lot_area_renov', 'Number_of_schools_nearby',\n",
              "       'Distance_from_the_airport', 'Price'], dtype=object)"
            ]
          },
          "metadata": {},
          "execution_count": 17
        }
      ],
      "source": [
        "df.columns.values"
      ]
    },
    {
      "cell_type": "code",
      "execution_count": 18,
      "metadata": {
        "colab": {
          "base_uri": "https://localhost:8080/"
        },
        "id": "ExnwWvKLvMpn",
        "outputId": "a8eb4029-adb2-409c-d30a-363895e05799"
      },
      "outputs": [
        {
          "output_type": "execute_result",
          "data": {
            "text/plain": [
              "array([0, 1])"
            ]
          },
          "metadata": {},
          "execution_count": 18
        }
      ],
      "source": [
        "df.waterfront_present.unique()"
      ]
    },
    {
      "cell_type": "code",
      "execution_count": 19,
      "metadata": {
        "colab": {
          "base_uri": "https://localhost:8080/"
        },
        "id": "nymVfV9-xTE8",
        "outputId": "ae6bbc45-8427-436e-c0e5-aebcb0650671"
      },
      "outputs": [
        {
          "output_type": "execute_result",
          "data": {
            "text/plain": [
              "array([5, 3, 4, 2, 1])"
            ]
          },
          "metadata": {},
          "execution_count": 19
        }
      ],
      "source": [
        "df.condition_of_the_house.unique()"
      ]
    },
    {
      "cell_type": "code",
      "execution_count": 20,
      "metadata": {
        "colab": {
          "base_uri": "https://localhost:8080/"
        },
        "id": "d7NBoJ09xN-e",
        "outputId": "c7e56ed2-4cb3-40ac-9cb4-1f37057f7ed8"
      },
      "outputs": [
        {
          "output_type": "execute_result",
          "data": {
            "text/plain": [
              "0    14508\n",
              "1      112\n",
              "Name: waterfront_present, dtype: int64"
            ]
          },
          "metadata": {},
          "execution_count": 20
        }
      ],
      "source": [
        "df.waterfront_present.value_counts()"
      ]
    },
    {
      "cell_type": "code",
      "execution_count": 21,
      "metadata": {
        "colab": {
          "base_uri": "https://localhost:8080/"
        },
        "id": "mplyxPnOvNMA",
        "outputId": "48f4d3cf-9825-483f-b136-9bc4d6dbb004"
      },
      "outputs": [
        {
          "output_type": "execute_result",
          "data": {
            "text/plain": [
              "3    9350\n",
              "4    3874\n",
              "5    1278\n",
              "2     100\n",
              "1      18\n",
              "Name: condition_of_the_house, dtype: int64"
            ]
          },
          "metadata": {},
          "execution_count": 21
        }
      ],
      "source": [
        "df.condition_of_the_house.value_counts()"
      ]
    },
    {
      "cell_type": "markdown",
      "metadata": {
        "id": "sWIpsL0ut3MX"
      },
      "source": []
    },
    {
      "cell_type": "code",
      "execution_count": 22,
      "metadata": {
        "colab": {
          "base_uri": "https://localhost:8080/"
        },
        "id": "776rH_Gfu0pI",
        "outputId": "38ebc4dc-069d-41a3-8629-2bcaa48ab4bf"
      },
      "outputs": [
        {
          "output_type": "execute_result",
          "data": {
            "text/plain": [
              "0       13954\n",
              "2014       76\n",
              "2013       30\n",
              "2003       27\n",
              "2005       23\n",
              "        ...  \n",
              "1948        1\n",
              "1967        1\n",
              "1944        1\n",
              "1959        1\n",
              "1962        1\n",
              "Name: Renovation_Year, Length: 68, dtype: int64"
            ]
          },
          "metadata": {},
          "execution_count": 22
        }
      ],
      "source": [
        "df.Renovation_Year.value_counts()"
      ]
    },
    {
      "cell_type": "markdown",
      "metadata": {
        "id": "GLygaaRkatSS"
      },
      "source": [
        "**VISUALISATION**"
      ]
    },
    {
      "cell_type": "code",
      "execution_count": 22,
      "metadata": {
        "id": "1BFnjAlCatDU"
      },
      "outputs": [],
      "source": []
    },
    {
      "cell_type": "markdown",
      "metadata": {
        "id": "sD_kfduPu43v"
      },
      "source": [
        "UNIVARIATE ANALYSIS"
      ]
    },
    {
      "cell_type": "code",
      "execution_count": 23,
      "metadata": {
        "id": "ceJxvbrTI7_L"
      },
      "outputs": [],
      "source": [
        "plt.rcParams['figure.figsize']=11,10"
      ]
    },
    {
      "cell_type": "code",
      "execution_count": 24,
      "metadata": {
        "colab": {
          "base_uri": "https://localhost:8080/",
          "height": 1000
        },
        "id": "0Sa3bxzTtMXs",
        "outputId": "975f0044-6bb4-461d-8338-521f8bc1afca"
      },
      "outputs": [
        {
          "output_type": "stream",
          "name": "stderr",
          "text": [
            "<ipython-input-24-a1489e71e013>:2: UserWarning: \n",
            "\n",
            "`distplot` is a deprecated function and will be removed in seaborn v0.14.0.\n",
            "\n",
            "Please adapt your code to use either `displot` (a figure-level function with\n",
            "similar flexibility) or `histplot` (an axes-level function for histograms).\n",
            "\n",
            "For a guide to updating your code to use the new functions, please see\n",
            "https://gist.github.com/mwaskom/de44147ed2974457ad6372750bbe5751\n",
            "\n",
            "  sns.distplot(df.Built_Year, color=\"black\")\n",
            "<ipython-input-24-a1489e71e013>:12: UserWarning: \n",
            "\n",
            "`distplot` is a deprecated function and will be removed in seaborn v0.14.0.\n",
            "\n",
            "Please adapt your code to use either `displot` (a figure-level function with\n",
            "similar flexibility) or `histplot` (an axes-level function for histograms).\n",
            "\n",
            "For a guide to updating your code to use the new functions, please see\n",
            "https://gist.github.com/mwaskom/de44147ed2974457ad6372750bbe5751\n",
            "\n",
            "  sns.distplot(df_filtered[\"Renovation_Year\"], color=\"black\")\n",
            "<ipython-input-24-a1489e71e013>:17: UserWarning: \n",
            "\n",
            "`distplot` is a deprecated function and will be removed in seaborn v0.14.0.\n",
            "\n",
            "Please adapt your code to use either `displot` (a figure-level function with\n",
            "similar flexibility) or `histplot` (an axes-level function for histograms).\n",
            "\n",
            "For a guide to updating your code to use the new functions, please see\n",
            "https://gist.github.com/mwaskom/de44147ed2974457ad6372750bbe5751\n",
            "\n",
            "  sns.distplot(df.living_area_renov)\n",
            "<ipython-input-24-a1489e71e013>:21: UserWarning: \n",
            "\n",
            "`distplot` is a deprecated function and will be removed in seaborn v0.14.0.\n",
            "\n",
            "Please adapt your code to use either `displot` (a figure-level function with\n",
            "similar flexibility) or `histplot` (an axes-level function for histograms).\n",
            "\n",
            "For a guide to updating your code to use the new functions, please see\n",
            "https://gist.github.com/mwaskom/de44147ed2974457ad6372750bbe5751\n",
            "\n",
            "  sns.distplot(df.lot_area_renov)\n"
          ]
        },
        {
          "output_type": "display_data",
          "data": {
            "text/plain": [
              "<Figure size 1100x1000 with 4 Axes>"
            ],
            "image/png": "[encoded data removed]"
          },
          "metadata": {}
        }
      ],
      "source": [
        "\n",
        "\n",
        "plt.subplot(2, 2, 1)\n",
        "sns.distplot(df.Built_Year, color=\"black\")\n",
        "\n",
        "\n",
        "plt.subplot(2, 2, 2)\n",
        "\n",
        "\n",
        "\n",
        "df_filtered = df[df[\"Renovation_Year\"] > 0]\n",
        "\n",
        "\n",
        "sns.distplot(df_filtered[\"Renovation_Year\"], color=\"black\")\n",
        "plt.xlabel(\"Renovation Year for renovated houses-exclude not renovated\")\n",
        "\n",
        "\n",
        "plt.subplot(2, 2, 3)\n",
        "sns.distplot(df.living_area_renov)\n",
        "\n",
        "\n",
        "plt.subplot(2, 2, 4)\n",
        "sns.distplot(df.lot_area_renov)\n",
        "\n",
        "plt.show()\n",
        "\n",
        "\n",
        "\n",
        "\n"
      ]
    },
    {
      "cell_type": "code",
      "execution_count": 25,
      "metadata": {
        "colab": {
          "base_uri": "https://localhost:8080/"
        },
        "id": "1VT9KDU2Moxy",
        "outputId": "bfc97b99-877d-4e67-aba6-2de1bff6b0c4"
      },
      "outputs": [
        {
          "output_type": "execute_result",
          "data": {
            "text/plain": [
              "Index(['id', 'Date', 'number_of_bedrooms', 'number_of_bathrooms',\n",
              "       'living_area', 'lot_area', 'number_of_floors', 'waterfront_present',\n",
              "       'number_of_views', 'condition_of_the_house', 'grade_of_the_house',\n",
              "       'Area_of_the_house(excluding_basement)', 'Area_of_the_basement',\n",
              "       'Built_Year', 'Renovation_Year', 'Postal_Code', 'Lattitude',\n",
              "       'Longitude', 'living_area_renov', 'lot_area_renov',\n",
              "       'Number_of_schools_nearby', 'Distance_from_the_airport', 'Price'],\n",
              "      dtype='object')"
            ]
          },
          "metadata": {},
          "execution_count": 25
        }
      ],
      "source": [
        "df.columns"
      ]
    },
    {
      "cell_type": "code",
      "execution_count": 26,
      "metadata": {
        "id": "ETRZIgz7iUKb"
      },
      "outputs": [],
      "source": [
        "plt.rcParams['figure.figsize']=5,5"
      ]
    },
    {
      "cell_type": "code",
      "execution_count": 27,
      "metadata": {
        "colab": {
          "base_uri": "https://localhost:8080/",
          "height": 487
        },
        "id": "3BM_MJStNij2",
        "outputId": "0b5f4ebb-8bcf-4d75-910c-f09413b659ed"
      },
      "outputs": [
        {
          "output_type": "display_data",
          "data": {
            "text/plain": [
              "<Figure size 500x500 with 1 Axes>"
            ],
            "image/png": "[encoded data removed]"
          },
          "metadata": {}
        }
      ],
      "source": [
        "sns.barplot(x=df.number_of_floors.value_counts().index,y=df.number_of_floors.value_counts())\n",
        "plt.xlabel(\"No.of floors\")\n",
        "plt.ylabel(\"Frequency\")\n",
        "plt.title(\"No.of floors by frequent occurance in houses\")\n",
        "plt.show()"
      ]
    },
    {
      "cell_type": "code",
      "execution_count": 28,
      "metadata": {
        "id": "NZEsVUeHUJY_"
      },
      "outputs": [],
      "source": [
        "#df.condition_of_the_house.plot()"
      ]
    },
    {
      "cell_type": "code",
      "execution_count": 29,
      "metadata": {
        "colab": {
          "base_uri": "https://localhost:8080/",
          "height": 529
        },
        "id": "XnwX_Hh29C1E",
        "outputId": "1566a972-c590-49fb-cb19-ee770dbec6e9"
      },
      "outputs": [
        {
          "output_type": "display_data",
          "data": {
            "text/plain": [
              "<Figure size 500x500 with 1 Axes>"
            ],
            "image/png": "[encoded data removed]"
          },
          "metadata": {}
        }
      ],
      "source": [
        "sns.displot(df.Number_of_schools_nearby)\n",
        "plt.title(\"No.of schools nearby houses\")\n",
        "plt.show()\n"
      ]
    },
    {
      "cell_type": "code",
      "execution_count": 30,
      "metadata": {
        "colab": {
          "base_uri": "https://localhost:8080/"
        },
        "id": "r0pDyTbX8tes",
        "outputId": "a835a5e4-3c44-4699-edf3-c77b9a49fd40"
      },
      "outputs": [
        {
          "output_type": "execute_result",
          "data": {
            "text/plain": [
              "3    9350\n",
              "4    3874\n",
              "5    1278\n",
              "2     100\n",
              "1      18\n",
              "Name: condition_of_the_house, dtype: int64"
            ]
          },
          "metadata": {},
          "execution_count": 30
        }
      ],
      "source": [
        "c = df['condition_of_the_house'].value_counts()\n",
        "c"
      ]
    },
    {
      "cell_type": "markdown",
      "metadata": {
        "id": "a6nhLeew8tHU"
      },
      "source": []
    },
    {
      "cell_type": "code",
      "execution_count": 31,
      "metadata": {
        "id": "9fbCd4skT6Jb"
      },
      "outputs": [],
      "source": [
        "plt.rcParams['figure.figsize']=8,8"
      ]
    },
    {
      "cell_type": "code",
      "execution_count": 32,
      "metadata": {
        "id": "A2ZiBrU0KQAX"
      },
      "outputs": [],
      "source": [
        "l=df.number_of_views"
      ]
    },
    {
      "cell_type": "code",
      "execution_count": 33,
      "metadata": {
        "colab": {
          "base_uri": "https://localhost:8080/",
          "height": 675
        },
        "id": "yAt_IVLo8rxZ",
        "outputId": "b1b30884-4833-453f-dac9-1072fe218b87"
      },
      "outputs": [
        {
          "output_type": "display_data",
          "data": {
            "text/plain": [
              "<Figure size 800x800 with 1 Axes>"
            ],
            "image/png": "[encoded data removed]"
          },
          "metadata": {}
        }
      ],
      "source": [
        "\n",
        "plt.pie(l.value_counts(),labels=l.value_counts().index,autopct=\"%1.1f%%\",shadow=True)\n",
        "plt.title('Number of views')\n",
        "plt.legend(l.unique())\n",
        "\n",
        "plt.show()"
      ]
    },
    {
      "cell_type": "code",
      "execution_count": 34,
      "metadata": {
        "id": "QmWkmKff7Ctn"
      },
      "outputs": [],
      "source": [
        "\n",
        "explode = [0.1] * len(c)\n",
        "explode[0]=0.2\n"
      ]
    },
    {
      "cell_type": "code",
      "execution_count": 35,
      "metadata": {
        "colab": {
          "base_uri": "https://localhost:8080/",
          "height": 598
        },
        "id": "Ym4xeDVqu4M_",
        "outputId": "7cd95bec-f73e-4839-8106-7196d1606459"
      },
      "outputs": [
        {
          "output_type": "display_data",
          "data": {
            "text/plain": [
              "<Figure size 700x700 with 1 Axes>"
            ],
            "image/png": "[encoded data removed]"
          },
          "metadata": {}
        }
      ],
      "source": [
        "plt.rcParams['figure.figsize']=7,7\n",
        "plt.pie(c,explode=explode,labels=c.index,autopct=\"%1.1f%%\",colors=[\"violet\",\"yellow\",\"orange\",\"green\",\"gray\"])\n",
        "plt.title('Grade of the house')\n",
        "plt.legend(labels=c.index)\n",
        "plt.show()"
      ]
    },
    {
      "cell_type": "code",
      "execution_count": 36,
      "metadata": {
        "id": "6RWmrjy7IBtD"
      },
      "outputs": [],
      "source": [
        "plt.rcParams['figure.figsize']=4,4"
      ]
    },
    {
      "cell_type": "code",
      "execution_count": 37,
      "metadata": {
        "colab": {
          "base_uri": "https://localhost:8080/",
          "height": 410
        },
        "id": "oZnLPInEIBck",
        "outputId": "cc543ddd-8c34-44e4-f4b2-cd30166d2d96"
      },
      "outputs": [
        {
          "output_type": "display_data",
          "data": {
            "text/plain": [
              "<Figure size 400x400 with 1 Axes>"
            ],
            "image/png": "[encoded data removed]"
          },
          "metadata": {}
        }
      ],
      "source": [
        "sns.histplot(df['Price'], kde=True,color=\"violet\")\n",
        "plt.title('Distribution of House Prices')\n",
        "plt.xlabel('Price')\n",
        "plt.ylabel('Frequency')\n",
        "plt.show()"
      ]
    },
    {
      "cell_type": "code",
      "execution_count": 38,
      "metadata": {
        "colab": {
          "base_uri": "https://localhost:8080/",
          "height": 410
        },
        "id": "JnWXbdkhvffp",
        "outputId": "fd179127-f7c8-4f5d-aae1-0781c7249ae1"
      },
      "outputs": [
        {
          "output_type": "display_data",
          "data": {
            "text/plain": [
              "<Figure size 400x400 with 1 Axes>"
            ],
            "image/png": "[encoded data removed]"
          },
          "metadata": {}
        }
      ],
      "source": [
        "sns.barplot(x=df.grade_of_the_house.value_counts().index,y=df.grade_of_the_house.value_counts())\n",
        "plt.xlabel('Grade of house')\n",
        "plt.ylabel('value counts')\n",
        "plt.title('Grade of house')\n",
        "plt.show()"
      ]
    },
    {
      "cell_type": "markdown",
      "metadata": {
        "id": "JheAibZYvmpV"
      },
      "source": [
        "BIVARIATE ANALYSIS\n"
      ]
    },
    {
      "cell_type": "code",
      "execution_count": 39,
      "metadata": {
        "colab": {
          "base_uri": "https://localhost:8080/"
        },
        "id": "lMXQ_rUeKbdO",
        "outputId": "77a2b908-2774-4ac4-cc33-1450348ba3bc"
      },
      "outputs": [
        {
          "output_type": "execute_result",
          "data": {
            "text/plain": [
              "array(['id', 'Date', 'number_of_bedrooms', 'number_of_bathrooms',\n",
              "       'living_area', 'lot_area', 'number_of_floors',\n",
              "       'waterfront_present', 'number_of_views', 'condition_of_the_house',\n",
              "       'grade_of_the_house', 'Area_of_the_house(excluding_basement)',\n",
              "       'Area_of_the_basement', 'Built_Year', 'Renovation_Year',\n",
              "       'Postal_Code', 'Lattitude', 'Longitude', 'living_area_renov',\n",
              "       'lot_area_renov', 'Number_of_schools_nearby',\n",
              "       'Distance_from_the_airport', 'Price'], dtype=object)"
            ]
          },
          "metadata": {},
          "execution_count": 39
        }
      ],
      "source": [
        "df.columns.values"
      ]
    },
    {
      "cell_type": "code",
      "execution_count": 40,
      "metadata": {
        "colab": {
          "base_uri": "https://localhost:8080/",
          "height": 607
        },
        "id": "NzQh5xz8kOq8",
        "outputId": "db780239-8209-45ce-e760-8a8d4d7ff2f0"
      },
      "outputs": [
        {
          "output_type": "display_data",
          "data": {
            "text/plain": [
              "<Figure size 600x600 with 3 Axes>"
            ],
            "image/png": "[encoded data removed]"
          },
          "metadata": {}
        }
      ],
      "source": [
        "sns.jointplot(x=\"Number_of_schools_nearby\",y=\"Price\",data=df)\n",
        "plt.show()"
      ]
    },
    {
      "cell_type": "code",
      "execution_count": 41,
      "metadata": {
        "colab": {
          "base_uri": "https://localhost:8080/",
          "height": 607
        },
        "id": "HpO4Aw3TTKsr",
        "outputId": "456e20f2-0ea7-47a7-f147-c3ebee3e41bc"
      },
      "outputs": [
        {
          "output_type": "display_data",
          "data": {
            "text/plain": [
              "<Figure size 600x600 with 3 Axes>"
            ],
            "image/png": "[encoded data removed]"
          },
          "metadata": {}
        }
      ],
      "source": [
        "sns.jointplot(x=\"number_of_floors\",y=\"Price\",data=df)\n",
        "plt.show()"
      ]
    },
    {
      "cell_type": "code",
      "execution_count": 42,
      "metadata": {
        "colab": {
          "base_uri": "https://localhost:8080/",
          "height": 403
        },
        "id": "Sv-ZaSj3eB2Y",
        "outputId": "3993dc43-b687-4060-c52d-8d7156ce5250"
      },
      "outputs": [
        {
          "output_type": "display_data",
          "data": {
            "text/plain": [
              "<Figure size 400x400 with 1 Axes>"
            ],
            "image/png": "[encoded data removed]"
          },
          "metadata": {}
        }
      ],
      "source": [
        "sns.lineplot(x=df.number_of_bathrooms,y=df.Price)\n",
        "plt.show()"
      ]
    },
    {
      "cell_type": "code",
      "execution_count": 43,
      "metadata": {
        "colab": {
          "base_uri": "https://localhost:8080/",
          "height": 403
        },
        "id": "oGECPvNYkCfV",
        "outputId": "13edd5a7-f53f-4a93-8a00-93dd97892165"
      },
      "outputs": [
        {
          "output_type": "display_data",
          "data": {
            "text/plain": [
              "<Figure size 400x400 with 1 Axes>"
            ],
            "image/png": "[encoded data removed]"
          },
          "metadata": {}
        }
      ],
      "source": [
        "sns.scatterplot(x=df.number_of_bedrooms,y=df.Price)\n",
        "plt.show()"
      ]
    },
    {
      "cell_type": "markdown",
      "metadata": {
        "id": "8B0kmscdkCJt"
      },
      "source": []
    },
    {
      "cell_type": "code",
      "execution_count": 44,
      "metadata": {
        "colab": {
          "base_uri": "https://localhost:8080/",
          "height": 420
        },
        "id": "2o6US9Vmvjg5",
        "outputId": "0ca09007-e343-46c2-878c-02eff1fc8a46"
      },
      "outputs": [
        {
          "output_type": "execute_result",
          "data": {
            "text/plain": [
              "<Axes: xlabel='number_of_bedrooms', ylabel='Price'>"
            ]
          },
          "metadata": {},
          "execution_count": 44
        },
        {
          "output_type": "display_data",
          "data": {
            "text/plain": [
              "<Figure size 400x400 with 1 Axes>"
            ],
            "image/png": "[encoded data removed]"
          },
          "metadata": {}
        }
      ],
      "source": [
        "sns.lineplot(x=df.number_of_bedrooms,y=df.Price)\n"
      ]
    },
    {
      "cell_type": "code",
      "execution_count": 45,
      "metadata": {
        "colab": {
          "base_uri": "https://localhost:8080/",
          "height": 403
        },
        "id": "wcxORoAkvvkQ",
        "outputId": "1497d359-0d69-4619-9ec8-963b76e6c066"
      },
      "outputs": [
        {
          "output_type": "display_data",
          "data": {
            "text/plain": [
              "<Figure size 400x400 with 1 Axes>"
            ],
            "image/png": "[encoded data removed]"
          },
          "metadata": {}
        }
      ],
      "source": [
        "sns.scatterplot(x=df.number_of_bathrooms,y=df.Price)\n",
        "plt.show()"
      ]
    },
    {
      "cell_type": "code",
      "execution_count": 45,
      "metadata": {
        "id": "8m9moHo3kKxV"
      },
      "outputs": [],
      "source": []
    },
    {
      "cell_type": "markdown",
      "metadata": {
        "id": "357DADhLvz46"
      },
      "source": [
        "MULTIVARIATE ANALYSIS"
      ]
    },
    {
      "cell_type": "code",
      "execution_count": 46,
      "metadata": {
        "colab": {
          "base_uri": "https://localhost:8080/"
        },
        "id": "MugUWmDiPqJZ",
        "outputId": "64bcc128-84a3-4391-f160-695da3dc68d8"
      },
      "outputs": [
        {
          "output_type": "execute_result",
          "data": {
            "text/plain": [
              "Index(['id', 'Date', 'number_of_bedrooms', 'number_of_bathrooms',\n",
              "       'living_area', 'lot_area', 'number_of_floors', 'waterfront_present',\n",
              "       'number_of_views', 'condition_of_the_house', 'grade_of_the_house',\n",
              "       'Area_of_the_house(excluding_basement)', 'Area_of_the_basement',\n",
              "       'Built_Year', 'Renovation_Year', 'Postal_Code', 'Lattitude',\n",
              "       'Longitude', 'living_area_renov', 'lot_area_renov',\n",
              "       'Number_of_schools_nearby', 'Distance_from_the_airport', 'Price'],\n",
              "      dtype='object')"
            ]
          },
          "metadata": {},
          "execution_count": 46
        }
      ],
      "source": [
        "df.columns"
      ]
    },
    {
      "cell_type": "code",
      "execution_count": 47,
      "metadata": {
        "colab": {
          "base_uri": "https://localhost:8080/",
          "height": 487
        },
        "id": "sYKW584HPte9",
        "outputId": "df3dace2-14f5-4501-abb2-232ae167fce6"
      },
      "outputs": [
        {
          "output_type": "execute_result",
          "data": {
            "text/plain": [
              "       number_of_bedrooms  number_of_bathrooms  living_area  lot_area  \\\n",
              "0                       5                 2.50         3650      9050   \n",
              "1                       4                 2.50         2920      4000   \n",
              "2                       5                 2.75         2910      9480   \n",
              "3                       4                 2.50         3310     42998   \n",
              "4                       3                 2.00         2710      4500   \n",
              "...                   ...                  ...          ...       ...   \n",
              "14615                   2                 1.50         1556     20000   \n",
              "14616                   3                 2.00         1680      7000   \n",
              "14617                   2                 1.00         1070      6120   \n",
              "14618                   4                 1.00         1030      6621   \n",
              "14619                   3                 1.00          900      4770   \n",
              "\n",
              "       number_of_floors  waterfront_present  number_of_views  \\\n",
              "0                   2.0                   0                4   \n",
              "1                   1.5                   0                0   \n",
              "2                   1.5                   0                0   \n",
              "3                   2.0                   0                0   \n",
              "4                   1.5                   0                0   \n",
              "...                 ...                 ...              ...   \n",
              "14615               1.0                   0                0   \n",
              "14616               1.5                   0                0   \n",
              "14617               1.0                   0                0   \n",
              "14618               1.0                   0                0   \n",
              "14619               1.0                   0                0   \n",
              "\n",
              "       condition_of_the_house  grade_of_the_house  \\\n",
              "0                           5                  10   \n",
              "1                           5                   8   \n",
              "2                           3                   8   \n",
              "3                           3                   9   \n",
              "4                           4                   8   \n",
              "...                       ...                 ...   \n",
              "14615                       4                   7   \n",
              "14616                       4                   7   \n",
              "14617                       3                   6   \n",
              "14618                       4                   6   \n",
              "14619                       3                   6   \n",
              "\n",
              "       Area_of_the_house(excluding_basement)  Area_of_the_basement  \\\n",
              "0                                       3370                   280   \n",
              "1                                       1910                  1010   \n",
              "2                                       2910                     0   \n",
              "3                                       3310                     0   \n",
              "4                                       1880                   830   \n",
              "...                                      ...                   ...   \n",
              "14615                                   1556                     0   \n",
              "14616                                   1680                     0   \n",
              "14617                                   1070                     0   \n",
              "14618                                   1030                     0   \n",
              "14619                                    900                     0   \n",
              "\n",
              "       Built_Year  Renovation_Year  living_area_renov  lot_area_renov  \\\n",
              "0            1921                0               2880            5400   \n",
              "1            1909                0               2470            4000   \n",
              "2            1939                0               2940            6600   \n",
              "3            2001                0               3350           42847   \n",
              "4            1929                0               2060            4500   \n",
              "...           ...              ...                ...             ...   \n",
              "14615        1957                0               2250           17286   \n",
              "14616        1968                0               1540            7480   \n",
              "14617        1962                0               1130            6120   \n",
              "14618        1955                0               1420            6631   \n",
              "14619        1969             2009                900            3480   \n",
              "\n",
              "       Number_of_schools_nearby  Distance_from_the_airport    Price  \n",
              "0                             2                         58  2380000  \n",
              "1                             2                         51  1400000  \n",
              "2                             1                         53  1200000  \n",
              "3                             3                         76   838000  \n",
              "4                             1                         51   805000  \n",
              "...                         ...                        ...      ...  \n",
              "14615                         3                         76   221700  \n",
              "14616                         3                         59   219200  \n",
              "14617                         2                         64   209000  \n",
              "14618                         3                         54   205000  \n",
              "14619                         2                         55   146000  \n",
              "\n",
              "[14620 rows x 18 columns]"
            ],
            "text/html": [
              "\n",
              "  <div id=\"df-dc46bcf8-de75-4e6b-b24f-e685c801191a\">\n",
              "    <div class=\"colab-df-container\">\n",
              "      <div>\n",
              "<style scoped>\n",
              "    .dataframe tbody tr th:only-of-type {\n",
              "        vertical-align: middle;\n",
              "    }\n",
              "\n",
              "    .dataframe tbody tr th {\n",
              "        vertical-align: top;\n",
              "    }\n",
              "\n",
              "    .dataframe thead th {\n",
              "        text-align: right;\n",
              "    }\n",
              "</style>\n",
              "<table border=\"1\" class=\"dataframe\">\n",
              "  <thead>\n",
              "    <tr style=\"text-align: right;\">\n",
              "      <th></th>\n",
              "      <th>number_of_bedrooms</th>\n",
              "      <th>number_of_bathrooms</th>\n",
              "      <th>living_area</th>\n",
              "      <th>lot_area</th>\n",
              "      <th>number_of_floors</th>\n",
              "      <th>waterfront_present</th>\n",
              "      <th>number_of_views</th>\n",
              "      <th>condition_of_the_house</th>\n",
              "      <th>grade_of_the_house</th>\n",
              "      <th>Area_of_the_house(excluding_basement)</th>\n",
              "      <th>Area_of_the_basement</th>\n",
              "      <th>Built_Year</th>\n",
              "      <th>Renovation_Year</th>\n",
              "      <th>living_area_renov</th>\n",
              "      <th>lot_area_renov</th>\n",
              "      <th>Number_of_schools_nearby</th>\n",
              "      <th>Distance_from_the_airport</th>\n",
              "      <th>Price</th>\n",
              "    </tr>\n",
              "  </thead>\n",
              "  <tbody>\n",
              "    <tr>\n",
              "      <th>0</th>\n",
              "      <td>5</td>\n",
              "      <td>2.50</td>\n",
              "      <td>3650</td>\n",
              "      <td>9050</td>\n",
              "      <td>2.0</td>\n",
              "      <td>0</td>\n",
              "      <td>4</td>\n",
              "      <td>5</td>\n",
              "      <td>10</td>\n",
              "      <td>3370</td>\n",
              "      <td>280</td>\n",
              "      <td>1921</td>\n",
              "      <td>0</td>\n",
              "      <td>2880</td>\n",
              "      <td>5400</td>\n",
              "      <td>2</td>\n",
              "      <td>58</td>\n",
              "      <td>2380000</td>\n",
              "    </tr>\n",
              "    <tr>\n",
              "      <th>1</th>\n",
              "      <td>4</td>\n",
              "      <td>2.50</td>\n",
              "      <td>2920</td>\n",
              "      <td>4000</td>\n",
              "      <td>1.5</td>\n",
              "      <td>0</td>\n",
              "      <td>0</td>\n",
              "      <td>5</td>\n",
              "      <td>8</td>\n",
              "      <td>1910</td>\n",
              "      <td>1010</td>\n",
              "      <td>1909</td>\n",
              "      <td>0</td>\n",
              "      <td>2470</td>\n",
              "      <td>4000</td>\n",
              "      <td>2</td>\n",
              "      <td>51</td>\n",
              "      <td>1400000</td>\n",
              "    </tr>\n",
              "    <tr>\n",
              "      <th>2</th>\n",
              "      <td>5</td>\n",
              "      <td>2.75</td>\n",
              "      <td>2910</td>\n",
              "      <td>9480</td>\n",
              "      <td>1.5</td>\n",
              "      <td>0</td>\n",
              "      <td>0</td>\n",
              "      <td>3</td>\n",
              "      <td>8</td>\n",
              "      <td>2910</td>\n",
              "      <td>0</td>\n",
              "      <td>1939</td>\n",
              "      <td>0</td>\n",
              "      <td>2940</td>\n",
              "      <td>6600</td>\n",
              "      <td>1</td>\n",
              "      <td>53</td>\n",
              "      <td>1200000</td>\n",
              "    </tr>\n",
              "    <tr>\n",
              "      <th>3</th>\n",
              "      <td>4</td>\n",
              "      <td>2.50</td>\n",
              "      <td>3310</td>\n",
              "      <td>42998</td>\n",
              "      <td>2.0</td>\n",
              "      <td>0</td>\n",
              "      <td>0</td>\n",
              "      <td>3</td>\n",
              "      <td>9</td>\n",
              "      <td>3310</td>\n",
              "      <td>0</td>\n",
              "      <td>2001</td>\n",
              "      <td>0</td>\n",
              "      <td>3350</td>\n",
              "      <td>42847</td>\n",
              "      <td>3</td>\n",
              "      <td>76</td>\n",
              "      <td>838000</td>\n",
              "    </tr>\n",
              "    <tr>\n",
              "      <th>4</th>\n",
              "      <td>3</td>\n",
              "      <td>2.00</td>\n",
              "      <td>2710</td>\n",
              "      <td>4500</td>\n",
              "      <td>1.5</td>\n",
              "      <td>0</td>\n",
              "      <td>0</td>\n",
              "      <td>4</td>\n",
              "      <td>8</td>\n",
              "      <td>1880</td>\n",
              "      <td>830</td>\n",
              "      <td>1929</td>\n",
              "      <td>0</td>\n",
              "      <td>2060</td>\n",
              "      <td>4500</td>\n",
              "      <td>1</td>\n",
              "      <td>51</td>\n",
              "      <td>805000</td>\n",
              "    </tr>\n",
              "    <tr>\n",
              "      <th>...</th>\n",
              "      <td>...</td>\n",
              "      <td>...</td>\n",
              "      <td>...</td>\n",
              "      <td>...</td>\n",
              "      <td>...</td>\n",
              "      <td>...</td>\n",
              "      <td>...</td>\n",
              "      <td>...</td>\n",
              "      <td>...</td>\n",
              "      <td>...</td>\n",
              "      <td>...</td>\n",
              "      <td>...</td>\n",
              "      <td>...</td>\n",
              "      <td>...</td>\n",
              "      <td>...</td>\n",
              "      <td>...</td>\n",
              "      <td>...</td>\n",
              "      <td>...</td>\n",
              "    </tr>\n",
              "    <tr>\n",
              "      <th>14615</th>\n",
              "      <td>2</td>\n",
              "      <td>1.50</td>\n",
              "      <td>1556</td>\n",
              "      <td>20000</td>\n",
              "      <td>1.0</td>\n",
              "      <td>0</td>\n",
              "      <td>0</td>\n",
              "      <td>4</td>\n",
              "      <td>7</td>\n",
              "      <td>1556</td>\n",
              "      <td>0</td>\n",
              "      <td>1957</td>\n",
              "      <td>0</td>\n",
              "      <td>2250</td>\n",
              "      <td>17286</td>\n",
              "      <td>3</td>\n",
              "      <td>76</td>\n",
              "      <td>221700</td>\n",
              "    </tr>\n",
              "    <tr>\n",
              "      <th>14616</th>\n",
              "      <td>3</td>\n",
              "      <td>2.00</td>\n",
              "      <td>1680</td>\n",
              "      <td>7000</td>\n",
              "      <td>1.5</td>\n",
              "      <td>0</td>\n",
              "      <td>0</td>\n",
              "      <td>4</td>\n",
              "      <td>7</td>\n",
              "      <td>1680</td>\n",
              "      <td>0</td>\n",
              "      <td>1968</td>\n",
              "      <td>0</td>\n",
              "      <td>1540</td>\n",
              "      <td>7480</td>\n",
              "      <td>3</td>\n",
              "      <td>59</td>\n",
              "      <td>219200</td>\n",
              "    </tr>\n",
              "    <tr>\n",
              "      <th>14617</th>\n",
              "      <td>2</td>\n",
              "      <td>1.00</td>\n",
              "      <td>1070</td>\n",
              "      <td>6120</td>\n",
              "      <td>1.0</td>\n",
              "      <td>0</td>\n",
              "      <td>0</td>\n",
              "      <td>3</td>\n",
              "      <td>6</td>\n",
              "      <td>1070</td>\n",
              "      <td>0</td>\n",
              "      <td>1962</td>\n",
              "      <td>0</td>\n",
              "      <td>1130</td>\n",
              "      <td>6120</td>\n",
              "      <td>2</td>\n",
              "      <td>64</td>\n",
              "      <td>209000</td>\n",
              "    </tr>\n",
              "    <tr>\n",
              "      <th>14618</th>\n",
              "      <td>4</td>\n",
              "      <td>1.00</td>\n",
              "      <td>1030</td>\n",
              "      <td>6621</td>\n",
              "      <td>1.0</td>\n",
              "      <td>0</td>\n",
              "      <td>0</td>\n",
              "      <td>4</td>\n",
              "      <td>6</td>\n",
              "      <td>1030</td>\n",
              "      <td>0</td>\n",
              "      <td>1955</td>\n",
              "      <td>0</td>\n",
              "      <td>1420</td>\n",
              "      <td>6631</td>\n",
              "      <td>3</td>\n",
              "      <td>54</td>\n",
              "      <td>205000</td>\n",
              "    </tr>\n",
              "    <tr>\n",
              "      <th>14619</th>\n",
              "      <td>3</td>\n",
              "      <td>1.00</td>\n",
              "      <td>900</td>\n",
              "      <td>4770</td>\n",
              "      <td>1.0</td>\n",
              "      <td>0</td>\n",
              "      <td>0</td>\n",
              "      <td>3</td>\n",
              "      <td>6</td>\n",
              "      <td>900</td>\n",
              "      <td>0</td>\n",
              "      <td>1969</td>\n",
              "      <td>2009</td>\n",
              "      <td>900</td>\n",
              "      <td>3480</td>\n",
              "      <td>2</td>\n",
              "      <td>55</td>\n",
              "      <td>146000</td>\n",
              "    </tr>\n",
              "  </tbody>\n",
              "</table>\n",
              "<p>14620 rows × 18 columns</p>\n",
              "</div>\n",
              "      <button class=\"colab-df-convert\" onclick=\"convertToInteractive('df-dc46bcf8-de75-4e6b-b24f-e685c801191a')\"\n",
              "              title=\"Convert this dataframe to an interactive table.\"\n",
              "              style=\"display:none;\">\n",
              "        \n",
              "  <svg xmlns=\"http://www.w3.org/2000/svg\" height=\"24px\"viewBox=\"0 0 24 24\"\n",
              "       width=\"24px\">\n",
              "    <path d=\"M0 0h24v24H0V0z\" fill=\"none\"/>\n",
              "    <path d=\"M18.56 5.44l.94 2.06.94-2.06 2.06-.94-2.06-.94-.94-2.06-.94 2.06-2.06.94zm-11 1L8.5 8.5l.94-2.06 2.06-.94-2.06-.94L8.5 2.5l-.94 2.06-2.06.94zm10 10l.94 2.06.94-2.06 2.06-.94-2.06-.94-.94-2.06-.94 2.06-2.06.94z\"/><path d=\"M17.41 7.96l-1.37-1.37c-.4-.4-.92-.59-1.43-.59-.52 0-1.04.2-1.43.59L10.3 9.45l-7.72 7.72c-.78.78-.78 2.05 0 2.83L4 21.41c.39.39.9.59 1.41.59.51 0 1.02-.2 1.41-.59l7.78-7.78 2.81-2.81c.8-.78.8-2.07 0-2.86zM5.41 20L4 18.59l7.72-7.72 1.47 1.35L5.41 20z\"/>\n",
              "  </svg>\n",
              "      </button>\n",
              "      \n",
              "  <style>\n",
              "    .colab-df-container {\n",
              "      display:flex;\n",
              "      flex-wrap:wrap;\n",
              "      gap: 12px;\n",
              "    }\n",
              "\n",
              "    .colab-df-convert {\n",
              "      background-color: #E8F0FE;\n",
              "      border: none;\n",
              "      border-radius: 50%;\n",
              "      cursor: pointer;\n",
              "      display: none;\n",
              "      fill: #1967D2;\n",
              "      height: 32px;\n",
              "      padding: 0 0 0 0;\n",
              "      width: 32px;\n",
              "    }\n",
              "\n",
              "    .colab-df-convert:hover {\n",
              "      background-color: #E2EBFA;\n",
              "      box-shadow: 0px 1px 2px rgba(60, 64, 67, 0.3), 0px 1px 3px 1px rgba(60, 64, 67, 0.15);\n",
              "      fill: #174EA6;\n",
              "    }\n",
              "\n",
              "    [theme=dark] .colab-df-convert {\n",
              "      background-color: #3B4455;\n",
              "      fill: #D2E3FC;\n",
              "    }\n",
              "\n",
              "    [theme=dark] .colab-df-convert:hover {\n",
              "      background-color: #434B5C;\n",
              "      box-shadow: 0px 1px 3px 1px rgba(0, 0, 0, 0.15);\n",
              "      filter: drop-shadow(0px 1px 2px rgba(0, 0, 0, 0.3));\n",
              "      fill: #FFFFFF;\n",
              "    }\n",
              "  </style>\n",
              "\n",
              "      <script>\n",
              "        const buttonEl =\n",
              "          document.querySelector('#df-dc46bcf8-de75-4e6b-b24f-e685c801191a button.colab-df-convert');\n",
              "        buttonEl.style.display =\n",
              "          google.colab.kernel.accessAllowed ? 'block' : 'none';\n",
              "\n",
              "        async function convertToInteractive(key) {\n",
              "          const element = document.querySelector('#df-dc46bcf8-de75-4e6b-b24f-e685c801191a');\n",
              "          const dataTable =\n",
              "            await google.colab.kernel.invokeFunction('convertToInteractive',\n",
              "                                                     [key], {});\n",
              "          if (!dataTable) return;\n",
              "\n",
              "          const docLinkHtml = 'Like what you see? Visit the ' +\n",
              "            '<a target=\"_blank\" href=https://colab.research.google.com/notebooks/data_table.ipynb>data table notebook</a>'\n",
              "            + ' to learn more about interactive tables.';\n",
              "          element.innerHTML = '';\n",
              "          dataTable['output_type'] = 'display_data';\n",
              "          await google.colab.output.renderOutput(dataTable, element);\n",
              "          const docLink = document.createElement('div');\n",
              "          docLink.innerHTML = docLinkHtml;\n",
              "          element.appendChild(docLink);\n",
              "        }\n",
              "      </script>\n",
              "    </div>\n",
              "  </div>\n",
              "  "
            ]
          },
          "metadata": {},
          "execution_count": 47
        }
      ],
      "source": [
        "df.drop(columns=['id', 'Date','Postal_Code', 'Lattitude','Longitude'])"
      ]
    },
    {
      "cell_type": "markdown",
      "metadata": {
        "id": "SC9CIMh4PtOv"
      },
      "source": []
    },
    {
      "cell_type": "code",
      "execution_count": 48,
      "metadata": {
        "colab": {
          "base_uri": "https://localhost:8080/"
        },
        "id": "-UWTYSvIS3Sl",
        "outputId": "c7b55654-f337-440a-d4f3-954510d43a60"
      },
      "outputs": [
        {
          "output_type": "execute_result",
          "data": {
            "text/plain": [
              "Index(['id', 'Date', 'number_of_bedrooms', 'number_of_bathrooms',\n",
              "       'living_area', 'lot_area', 'number_of_floors', 'waterfront_present',\n",
              "       'number_of_views', 'condition_of_the_house', 'grade_of_the_house',\n",
              "       'Area_of_the_house(excluding_basement)', 'Area_of_the_basement',\n",
              "       'Built_Year', 'Renovation_Year', 'Postal_Code', 'Lattitude',\n",
              "       'Longitude', 'living_area_renov', 'lot_area_renov',\n",
              "       'Number_of_schools_nearby', 'Distance_from_the_airport', 'Price'],\n",
              "      dtype='object')"
            ]
          },
          "metadata": {},
          "execution_count": 48
        }
      ],
      "source": [
        "df.columns"
      ]
    },
    {
      "cell_type": "code",
      "execution_count": 49,
      "metadata": {
        "id": "Cj2eEts7S2kg"
      },
      "outputs": [],
      "source": [
        "co = df[['number_of_bedrooms', 'number_of_bathrooms','number_of_floors', 'waterfront_present',\n",
        "       'number_of_views','condition_of_the_house', 'grade_of_the_house','Area_of_the_house(excluding_basement)', 'Area_of_the_basement', 'Price']]"
      ]
    },
    {
      "cell_type": "code",
      "execution_count": 50,
      "metadata": {
        "id": "LjCbVwEoQEhN"
      },
      "outputs": [],
      "source": [
        "do=df[['Number_of_schools_nearby', 'Distance_from_the_airport','Price']]"
      ]
    },
    {
      "cell_type": "code",
      "execution_count": 51,
      "metadata": {
        "colab": {
          "base_uri": "https://localhost:8080/",
          "height": 775
        },
        "id": "KaTMMPwGNDM7",
        "outputId": "9d6311ec-c683-436e-d208-67a14f6ccbeb"
      },
      "outputs": [
        {
          "output_type": "execute_result",
          "data": {
            "text/plain": [
              "<seaborn.axisgrid.PairGrid at 0x7f83ba4238e0>"
            ]
          },
          "metadata": {},
          "execution_count": 51
        },
        {
          "output_type": "display_data",
          "data": {
            "text/plain": [
              "<Figure size 750x750 with 12 Axes>"
            ],
            "image/png": "[encoded data removed]"
          },
          "metadata": {}
        }
      ],
      "source": [
        "sns.pairplot(do)"
      ]
    },
    {
      "cell_type": "code",
      "execution_count": 52,
      "metadata": {
        "id": "znMBvqVuUSNP"
      },
      "outputs": [],
      "source": [
        "plt.rcParams['figure.figsize']=4,4"
      ]
    },
    {
      "cell_type": "code",
      "execution_count": 53,
      "metadata": {
        "colab": {
          "base_uri": "https://localhost:8080/",
          "height": 567
        },
        "id": "zC0cxjQdkt58",
        "outputId": "4a0d4cb2-53e7-4542-c4a6-820fdb38529d"
      },
      "outputs": [
        {
          "output_type": "execute_result",
          "data": {
            "text/plain": [
              "<Axes: >"
            ]
          },
          "metadata": {},
          "execution_count": 53
        },
        {
          "output_type": "display_data",
          "data": {
            "text/plain": [
              "<Figure size 400x400 with 2 Axes>"
            ],
            "image/png": "[encoded data removed]"
          },
          "metadata": {}
        }
      ],
      "source": [
        "sns.heatmap(do.corr(),annot=True)"
      ]
    },
    {
      "cell_type": "code",
      "execution_count": 54,
      "metadata": {
        "id": "_pQbwOtFk4el"
      },
      "outputs": [],
      "source": [
        "plt.rcParams['figure.figsize']=8,8"
      ]
    },
    {
      "cell_type": "code",
      "execution_count": 55,
      "metadata": {
        "id": "TEKdA0d9vyTU"
      },
      "outputs": [],
      "source": [
        "#sns.heatmap(co.corr(),annot=True)"
      ]
    },
    {
      "cell_type": "code",
      "execution_count": 55,
      "metadata": {
        "id": "BJOnY2y3Jpu5"
      },
      "outputs": [],
      "source": []
    },
    {
      "cell_type": "markdown",
      "metadata": {
        "id": "enhf-taiwXeo"
      },
      "source": [
        "HANDLING MISSING VALUES"
      ]
    },
    {
      "cell_type": "code",
      "execution_count": 56,
      "metadata": {
        "colab": {
          "base_uri": "https://localhost:8080/"
        },
        "id": "bDsMYhA7wamZ",
        "outputId": "53a09743-e274-4f4c-eecd-cfbc6b8b1d32"
      },
      "outputs": [
        {
          "output_type": "execute_result",
          "data": {
            "text/plain": [
              "id                                       False\n",
              "Date                                     False\n",
              "number_of_bedrooms                       False\n",
              "number_of_bathrooms                      False\n",
              "living_area                              False\n",
              "lot_area                                 False\n",
              "number_of_floors                         False\n",
              "waterfront_present                       False\n",
              "number_of_views                          False\n",
              "condition_of_the_house                   False\n",
              "grade_of_the_house                       False\n",
              "Area_of_the_house(excluding_basement)    False\n",
              "Area_of_the_basement                     False\n",
              "Built_Year                               False\n",
              "Renovation_Year                          False\n",
              "Postal_Code                              False\n",
              "Lattitude                                False\n",
              "Longitude                                False\n",
              "living_area_renov                        False\n",
              "lot_area_renov                           False\n",
              "Number_of_schools_nearby                 False\n",
              "Distance_from_the_airport                False\n",
              "Price                                    False\n",
              "dtype: bool"
            ]
          },
          "metadata": {},
          "execution_count": 56
        }
      ],
      "source": [
        "df.isnull().any()"
      ]
    },
    {
      "cell_type": "code",
      "execution_count": 57,
      "metadata": {
        "colab": {
          "base_uri": "https://localhost:8080/"
        },
        "id": "MgtDGSs4RR9-",
        "outputId": "42ab1f36-5c46-4fb8-e348-55e8091ae61b"
      },
      "outputs": [
        {
          "output_type": "execute_result",
          "data": {
            "text/plain": [
              "id                                       0\n",
              "Date                                     0\n",
              "number_of_bedrooms                       0\n",
              "number_of_bathrooms                      0\n",
              "living_area                              0\n",
              "lot_area                                 0\n",
              "number_of_floors                         0\n",
              "waterfront_present                       0\n",
              "number_of_views                          0\n",
              "condition_of_the_house                   0\n",
              "grade_of_the_house                       0\n",
              "Area_of_the_house(excluding_basement)    0\n",
              "Area_of_the_basement                     0\n",
              "Built_Year                               0\n",
              "Renovation_Year                          0\n",
              "Postal_Code                              0\n",
              "Lattitude                                0\n",
              "Longitude                                0\n",
              "living_area_renov                        0\n",
              "lot_area_renov                           0\n",
              "Number_of_schools_nearby                 0\n",
              "Distance_from_the_airport                0\n",
              "Price                                    0\n",
              "dtype: int64"
            ]
          },
          "metadata": {},
          "execution_count": 57
        }
      ],
      "source": [
        "df.isnull().sum()"
      ]
    },
    {
      "cell_type": "code",
      "execution_count": 58,
      "metadata": {
        "colab": {
          "base_uri": "https://localhost:8080/"
        },
        "id": "SIseHwcmwt6U",
        "outputId": "f4283b11-6bce-4cd7-f813-7f79fa5303ab"
      },
      "outputs": [
        {
          "output_type": "stream",
          "name": "stdout",
          "text": [
            "<class 'pandas.core.frame.DataFrame'>\n",
            "RangeIndex: 14620 entries, 0 to 14619\n",
            "Data columns (total 23 columns):\n",
            " #   Column                                 Non-Null Count  Dtype  \n",
            "---  ------                                 --------------  -----  \n",
            " 0   id                                     14620 non-null  int64  \n",
            " 1   Date                                   14620 non-null  int64  \n",
            " 2   number_of_bedrooms                     14620 non-null  int64  \n",
            " 3   number_of_bathrooms                    14620 non-null  float64\n",
            " 4   living_area                            14620 non-null  int64  \n",
            " 5   lot_area                               14620 non-null  int64  \n",
            " 6   number_of_floors                       14620 non-null  float64\n",
            " 7   waterfront_present                     14620 non-null  int64  \n",
            " 8   number_of_views                        14620 non-null  int64  \n",
            " 9   condition_of_the_house                 14620 non-null  int64  \n",
            " 10  grade_of_the_house                     14620 non-null  int64  \n",
            " 11  Area_of_the_house(excluding_basement)  14620 non-null  int64  \n",
            " 12  Area_of_the_basement                   14620 non-null  int64  \n",
            " 13  Built_Year                             14620 non-null  int64  \n",
            " 14  Renovation_Year                        14620 non-null  int64  \n",
            " 15  Postal_Code                            14620 non-null  int64  \n",
            " 16  Lattitude                              14620 non-null  float64\n",
            " 17  Longitude                              14620 non-null  float64\n",
            " 18  living_area_renov                      14620 non-null  int64  \n",
            " 19  lot_area_renov                         14620 non-null  int64  \n",
            " 20  Number_of_schools_nearby               14620 non-null  int64  \n",
            " 21  Distance_from_the_airport              14620 non-null  int64  \n",
            " 22  Price                                  14620 non-null  int64  \n",
            "dtypes: float64(4), int64(19)\n",
            "memory usage: 2.6 MB\n"
          ]
        }
      ],
      "source": [
        "df.info()"
      ]
    },
    {
      "cell_type": "markdown",
      "metadata": {
        "id": "e8uIn2idRPdT"
      },
      "source": [
        "IT IS CLEAR THAT THERE IS NO NULL VALUES HENCE NULL VALUE REPLACEMENT (WITH MEAN/MEDIAN FOR NUMERICAL COLUMNS AND WITH MODE FOR CATEGORICAL COLUMNS) IS NOT NECESSARY"
      ]
    },
    {
      "cell_type": "markdown",
      "source": [
        "BUILDING ANN MODEL"
      ],
      "metadata": {
        "id": "p_dleIC_SjoU"
      }
    },
    {
      "cell_type": "code",
      "execution_count": 210,
      "metadata": {
        "id": "HjmtXrpbExFP"
      },
      "outputs": [],
      "source": [
        "\n",
        "x = df.iloc[:,2:-1].values\n",
        "y = df.iloc[:,-1].values\n"
      ]
    },
    {
      "cell_type": "code",
      "source": [
        "y"
      ],
      "metadata": {
        "colab": {
          "base_uri": "https://localhost:8080/"
        },
        "id": "u_QHIIVK9HK9",
        "outputId": "8f1fcf23-973f-45bb-ba5c-4b142af603fe"
      },
      "execution_count": 211,
      "outputs": [
        {
          "output_type": "execute_result",
          "data": {
            "text/plain": [
              "array([2380000, 1400000, 1200000, ...,  209000,  205000,  146000])"
            ]
          },
          "metadata": {},
          "execution_count": 211
        }
      ]
    },
    {
      "cell_type": "code",
      "execution_count": 212,
      "metadata": {
        "id": "bPU0A6N1G0uX"
      },
      "outputs": [],
      "source": [
        "from sklearn.model_selection import train_test_split\n",
        "xtrain,xtest,ytrain,ytest = train_test_split(x,y,test_size = 0.2,random_state = 42)"
      ]
    },
    {
      "cell_type": "code",
      "source": [
        "from sklearn.preprocessing import StandardScaler\n",
        "sc = StandardScaler()\n",
        "xtrain = sc.fit_transform(xtrain)\n",
        "xtest = sc.transform(xtest)"
      ],
      "metadata": {
        "id": "PaE9TLcn12Bt"
      },
      "execution_count": 213,
      "outputs": []
    },
    {
      "cell_type": "code",
      "execution_count": 214,
      "metadata": {
        "colab": {
          "base_uri": "https://localhost:8080/"
        },
        "id": "iObetUfAG6fu",
        "outputId": "734b1fc5-263a-48d9-f8c0-5c9d7a746557"
      },
      "outputs": [
        {
          "output_type": "execute_result",
          "data": {
            "text/plain": [
              "(11696, 20)"
            ]
          },
          "metadata": {},
          "execution_count": 214
        }
      ],
      "source": [
        "xtrain.shape"
      ]
    },
    {
      "cell_type": "code",
      "execution_count": 215,
      "metadata": {
        "colab": {
          "base_uri": "https://localhost:8080/"
        },
        "id": "Z9geNVhSG7HO",
        "outputId": "4b88fc70-eb0b-419d-e93a-f74fb2c4c3fd"
      },
      "outputs": [
        {
          "output_type": "execute_result",
          "data": {
            "text/plain": [
              "(2924, 20)"
            ]
          },
          "metadata": {},
          "execution_count": 215
        }
      ],
      "source": [
        "xtest.shape"
      ]
    },
    {
      "cell_type": "code",
      "execution_count": 216,
      "metadata": {
        "id": "ROLpKAUsHavF"
      },
      "outputs": [],
      "source": [
        "from tensorflow.keras.models import Sequential\n",
        "from tensorflow.keras.layers import Dense"
      ]
    },
    {
      "cell_type": "code",
      "execution_count": 217,
      "metadata": {
        "id": "GjCTQdK-G_Mn"
      },
      "outputs": [],
      "source": [
        "model = Sequential()\n",
        "\n",
        "# input layer\n",
        "model.add(Dense(19,activation='relu'))\n",
        "\n",
        "# hidden layers\n",
        "model.add(Dense(19,activation='relu'))\n",
        "model.add(Dense(19,activation='relu'))\n",
        "model.add(Dense(19,activation='relu'))\n",
        "\n",
        "# output layer\n",
        "model.add(Dense(1,activation = 'linear'))\n",
        "     \n",
        "\n"
      ]
    },
    {
      "cell_type": "code",
      "execution_count": 218,
      "metadata": {
        "id": "NAd6jeQWHdXs"
      },
      "outputs": [],
      "source": [
        "model.compile(optimizer='adam',loss='mse',metrics=['mse'])"
      ]
    },
    {
      "cell_type": "code",
      "execution_count": 219,
      "metadata": {
        "colab": {
          "base_uri": "https://localhost:8080/"
        },
        "id": "4wgLw5l6HiWV",
        "outputId": "7703bcf0-f679-4d78-8e4b-7cabc70da96e"
      },
      "outputs": [
        {
          "output_type": "stream",
          "name": "stdout",
          "text": [
            "Epoch 1/150\n",
            "1170/1170 [==============================] - 4s 2ms/step - loss: 230927335424.0000 - mse: 230927335424.0000 - val_loss: 64294400000.0000 - val_mse: 64294400000.0000\n",
            "Epoch 2/150\n",
            "1170/1170 [==============================] - 3s 2ms/step - loss: 55142760448.0000 - mse: 55142760448.0000 - val_loss: 47581470720.0000 - val_mse: 47581470720.0000\n",
            "Epoch 3/150\n",
            "1170/1170 [==============================] - 3s 2ms/step - loss: 44184449024.0000 - mse: 44184449024.0000 - val_loss: 39713161216.0000 - val_mse: 39713161216.0000\n",
            "Epoch 4/150\n",
            "1170/1170 [==============================] - 3s 3ms/step - loss: 38685667328.0000 - mse: 38685667328.0000 - val_loss: 35654107136.0000 - val_mse: 35654107136.0000\n",
            "Epoch 5/150\n",
            "1170/1170 [==============================] - 3s 2ms/step - loss: 36201713664.0000 - mse: 36201713664.0000 - val_loss: 34191415296.0000 - val_mse: 34191415296.0000\n",
            "Epoch 6/150\n",
            "1170/1170 [==============================] - 2s 2ms/step - loss: 34941521920.0000 - mse: 34941521920.0000 - val_loss: 33238020096.0000 - val_mse: 33238020096.0000\n",
            "Epoch 7/150\n",
            "1170/1170 [==============================] - 3s 2ms/step - loss: 34182789120.0000 - mse: 34182789120.0000 - val_loss: 32520220672.0000 - val_mse: 32520220672.0000\n",
            "Epoch 8/150\n",
            "1170/1170 [==============================] - 2s 2ms/step - loss: 33528836096.0000 - mse: 33528836096.0000 - val_loss: 32161636352.0000 - val_mse: 32161636352.0000\n",
            "Epoch 9/150\n",
            "1170/1170 [==============================] - 3s 3ms/step - loss: 33075130368.0000 - mse: 33075130368.0000 - val_loss: 31597049856.0000 - val_mse: 31597049856.0000\n",
            "Epoch 10/150\n",
            "1170/1170 [==============================] - 3s 2ms/step - loss: 32719400960.0000 - mse: 32719400960.0000 - val_loss: 31437066240.0000 - val_mse: 31437068288.0000\n",
            "Epoch 11/150\n",
            "1170/1170 [==============================] - 2s 2ms/step - loss: 32375605248.0000 - mse: 32375605248.0000 - val_loss: 31433562112.0000 - val_mse: 31433562112.0000\n",
            "Epoch 12/150\n",
            "1170/1170 [==============================] - 3s 2ms/step - loss: 32275668992.0000 - mse: 32275668992.0000 - val_loss: 31001888768.0000 - val_mse: 31001888768.0000\n",
            "Epoch 13/150\n",
            "1170/1170 [==============================] - 6s 5ms/step - loss: 31855478784.0000 - mse: 31855478784.0000 - val_loss: 31083126784.0000 - val_mse: 31083126784.0000\n",
            "Epoch 14/150\n",
            "1170/1170 [==============================] - 5s 5ms/step - loss: 31685728256.0000 - mse: 31685728256.0000 - val_loss: 30716063744.0000 - val_mse: 30716063744.0000\n",
            "Epoch 15/150\n",
            "1170/1170 [==============================] - 4s 3ms/step - loss: 31373262848.0000 - mse: 31373262848.0000 - val_loss: 30860924928.0000 - val_mse: 30860924928.0000\n",
            "Epoch 16/150\n",
            "1170/1170 [==============================] - 4s 4ms/step - loss: 31113633792.0000 - mse: 31113633792.0000 - val_loss: 30466846720.0000 - val_mse: 30466846720.0000\n",
            "Epoch 17/150\n",
            "1170/1170 [==============================] - 4s 3ms/step - loss: 31050301440.0000 - mse: 31050297344.0000 - val_loss: 30352551936.0000 - val_mse: 30352551936.0000\n",
            "Epoch 18/150\n",
            "1170/1170 [==============================] - 2s 2ms/step - loss: 30772131840.0000 - mse: 30772131840.0000 - val_loss: 30281967616.0000 - val_mse: 30281967616.0000\n",
            "Epoch 19/150\n",
            "1170/1170 [==============================] - 3s 2ms/step - loss: 30450262016.0000 - mse: 30450262016.0000 - val_loss: 30110873600.0000 - val_mse: 30110873600.0000\n",
            "Epoch 20/150\n",
            "1170/1170 [==============================] - 3s 3ms/step - loss: 30373275648.0000 - mse: 30373275648.0000 - val_loss: 30417215488.0000 - val_mse: 30417215488.0000\n",
            "Epoch 21/150\n",
            "1170/1170 [==============================] - 2s 2ms/step - loss: 30291486720.0000 - mse: 30291486720.0000 - val_loss: 29917984768.0000 - val_mse: 29917984768.0000\n",
            "Epoch 22/150\n",
            "1170/1170 [==============================] - 2s 2ms/step - loss: 30122176512.0000 - mse: 30122176512.0000 - val_loss: 29845794816.0000 - val_mse: 29845794816.0000\n",
            "Epoch 23/150\n",
            "1170/1170 [==============================] - 2s 2ms/step - loss: 29781010432.0000 - mse: 29781010432.0000 - val_loss: 33398507520.0000 - val_mse: 33398507520.0000\n",
            "Epoch 24/150\n",
            "1170/1170 [==============================] - 4s 3ms/step - loss: 29793202176.0000 - mse: 29793202176.0000 - val_loss: 29848881152.0000 - val_mse: 29848881152.0000\n",
            "Epoch 25/150\n",
            "1170/1170 [==============================] - 5s 4ms/step - loss: 29589729280.0000 - mse: 29589729280.0000 - val_loss: 29771565056.0000 - val_mse: 29771565056.0000\n",
            "Epoch 26/150\n",
            "1170/1170 [==============================] - 4s 3ms/step - loss: 29509505024.0000 - mse: 29509507072.0000 - val_loss: 29517287424.0000 - val_mse: 29517291520.0000\n",
            "Epoch 27/150\n",
            "1170/1170 [==============================] - 5s 4ms/step - loss: 29403238400.0000 - mse: 29403238400.0000 - val_loss: 29431894016.0000 - val_mse: 29431896064.0000\n",
            "Epoch 28/150\n",
            "1170/1170 [==============================] - 5s 4ms/step - loss: 29274175488.0000 - mse: 29274175488.0000 - val_loss: 29263915008.0000 - val_mse: 29263915008.0000\n",
            "Epoch 29/150\n",
            "1170/1170 [==============================] - 4s 3ms/step - loss: 29065115648.0000 - mse: 29065115648.0000 - val_loss: 29385844736.0000 - val_mse: 29385844736.0000\n",
            "Epoch 30/150\n",
            "1170/1170 [==============================] - 3s 3ms/step - loss: 28870080512.0000 - mse: 28870080512.0000 - val_loss: 29195374592.0000 - val_mse: 29195374592.0000\n",
            "Epoch 31/150\n",
            "1170/1170 [==============================] - 4s 4ms/step - loss: 28834195456.0000 - mse: 28834195456.0000 - val_loss: 28988065792.0000 - val_mse: 28988065792.0000\n",
            "Epoch 32/150\n",
            "1170/1170 [==============================] - 6s 5ms/step - loss: 28631169024.0000 - mse: 28631169024.0000 - val_loss: 29756999680.0000 - val_mse: 29756999680.0000\n",
            "Epoch 33/150\n",
            "1170/1170 [==============================] - 3s 3ms/step - loss: 28644233216.0000 - mse: 28644233216.0000 - val_loss: 28860741632.0000 - val_mse: 28860741632.0000\n",
            "Epoch 34/150\n",
            "1170/1170 [==============================] - 3s 3ms/step - loss: 28582973440.0000 - mse: 28582973440.0000 - val_loss: 28743835648.0000 - val_mse: 28743835648.0000\n",
            "Epoch 35/150\n",
            "1170/1170 [==============================] - 3s 2ms/step - loss: 28337625088.0000 - mse: 28337625088.0000 - val_loss: 28802168832.0000 - val_mse: 28802168832.0000\n",
            "Epoch 36/150\n",
            "1170/1170 [==============================] - 3s 2ms/step - loss: 28310022144.0000 - mse: 28310022144.0000 - val_loss: 28620648448.0000 - val_mse: 28620650496.0000\n",
            "Epoch 37/150\n",
            "1170/1170 [==============================] - 3s 2ms/step - loss: 28158660608.0000 - mse: 28158660608.0000 - val_loss: 28510726144.0000 - val_mse: 28510726144.0000\n",
            "Epoch 38/150\n",
            "1170/1170 [==============================] - 3s 3ms/step - loss: 28019652608.0000 - mse: 28019652608.0000 - val_loss: 28345307136.0000 - val_mse: 28345307136.0000\n",
            "Epoch 39/150\n",
            "1170/1170 [==============================] - 3s 2ms/step - loss: 27830941696.0000 - mse: 27830941696.0000 - val_loss: 28206807040.0000 - val_mse: 28206809088.0000\n",
            "Epoch 40/150\n",
            "1170/1170 [==============================] - 3s 3ms/step - loss: 27781617664.0000 - mse: 27781617664.0000 - val_loss: 28184303616.0000 - val_mse: 28184303616.0000\n",
            "Epoch 41/150\n",
            "1170/1170 [==============================] - 4s 3ms/step - loss: 27636205568.0000 - mse: 27636205568.0000 - val_loss: 28010305536.0000 - val_mse: 28010305536.0000\n",
            "Epoch 42/150\n",
            "1170/1170 [==============================] - 6s 5ms/step - loss: 27526156288.0000 - mse: 27526156288.0000 - val_loss: 27912749056.0000 - val_mse: 27912751104.0000\n",
            "Epoch 43/150\n",
            "1170/1170 [==============================] - 5s 4ms/step - loss: 27355443200.0000 - mse: 27355443200.0000 - val_loss: 28416215040.0000 - val_mse: 28416215040.0000\n",
            "Epoch 44/150\n",
            "1170/1170 [==============================] - 5s 4ms/step - loss: 27263485952.0000 - mse: 27263485952.0000 - val_loss: 28819142656.0000 - val_mse: 28819142656.0000\n",
            "Epoch 45/150\n",
            "1170/1170 [==============================] - 5s 4ms/step - loss: 27259498496.0000 - mse: 27259498496.0000 - val_loss: 27631052800.0000 - val_mse: 27631052800.0000\n",
            "Epoch 46/150\n",
            "1170/1170 [==============================] - 4s 4ms/step - loss: 27110598656.0000 - mse: 27110598656.0000 - val_loss: 27578820608.0000 - val_mse: 27578820608.0000\n",
            "Epoch 47/150\n",
            "1170/1170 [==============================] - 5s 4ms/step - loss: 27039160320.0000 - mse: 27039160320.0000 - val_loss: 27425431552.0000 - val_mse: 27425431552.0000\n",
            "Epoch 48/150\n",
            "1170/1170 [==============================] - 6s 5ms/step - loss: 26941085696.0000 - mse: 26941085696.0000 - val_loss: 27322324992.0000 - val_mse: 27322324992.0000\n",
            "Epoch 49/150\n",
            "1170/1170 [==============================] - 5s 4ms/step - loss: 26934652928.0000 - mse: 26934652928.0000 - val_loss: 27255459840.0000 - val_mse: 27255459840.0000\n",
            "Epoch 50/150\n",
            "1170/1170 [==============================] - 6s 5ms/step - loss: 26802948096.0000 - mse: 26802948096.0000 - val_loss: 27528005632.0000 - val_mse: 27528009728.0000\n",
            "Epoch 51/150\n",
            "1170/1170 [==============================] - 3s 2ms/step - loss: 26657437696.0000 - mse: 26657437696.0000 - val_loss: 27297724416.0000 - val_mse: 27297724416.0000\n",
            "Epoch 52/150\n",
            "1170/1170 [==============================] - 2s 2ms/step - loss: 26601461760.0000 - mse: 26601461760.0000 - val_loss: 27193853952.0000 - val_mse: 27193853952.0000\n",
            "Epoch 53/150\n",
            "1170/1170 [==============================] - 3s 2ms/step - loss: 26576785408.0000 - mse: 26576785408.0000 - val_loss: 26924738560.0000 - val_mse: 26924738560.0000\n",
            "Epoch 54/150\n",
            "1170/1170 [==============================] - 4s 3ms/step - loss: 26369531904.0000 - mse: 26369531904.0000 - val_loss: 27080480768.0000 - val_mse: 27080480768.0000\n",
            "Epoch 55/150\n",
            "1170/1170 [==============================] - 2s 2ms/step - loss: 26378205184.0000 - mse: 26378205184.0000 - val_loss: 26739488768.0000 - val_mse: 26739488768.0000\n",
            "Epoch 56/150\n",
            "1170/1170 [==============================] - 3s 2ms/step - loss: 26220591104.0000 - mse: 26220591104.0000 - val_loss: 26627436544.0000 - val_mse: 26627436544.0000\n",
            "Epoch 57/150\n",
            "1170/1170 [==============================] - 3s 2ms/step - loss: 26074527744.0000 - mse: 26074527744.0000 - val_loss: 26599438336.0000 - val_mse: 26599438336.0000\n",
            "Epoch 58/150\n",
            "1170/1170 [==============================] - 3s 3ms/step - loss: 26060969984.0000 - mse: 26060969984.0000 - val_loss: 26466615296.0000 - val_mse: 26466615296.0000\n",
            "Epoch 59/150\n",
            "1170/1170 [==============================] - 3s 3ms/step - loss: 25890398208.0000 - mse: 25890398208.0000 - val_loss: 26478678016.0000 - val_mse: 26478678016.0000\n",
            "Epoch 60/150\n",
            "1170/1170 [==============================] - 3s 2ms/step - loss: 25867012096.0000 - mse: 25867012096.0000 - val_loss: 26294829056.0000 - val_mse: 26294829056.0000\n",
            "Epoch 61/150\n",
            "1170/1170 [==============================] - 3s 2ms/step - loss: 25757069312.0000 - mse: 25757069312.0000 - val_loss: 26431109120.0000 - val_mse: 26431109120.0000\n",
            "Epoch 62/150\n",
            "1170/1170 [==============================] - 3s 2ms/step - loss: 25811662848.0000 - mse: 25811660800.0000 - val_loss: 26696114176.0000 - val_mse: 26696114176.0000\n",
            "Epoch 63/150\n",
            "1170/1170 [==============================] - 4s 3ms/step - loss: 25636458496.0000 - mse: 25636458496.0000 - val_loss: 26265724928.0000 - val_mse: 26265724928.0000\n",
            "Epoch 64/150\n",
            "1170/1170 [==============================] - 3s 2ms/step - loss: 25478400000.0000 - mse: 25478400000.0000 - val_loss: 26039658496.0000 - val_mse: 26039658496.0000\n",
            "Epoch 65/150\n",
            "1170/1170 [==============================] - 3s 2ms/step - loss: 25520171008.0000 - mse: 25520171008.0000 - val_loss: 26010740736.0000 - val_mse: 26010740736.0000\n",
            "Epoch 66/150\n",
            "1170/1170 [==============================] - 3s 2ms/step - loss: 25403301888.0000 - mse: 25403301888.0000 - val_loss: 25863991296.0000 - val_mse: 25863991296.0000\n",
            "Epoch 67/150\n",
            "1170/1170 [==============================] - 3s 3ms/step - loss: 25333153792.0000 - mse: 25333153792.0000 - val_loss: 25855526912.0000 - val_mse: 25855526912.0000\n",
            "Epoch 68/150\n",
            "1170/1170 [==============================] - 3s 2ms/step - loss: 25236391936.0000 - mse: 25236391936.0000 - val_loss: 25653438464.0000 - val_mse: 25653438464.0000\n",
            "Epoch 69/150\n",
            "1170/1170 [==============================] - 3s 2ms/step - loss: 25082724352.0000 - mse: 25082720256.0000 - val_loss: 25741967360.0000 - val_mse: 25741967360.0000\n",
            "Epoch 70/150\n",
            "1170/1170 [==============================] - 3s 2ms/step - loss: 25090310144.0000 - mse: 25090310144.0000 - val_loss: 25724803072.0000 - val_mse: 25724803072.0000\n",
            "Epoch 71/150\n",
            "1170/1170 [==============================] - 3s 3ms/step - loss: 25001328640.0000 - mse: 25001328640.0000 - val_loss: 25488736256.0000 - val_mse: 25488736256.0000\n",
            "Epoch 72/150\n",
            "1170/1170 [==============================] - 4s 3ms/step - loss: 24975161344.0000 - mse: 24975161344.0000 - val_loss: 25507430400.0000 - val_mse: 25507430400.0000\n",
            "Epoch 73/150\n",
            "1170/1170 [==============================] - 3s 2ms/step - loss: 24942934016.0000 - mse: 24942934016.0000 - val_loss: 25398771712.0000 - val_mse: 25398771712.0000\n",
            "Epoch 74/150\n",
            "1170/1170 [==============================] - 3s 2ms/step - loss: 24752625664.0000 - mse: 24752621568.0000 - val_loss: 26118338560.0000 - val_mse: 26118338560.0000\n",
            "Epoch 75/150\n",
            "1170/1170 [==============================] - 3s 2ms/step - loss: 24719794176.0000 - mse: 24719794176.0000 - val_loss: 25455761408.0000 - val_mse: 25455761408.0000\n",
            "Epoch 76/150\n",
            "1170/1170 [==============================] - 4s 3ms/step - loss: 24576647168.0000 - mse: 24576647168.0000 - val_loss: 26260768768.0000 - val_mse: 26260772864.0000\n",
            "Epoch 77/150\n",
            "1170/1170 [==============================] - 3s 2ms/step - loss: 24492711936.0000 - mse: 24492711936.0000 - val_loss: 25217914880.0000 - val_mse: 25217914880.0000\n",
            "Epoch 78/150\n",
            "1170/1170 [==============================] - 3s 2ms/step - loss: 24418052096.0000 - mse: 24418052096.0000 - val_loss: 25109792768.0000 - val_mse: 25109792768.0000\n",
            "Epoch 79/150\n",
            "1170/1170 [==============================] - 3s 2ms/step - loss: 24223127552.0000 - mse: 24223127552.0000 - val_loss: 25167353856.0000 - val_mse: 25167353856.0000\n",
            "Epoch 80/150\n",
            "1170/1170 [==============================] - 3s 3ms/step - loss: 24256139264.0000 - mse: 24256139264.0000 - val_loss: 24984739840.0000 - val_mse: 24984739840.0000\n",
            "Epoch 81/150\n",
            "1170/1170 [==============================] - 3s 2ms/step - loss: 24127942656.0000 - mse: 24127942656.0000 - val_loss: 25805864960.0000 - val_mse: 25805864960.0000\n",
            "Epoch 82/150\n",
            "1170/1170 [==============================] - 3s 2ms/step - loss: 24130623488.0000 - mse: 24130623488.0000 - val_loss: 24925145088.0000 - val_mse: 24925145088.0000\n",
            "Epoch 83/150\n",
            "1170/1170 [==============================] - 3s 3ms/step - loss: 24108474368.0000 - mse: 24108474368.0000 - val_loss: 25123141632.0000 - val_mse: 25123141632.0000\n",
            "Epoch 84/150\n",
            "1170/1170 [==============================] - 4s 3ms/step - loss: 23941683200.0000 - mse: 23941683200.0000 - val_loss: 24946251776.0000 - val_mse: 24946251776.0000\n",
            "Epoch 85/150\n",
            "1170/1170 [==============================] - 3s 3ms/step - loss: 23843538944.0000 - mse: 23843538944.0000 - val_loss: 25016377344.0000 - val_mse: 25016377344.0000\n",
            "Epoch 86/150\n",
            "1170/1170 [==============================] - 3s 2ms/step - loss: 23610146816.0000 - mse: 23610146816.0000 - val_loss: 25011644416.0000 - val_mse: 25011644416.0000\n",
            "Epoch 87/150\n",
            "1170/1170 [==============================] - 3s 2ms/step - loss: 23731095552.0000 - mse: 23731095552.0000 - val_loss: 24693952512.0000 - val_mse: 24693952512.0000\n",
            "Epoch 88/150\n",
            "1170/1170 [==============================] - 3s 2ms/step - loss: 23575670784.0000 - mse: 23575672832.0000 - val_loss: 25380091904.0000 - val_mse: 25380091904.0000\n",
            "Epoch 89/150\n",
            "1170/1170 [==============================] - 3s 3ms/step - loss: 23520712704.0000 - mse: 23520712704.0000 - val_loss: 24534417408.0000 - val_mse: 24534417408.0000\n",
            "Epoch 90/150\n",
            "1170/1170 [==============================] - 3s 2ms/step - loss: 23503464448.0000 - mse: 23503464448.0000 - val_loss: 24580538368.0000 - val_mse: 24580538368.0000\n",
            "Epoch 91/150\n",
            "1170/1170 [==============================] - 3s 2ms/step - loss: 23373172736.0000 - mse: 23373172736.0000 - val_loss: 24653424640.0000 - val_mse: 24653424640.0000\n",
            "Epoch 92/150\n",
            "1170/1170 [==============================] - 3s 2ms/step - loss: 23241019392.0000 - mse: 23241019392.0000 - val_loss: 25120659456.0000 - val_mse: 25120659456.0000\n",
            "Epoch 93/150\n",
            "1170/1170 [==============================] - 3s 3ms/step - loss: 23215370240.0000 - mse: 23215370240.0000 - val_loss: 24457213952.0000 - val_mse: 24457213952.0000\n",
            "Epoch 94/150\n",
            "1170/1170 [==============================] - 3s 2ms/step - loss: 23260190720.0000 - mse: 23260190720.0000 - val_loss: 24522330112.0000 - val_mse: 24522330112.0000\n",
            "Epoch 95/150\n",
            "1170/1170 [==============================] - 3s 2ms/step - loss: 23061723136.0000 - mse: 23061723136.0000 - val_loss: 24251387904.0000 - val_mse: 24251387904.0000\n",
            "Epoch 96/150\n",
            "1170/1170 [==============================] - 3s 2ms/step - loss: 23021963264.0000 - mse: 23021963264.0000 - val_loss: 24208799744.0000 - val_mse: 24208799744.0000\n",
            "Epoch 97/150\n",
            "1170/1170 [==============================] - 3s 2ms/step - loss: 22895644672.0000 - mse: 22895644672.0000 - val_loss: 24484020224.0000 - val_mse: 24484020224.0000\n",
            "Epoch 98/150\n",
            "1170/1170 [==============================] - 4s 3ms/step - loss: 22838466560.0000 - mse: 22838466560.0000 - val_loss: 24130453504.0000 - val_mse: 24130453504.0000\n",
            "Epoch 99/150\n",
            "1170/1170 [==============================] - 3s 2ms/step - loss: 22761392128.0000 - mse: 22761392128.0000 - val_loss: 24271927296.0000 - val_mse: 24271927296.0000\n",
            "Epoch 100/150\n",
            "1170/1170 [==============================] - 3s 2ms/step - loss: 22550773760.0000 - mse: 22550773760.0000 - val_loss: 24285935616.0000 - val_mse: 24285935616.0000\n",
            "Epoch 101/150\n",
            "1170/1170 [==============================] - 3s 2ms/step - loss: 22458644480.0000 - mse: 22458644480.0000 - val_loss: 23930308608.0000 - val_mse: 23930308608.0000\n",
            "Epoch 102/150\n",
            "1170/1170 [==============================] - 3s 3ms/step - loss: 22331109376.0000 - mse: 22331109376.0000 - val_loss: 23863865344.0000 - val_mse: 23863865344.0000\n",
            "Epoch 103/150\n",
            "1170/1170 [==============================] - 3s 3ms/step - loss: 22028421120.0000 - mse: 22028421120.0000 - val_loss: 23973476352.0000 - val_mse: 23973476352.0000\n",
            "Epoch 104/150\n",
            "1170/1170 [==============================] - 3s 2ms/step - loss: 21781454848.0000 - mse: 21781454848.0000 - val_loss: 23600181248.0000 - val_mse: 23600181248.0000\n",
            "Epoch 105/150\n",
            "1170/1170 [==============================] - 3s 2ms/step - loss: 21639139328.0000 - mse: 21639139328.0000 - val_loss: 23276388352.0000 - val_mse: 23276388352.0000\n",
            "Epoch 106/150\n",
            "1170/1170 [==============================] - 3s 3ms/step - loss: 21362601984.0000 - mse: 21362601984.0000 - val_loss: 23272062976.0000 - val_mse: 23272062976.0000\n",
            "Epoch 107/150\n",
            "1170/1170 [==============================] - 3s 3ms/step - loss: 21186670592.0000 - mse: 21186670592.0000 - val_loss: 23089561600.0000 - val_mse: 23089561600.0000\n",
            "Epoch 108/150\n",
            "1170/1170 [==============================] - 3s 2ms/step - loss: 21015547904.0000 - mse: 21015547904.0000 - val_loss: 23070732288.0000 - val_mse: 23070732288.0000\n",
            "Epoch 109/150\n",
            "1170/1170 [==============================] - 5s 4ms/step - loss: 20899016704.0000 - mse: 20899016704.0000 - val_loss: 22653546496.0000 - val_mse: 22653546496.0000\n",
            "Epoch 110/150\n",
            "1170/1170 [==============================] - 4s 3ms/step - loss: 20646273024.0000 - mse: 20646273024.0000 - val_loss: 22592602112.0000 - val_mse: 22592602112.0000\n",
            "Epoch 111/150\n",
            "1170/1170 [==============================] - 3s 3ms/step - loss: 20403761152.0000 - mse: 20403761152.0000 - val_loss: 21955463168.0000 - val_mse: 21955463168.0000\n",
            "Epoch 112/150\n",
            "1170/1170 [==============================] - 3s 2ms/step - loss: 20272619520.0000 - mse: 20272619520.0000 - val_loss: 21844903936.0000 - val_mse: 21844903936.0000\n",
            "Epoch 113/150\n",
            "1170/1170 [==============================] - 3s 2ms/step - loss: 19950387200.0000 - mse: 19950387200.0000 - val_loss: 21569476608.0000 - val_mse: 21569476608.0000\n",
            "Epoch 114/150\n",
            "1170/1170 [==============================] - 3s 3ms/step - loss: 19794335744.0000 - mse: 19794335744.0000 - val_loss: 21663922176.0000 - val_mse: 21663922176.0000\n",
            "Epoch 115/150\n",
            "1170/1170 [==============================] - 3s 3ms/step - loss: 19546359808.0000 - mse: 19546359808.0000 - val_loss: 21515896832.0000 - val_mse: 21515892736.0000\n",
            "Epoch 116/150\n",
            "1170/1170 [==============================] - 3s 2ms/step - loss: 19435745280.0000 - mse: 19435745280.0000 - val_loss: 20910530560.0000 - val_mse: 20910530560.0000\n",
            "Epoch 117/150\n",
            "1170/1170 [==============================] - 3s 2ms/step - loss: 19231948800.0000 - mse: 19231948800.0000 - val_loss: 21691758592.0000 - val_mse: 21691758592.0000\n",
            "Epoch 118/150\n",
            "1170/1170 [==============================] - 3s 2ms/step - loss: 18952914944.0000 - mse: 18952914944.0000 - val_loss: 20798160896.0000 - val_mse: 20798160896.0000\n",
            "Epoch 119/150\n",
            "1170/1170 [==============================] - 4s 3ms/step - loss: 18794629120.0000 - mse: 18794629120.0000 - val_loss: 20792635392.0000 - val_mse: 20792635392.0000\n",
            "Epoch 120/150\n",
            "1170/1170 [==============================] - 3s 2ms/step - loss: 18514489344.0000 - mse: 18514489344.0000 - val_loss: 21463998464.0000 - val_mse: 21463998464.0000\n",
            "Epoch 121/150\n",
            "1170/1170 [==============================] - 3s 2ms/step - loss: 18601932800.0000 - mse: 18601932800.0000 - val_loss: 20205780992.0000 - val_mse: 20205780992.0000\n",
            "Epoch 122/150\n",
            "1170/1170 [==============================] - 3s 3ms/step - loss: 18365274112.0000 - mse: 18365274112.0000 - val_loss: 20104931328.0000 - val_mse: 20104931328.0000\n",
            "Epoch 123/150\n",
            "1170/1170 [==============================] - 4s 3ms/step - loss: 18242930688.0000 - mse: 18242930688.0000 - val_loss: 20276316160.0000 - val_mse: 20276316160.0000\n",
            "Epoch 124/150\n",
            "1170/1170 [==============================] - 3s 2ms/step - loss: 18158010368.0000 - mse: 18158010368.0000 - val_loss: 19651891200.0000 - val_mse: 19651893248.0000\n",
            "Epoch 125/150\n",
            "1170/1170 [==============================] - 3s 2ms/step - loss: 17946279936.0000 - mse: 17946279936.0000 - val_loss: 21706459136.0000 - val_mse: 21706459136.0000\n",
            "Epoch 126/150\n",
            "1170/1170 [==============================] - 3s 2ms/step - loss: 17944416256.0000 - mse: 17944416256.0000 - val_loss: 19672596480.0000 - val_mse: 19672596480.0000\n",
            "Epoch 127/150\n",
            "1170/1170 [==============================] - 3s 3ms/step - loss: 17565804544.0000 - mse: 17565804544.0000 - val_loss: 19320205312.0000 - val_mse: 19320207360.0000\n",
            "Epoch 128/150\n",
            "1170/1170 [==============================] - 3s 3ms/step - loss: 17707743232.0000 - mse: 17707743232.0000 - val_loss: 19795783680.0000 - val_mse: 19795783680.0000\n",
            "Epoch 129/150\n",
            "1170/1170 [==============================] - 3s 3ms/step - loss: 17581877248.0000 - mse: 17581877248.0000 - val_loss: 19125237760.0000 - val_mse: 19125239808.0000\n",
            "Epoch 130/150\n",
            "1170/1170 [==============================] - 3s 2ms/step - loss: 17558181888.0000 - mse: 17558181888.0000 - val_loss: 19572889600.0000 - val_mse: 19572889600.0000\n",
            "Epoch 131/150\n",
            "1170/1170 [==============================] - 3s 3ms/step - loss: 17506453504.0000 - mse: 17506453504.0000 - val_loss: 18948028416.0000 - val_mse: 18948028416.0000\n",
            "Epoch 132/150\n",
            "1170/1170 [==============================] - 4s 3ms/step - loss: 17317513216.0000 - mse: 17317513216.0000 - val_loss: 18632134656.0000 - val_mse: 18632134656.0000\n",
            "Epoch 133/150\n",
            "1170/1170 [==============================] - 3s 3ms/step - loss: 17246083072.0000 - mse: 17246085120.0000 - val_loss: 18699902976.0000 - val_mse: 18699902976.0000\n",
            "Epoch 134/150\n",
            "1170/1170 [==============================] - 3s 2ms/step - loss: 17169954816.0000 - mse: 17169954816.0000 - val_loss: 18509174784.0000 - val_mse: 18509174784.0000\n",
            "Epoch 135/150\n",
            "1170/1170 [==============================] - 3s 2ms/step - loss: 17072788480.0000 - mse: 17072788480.0000 - val_loss: 18842759168.0000 - val_mse: 18842761216.0000\n",
            "Epoch 136/150\n",
            "1170/1170 [==============================] - 4s 3ms/step - loss: 17025202176.0000 - mse: 17025202176.0000 - val_loss: 18706515968.0000 - val_mse: 18706515968.0000\n",
            "Epoch 137/150\n",
            "1170/1170 [==============================] - 3s 2ms/step - loss: 16945638400.0000 - mse: 16945638400.0000 - val_loss: 18417051648.0000 - val_mse: 18417051648.0000\n",
            "Epoch 138/150\n",
            "1170/1170 [==============================] - 3s 3ms/step - loss: 16870815744.0000 - mse: 16870815744.0000 - val_loss: 18498357248.0000 - val_mse: 18498357248.0000\n",
            "Epoch 139/150\n",
            "1170/1170 [==============================] - 3s 2ms/step - loss: 16769092608.0000 - mse: 16769092608.0000 - val_loss: 18544953344.0000 - val_mse: 18544953344.0000\n",
            "Epoch 140/150\n",
            "1170/1170 [==============================] - 4s 3ms/step - loss: 16674569216.0000 - mse: 16674569216.0000 - val_loss: 18237265920.0000 - val_mse: 18237265920.0000\n",
            "Epoch 141/150\n",
            "1170/1170 [==============================] - 3s 2ms/step - loss: 16569368576.0000 - mse: 16569368576.0000 - val_loss: 17833041920.0000 - val_mse: 17833041920.0000\n",
            "Epoch 142/150\n",
            "1170/1170 [==============================] - 3s 2ms/step - loss: 16498884608.0000 - mse: 16498884608.0000 - val_loss: 18165886976.0000 - val_mse: 18165886976.0000\n",
            "Epoch 143/150\n",
            "1170/1170 [==============================] - 3s 2ms/step - loss: 16422784000.0000 - mse: 16422784000.0000 - val_loss: 17759868928.0000 - val_mse: 17759868928.0000\n",
            "Epoch 144/150\n",
            "1170/1170 [==============================] - 3s 3ms/step - loss: 16392198144.0000 - mse: 16392198144.0000 - val_loss: 18382180352.0000 - val_mse: 18382180352.0000\n",
            "Epoch 145/150\n",
            "1170/1170 [==============================] - 3s 3ms/step - loss: 16317876224.0000 - mse: 16317876224.0000 - val_loss: 18135130112.0000 - val_mse: 18135130112.0000\n",
            "Epoch 146/150\n",
            "1170/1170 [==============================] - 3s 2ms/step - loss: 16321388544.0000 - mse: 16321388544.0000 - val_loss: 17610104832.0000 - val_mse: 17610104832.0000\n",
            "Epoch 147/150\n",
            "1170/1170 [==============================] - 3s 2ms/step - loss: 16193557504.0000 - mse: 16193557504.0000 - val_loss: 17532792832.0000 - val_mse: 17532792832.0000\n",
            "Epoch 148/150\n",
            "1170/1170 [==============================] - 3s 2ms/step - loss: 16136510464.0000 - mse: 16136510464.0000 - val_loss: 17585758208.0000 - val_mse: 17585758208.0000\n",
            "Epoch 149/150\n",
            "1170/1170 [==============================] - 4s 3ms/step - loss: 16031160320.0000 - mse: 16031160320.0000 - val_loss: 17423822848.0000 - val_mse: 17423822848.0000\n",
            "Epoch 150/150\n",
            "1170/1170 [==============================] - 3s 3ms/step - loss: 16041658368.0000 - mse: 16041658368.0000 - val_loss: 17421338624.0000 - val_mse: 17421338624.0000\n"
          ]
        },
        {
          "output_type": "execute_result",
          "data": {
            "text/plain": [
              "<keras.callbacks.History at 0x7f8344b37970>"
            ]
          },
          "metadata": {},
          "execution_count": 219
        }
      ],
      "source": [
        "model.fit(x=xtrain, y=ytrain, validation_data=(xtest, ytest),batch_size= 10 , epochs=150)\n"
      ]
    },
    {
      "cell_type": "code",
      "source": [
        "\n",
        "y_pred = model.predict(xtest)\n",
        "from sklearn.metrics import r2_score\n",
        "r2_score(ytest,y_pred)*100"
      ],
      "metadata": {
        "colab": {
          "base_uri": "https://localhost:8080/"
        },
        "id": "yAf_tYH7ulQc",
        "outputId": "7e12995f-daac-43c5-fa51-b1fc65ad5da0"
      },
      "execution_count": 220,
      "outputs": [
        {
          "output_type": "stream",
          "name": "stdout",
          "text": [
            "92/92 [==============================] - 0s 1ms/step\n"
          ]
        },
        {
          "output_type": "execute_result",
          "data": {
            "text/plain": [
              "87.63733669848234"
            ]
          },
          "metadata": {},
          "execution_count": 220
        }
      ]
    },
    {
      "cell_type": "code",
      "source": [
        "ytest\n",
        "\n"
      ],
      "metadata": {
        "colab": {
          "base_uri": "https://localhost:8080/"
        },
        "id": "ztTOtr5QujaR",
        "outputId": "5a54bf98-fea0-4ea7-dd91-16413a130dfc"
      },
      "execution_count": 221,
      "outputs": [
        {
          "output_type": "execute_result",
          "data": {
            "text/plain": [
              "array([ 235000,  552000,  615000, ..., 1010000,  265000,  675000])"
            ]
          },
          "metadata": {},
          "execution_count": 221
        }
      ]
    },
    {
      "cell_type": "code",
      "source": [
        "y_pred = model.predict(xtest)\n",
        "y_pred"
      ],
      "metadata": {
        "colab": {
          "base_uri": "https://localhost:8080/"
        },
        "id": "W9yYb6kgE-GN",
        "outputId": "f26b2ec7-5e2b-40f2-ea6c-b9797689ccba"
      },
      "execution_count": 222,
      "outputs": [
        {
          "output_type": "stream",
          "name": "stdout",
          "text": [
            "92/92 [==============================] - 0s 1ms/step\n"
          ]
        },
        {
          "output_type": "execute_result",
          "data": {
            "text/plain": [
              "array([[ 394207.47],\n",
              "       [ 784189.5 ],\n",
              "       [ 572863.3 ],\n",
              "       ...,\n",
              "       [1048152.3 ],\n",
              "       [ 252189.47],\n",
              "       [ 533981.6 ]], dtype=float32)"
            ]
          },
          "metadata": {},
          "execution_count": 222
        }
      ]
    },
    {
      "cell_type": "code",
      "source": [
        "y_pred.flatten()"
      ],
      "metadata": {
        "colab": {
          "base_uri": "https://localhost:8080/"
        },
        "id": "lnC2G-q5FFJo",
        "outputId": "b177e920-91f3-4d94-859d-5fcff661022d"
      },
      "execution_count": 223,
      "outputs": [
        {
          "output_type": "execute_result",
          "data": {
            "text/plain": [
              "array([ 394207.47,  784189.5 ,  572863.3 , ..., 1048152.3 ,  252189.47,\n",
              "        533981.6 ], dtype=float32)"
            ]
          },
          "metadata": {},
          "execution_count": 223
        }
      ]
    },
    {
      "cell_type": "code",
      "execution_count": 224,
      "metadata": {
        "id": "fI3VPidxIhM2",
        "colab": {
          "base_uri": "https://localhost:8080/",
          "height": 363
        },
        "outputId": "e8e2e022-cbef-42ce-92fc-1957faea4b02"
      },
      "outputs": [
        {
          "output_type": "execute_result",
          "data": {
            "text/plain": [
              "   Actual value  Predicted value\n",
              "0        235000     394207.46875\n",
              "1        552000     784189.50000\n",
              "2        615000     572863.31250\n",
              "3        555000     621723.87500\n",
              "4        649950     493588.40625\n",
              "5        257700     285425.87500\n",
              "6        980000     975507.68750\n",
              "7        535000     429000.71875\n",
              "8       1030000     890314.12500\n",
              "9        549950     337545.78125"
            ],
            "text/html": [
              "\n",
              "  <div id=\"df-e4ee3a77-3c0f-4cfc-bb2f-9315bbc4a702\">\n",
              "    <div class=\"colab-df-container\">\n",
              "      <div>\n",
              "<style scoped>\n",
              "    .dataframe tbody tr th:only-of-type {\n",
              "        vertical-align: middle;\n",
              "    }\n",
              "\n",
              "    .dataframe tbody tr th {\n",
              "        vertical-align: top;\n",
              "    }\n",
              "\n",
              "    .dataframe thead th {\n",
              "        text-align: right;\n",
              "    }\n",
              "</style>\n",
              "<table border=\"1\" class=\"dataframe\">\n",
              "  <thead>\n",
              "    <tr style=\"text-align: right;\">\n",
              "      <th></th>\n",
              "      <th>Actual value</th>\n",
              "      <th>Predicted value</th>\n",
              "    </tr>\n",
              "  </thead>\n",
              "  <tbody>\n",
              "    <tr>\n",
              "      <th>0</th>\n",
              "      <td>235000</td>\n",
              "      <td>394207.46875</td>\n",
              "    </tr>\n",
              "    <tr>\n",
              "      <th>1</th>\n",
              "      <td>552000</td>\n",
              "      <td>784189.50000</td>\n",
              "    </tr>\n",
              "    <tr>\n",
              "      <th>2</th>\n",
              "      <td>615000</td>\n",
              "      <td>572863.31250</td>\n",
              "    </tr>\n",
              "    <tr>\n",
              "      <th>3</th>\n",
              "      <td>555000</td>\n",
              "      <td>621723.87500</td>\n",
              "    </tr>\n",
              "    <tr>\n",
              "      <th>4</th>\n",
              "      <td>649950</td>\n",
              "      <td>493588.40625</td>\n",
              "    </tr>\n",
              "    <tr>\n",
              "      <th>5</th>\n",
              "      <td>257700</td>\n",
              "      <td>285425.87500</td>\n",
              "    </tr>\n",
              "    <tr>\n",
              "      <th>6</th>\n",
              "      <td>980000</td>\n",
              "      <td>975507.68750</td>\n",
              "    </tr>\n",
              "    <tr>\n",
              "      <th>7</th>\n",
              "      <td>535000</td>\n",
              "      <td>429000.71875</td>\n",
              "    </tr>\n",
              "    <tr>\n",
              "      <th>8</th>\n",
              "      <td>1030000</td>\n",
              "      <td>890314.12500</td>\n",
              "    </tr>\n",
              "    <tr>\n",
              "      <th>9</th>\n",
              "      <td>549950</td>\n",
              "      <td>337545.78125</td>\n",
              "    </tr>\n",
              "  </tbody>\n",
              "</table>\n",
              "</div>\n",
              "      <button class=\"colab-df-convert\" onclick=\"convertToInteractive('df-e4ee3a77-3c0f-4cfc-bb2f-9315bbc4a702')\"\n",
              "              title=\"Convert this dataframe to an interactive table.\"\n",
              "              style=\"display:none;\">\n",
              "        \n",
              "  <svg xmlns=\"http://www.w3.org/2000/svg\" height=\"24px\"viewBox=\"0 0 24 24\"\n",
              "       width=\"24px\">\n",
              "    <path d=\"M0 0h24v24H0V0z\" fill=\"none\"/>\n",
              "    <path d=\"M18.56 5.44l.94 2.06.94-2.06 2.06-.94-2.06-.94-.94-2.06-.94 2.06-2.06.94zm-11 1L8.5 8.5l.94-2.06 2.06-.94-2.06-.94L8.5 2.5l-.94 2.06-2.06.94zm10 10l.94 2.06.94-2.06 2.06-.94-2.06-.94-.94-2.06-.94 2.06-2.06.94z\"/><path d=\"M17.41 7.96l-1.37-1.37c-.4-.4-.92-.59-1.43-.59-.52 0-1.04.2-1.43.59L10.3 9.45l-7.72 7.72c-.78.78-.78 2.05 0 2.83L4 21.41c.39.39.9.59 1.41.59.51 0 1.02-.2 1.41-.59l7.78-7.78 2.81-2.81c.8-.78.8-2.07 0-2.86zM5.41 20L4 18.59l7.72-7.72 1.47 1.35L5.41 20z\"/>\n",
              "  </svg>\n",
              "      </button>\n",
              "      \n",
              "  <style>\n",
              "    .colab-df-container {\n",
              "      display:flex;\n",
              "      flex-wrap:wrap;\n",
              "      gap: 12px;\n",
              "    }\n",
              "\n",
              "    .colab-df-convert {\n",
              "      background-color: #E8F0FE;\n",
              "      border: none;\n",
              "      border-radius: 50%;\n",
              "      cursor: pointer;\n",
              "      display: none;\n",
              "      fill: #1967D2;\n",
              "      height: 32px;\n",
              "      padding: 0 0 0 0;\n",
              "      width: 32px;\n",
              "    }\n",
              "\n",
              "    .colab-df-convert:hover {\n",
              "      background-color: #E2EBFA;\n",
              "      box-shadow: 0px 1px 2px rgba(60, 64, 67, 0.3), 0px 1px 3px 1px rgba(60, 64, 67, 0.15);\n",
              "      fill: #174EA6;\n",
              "    }\n",
              "\n",
              "    [theme=dark] .colab-df-convert {\n",
              "      background-color: #3B4455;\n",
              "      fill: #D2E3FC;\n",
              "    }\n",
              "\n",
              "    [theme=dark] .colab-df-convert:hover {\n",
              "      background-color: #434B5C;\n",
              "      box-shadow: 0px 1px 3px 1px rgba(0, 0, 0, 0.15);\n",
              "      filter: drop-shadow(0px 1px 2px rgba(0, 0, 0, 0.3));\n",
              "      fill: #FFFFFF;\n",
              "    }\n",
              "  </style>\n",
              "\n",
              "      <script>\n",
              "        const buttonEl =\n",
              "          document.querySelector('#df-e4ee3a77-3c0f-4cfc-bb2f-9315bbc4a702 button.colab-df-convert');\n",
              "        buttonEl.style.display =\n",
              "          google.colab.kernel.accessAllowed ? 'block' : 'none';\n",
              "\n",
              "        async function convertToInteractive(key) {\n",
              "          const element = document.querySelector('#df-e4ee3a77-3c0f-4cfc-bb2f-9315bbc4a702');\n",
              "          const dataTable =\n",
              "            await google.colab.kernel.invokeFunction('convertToInteractive',\n",
              "                                                     [key], {});\n",
              "          if (!dataTable) return;\n",
              "\n",
              "          const docLinkHtml = 'Like what you see? Visit the ' +\n",
              "            '<a target=\"_blank\" href=https://colab.research.google.com/notebooks/data_table.ipynb>data table notebook</a>'\n",
              "            + ' to learn more about interactive tables.';\n",
              "          element.innerHTML = '';\n",
              "          dataTable['output_type'] = 'display_data';\n",
              "          await google.colab.output.renderOutput(dataTable, element);\n",
              "          const docLink = document.createElement('div');\n",
              "          docLink.innerHTML = docLinkHtml;\n",
              "          element.appendChild(docLink);\n",
              "        }\n",
              "      </script>\n",
              "    </div>\n",
              "  </div>\n",
              "  "
            ]
          },
          "metadata": {},
          "execution_count": 224
        }
      ],
      "source": [
        "pd.set_option('display.float_format', lambda x: '%.5f' % x)\n",
        "pd.DataFrame({'Actual value':ytest.flatten(),'Predicted value':y_pred.flatten()}).head(10)\n"
      ]
    },
    {
      "cell_type": "code",
      "source": [
        "df.head()"
      ],
      "metadata": {
        "colab": {
          "base_uri": "https://localhost:8080/",
          "height": 299
        },
        "id": "46M9a-8CGdaA",
        "outputId": "2a47dda3-62b0-498e-8c95-f30049ef1e4e"
      },
      "execution_count": 225,
      "outputs": [
        {
          "output_type": "execute_result",
          "data": {
            "text/plain": [
              "           id   Date  number_of_bedrooms  number_of_bathrooms  living_area  \\\n",
              "0  6762810145  42491                   5              2.50000         3650   \n",
              "1  6762810635  42491                   4              2.50000         2920   \n",
              "2  6762810998  42491                   5              2.75000         2910   \n",
              "3  6762812605  42491                   4              2.50000         3310   \n",
              "4  6762812919  42491                   3              2.00000         2710   \n",
              "\n",
              "   lot_area  number_of_floors  waterfront_present  number_of_views  \\\n",
              "0      9050           2.00000                   0                4   \n",
              "1      4000           1.50000                   0                0   \n",
              "2      9480           1.50000                   0                0   \n",
              "3     42998           2.00000                   0                0   \n",
              "4      4500           1.50000                   0                0   \n",
              "\n",
              "   condition_of_the_house  ...  Built_Year  Renovation_Year  Postal_Code  \\\n",
              "0                       5  ...        1921                0       122003   \n",
              "1                       5  ...        1909                0       122004   \n",
              "2                       3  ...        1939                0       122004   \n",
              "3                       3  ...        2001                0       122005   \n",
              "4                       4  ...        1929                0       122006   \n",
              "\n",
              "   Lattitude  Longitude  living_area_renov  lot_area_renov  \\\n",
              "0   52.86450 -114.55700               2880            5400   \n",
              "1   52.88780 -114.47000               2470            4000   \n",
              "2   52.88520 -114.46800               2940            6600   \n",
              "3   52.95320 -114.32100               3350           42847   \n",
              "4   52.90470 -114.48500               2060            4500   \n",
              "\n",
              "   Number_of_schools_nearby  Distance_from_the_airport    Price  \n",
              "0                         2                         58  2380000  \n",
              "1                         2                         51  1400000  \n",
              "2                         1                         53  1200000  \n",
              "3                         3                         76   838000  \n",
              "4                         1                         51   805000  \n",
              "\n",
              "[5 rows x 23 columns]"
            ],
            "text/html": [
              "\n",
              "  <div id=\"df-9623cc50-9288-4420-be6f-f6f58839ce19\">\n",
              "    <div class=\"colab-df-container\">\n",
              "      <div>\n",
              "<style scoped>\n",
              "    .dataframe tbody tr th:only-of-type {\n",
              "        vertical-align: middle;\n",
              "    }\n",
              "\n",
              "    .dataframe tbody tr th {\n",
              "        vertical-align: top;\n",
              "    }\n",
              "\n",
              "    .dataframe thead th {\n",
              "        text-align: right;\n",
              "    }\n",
              "</style>\n",
              "<table border=\"1\" class=\"dataframe\">\n",
              "  <thead>\n",
              "    <tr style=\"text-align: right;\">\n",
              "      <th></th>\n",
              "      <th>id</th>\n",
              "      <th>Date</th>\n",
              "      <th>number_of_bedrooms</th>\n",
              "      <th>number_of_bathrooms</th>\n",
              "      <th>living_area</th>\n",
              "      <th>lot_area</th>\n",
              "      <th>number_of_floors</th>\n",
              "      <th>waterfront_present</th>\n",
              "      <th>number_of_views</th>\n",
              "      <th>condition_of_the_house</th>\n",
              "      <th>...</th>\n",
              "      <th>Built_Year</th>\n",
              "      <th>Renovation_Year</th>\n",
              "      <th>Postal_Code</th>\n",
              "      <th>Lattitude</th>\n",
              "      <th>Longitude</th>\n",
              "      <th>living_area_renov</th>\n",
              "      <th>lot_area_renov</th>\n",
              "      <th>Number_of_schools_nearby</th>\n",
              "      <th>Distance_from_the_airport</th>\n",
              "      <th>Price</th>\n",
              "    </tr>\n",
              "  </thead>\n",
              "  <tbody>\n",
              "    <tr>\n",
              "      <th>0</th>\n",
              "      <td>6762810145</td>\n",
              "      <td>42491</td>\n",
              "      <td>5</td>\n",
              "      <td>2.50000</td>\n",
              "      <td>3650</td>\n",
              "      <td>9050</td>\n",
              "      <td>2.00000</td>\n",
              "      <td>0</td>\n",
              "      <td>4</td>\n",
              "      <td>5</td>\n",
              "      <td>...</td>\n",
              "      <td>1921</td>\n",
              "      <td>0</td>\n",
              "      <td>122003</td>\n",
              "      <td>52.86450</td>\n",
              "      <td>-114.55700</td>\n",
              "      <td>2880</td>\n",
              "      <td>5400</td>\n",
              "      <td>2</td>\n",
              "      <td>58</td>\n",
              "      <td>2380000</td>\n",
              "    </tr>\n",
              "    <tr>\n",
              "      <th>1</th>\n",
              "      <td>6762810635</td>\n",
              "      <td>42491</td>\n",
              "      <td>4</td>\n",
              "      <td>2.50000</td>\n",
              "      <td>2920</td>\n",
              "      <td>4000</td>\n",
              "      <td>1.50000</td>\n",
              "      <td>0</td>\n",
              "      <td>0</td>\n",
              "      <td>5</td>\n",
              "      <td>...</td>\n",
              "      <td>1909</td>\n",
              "      <td>0</td>\n",
              "      <td>122004</td>\n",
              "      <td>52.88780</td>\n",
              "      <td>-114.47000</td>\n",
              "      <td>2470</td>\n",
              "      <td>4000</td>\n",
              "      <td>2</td>\n",
              "      <td>51</td>\n",
              "      <td>1400000</td>\n",
              "    </tr>\n",
              "    <tr>\n",
              "      <th>2</th>\n",
              "      <td>6762810998</td>\n",
              "      <td>42491</td>\n",
              "      <td>5</td>\n",
              "      <td>2.75000</td>\n",
              "      <td>2910</td>\n",
              "      <td>9480</td>\n",
              "      <td>1.50000</td>\n",
              "      <td>0</td>\n",
              "      <td>0</td>\n",
              "      <td>3</td>\n",
              "      <td>...</td>\n",
              "      <td>1939</td>\n",
              "      <td>0</td>\n",
              "      <td>122004</td>\n",
              "      <td>52.88520</td>\n",
              "      <td>-114.46800</td>\n",
              "      <td>2940</td>\n",
              "      <td>6600</td>\n",
              "      <td>1</td>\n",
              "      <td>53</td>\n",
              "      <td>1200000</td>\n",
              "    </tr>\n",
              "    <tr>\n",
              "      <th>3</th>\n",
              "      <td>6762812605</td>\n",
              "      <td>42491</td>\n",
              "      <td>4</td>\n",
              "      <td>2.50000</td>\n",
              "      <td>3310</td>\n",
              "      <td>42998</td>\n",
              "      <td>2.00000</td>\n",
              "      <td>0</td>\n",
              "      <td>0</td>\n",
              "      <td>3</td>\n",
              "      <td>...</td>\n",
              "      <td>2001</td>\n",
              "      <td>0</td>\n",
              "      <td>122005</td>\n",
              "      <td>52.95320</td>\n",
              "      <td>-114.32100</td>\n",
              "      <td>3350</td>\n",
              "      <td>42847</td>\n",
              "      <td>3</td>\n",
              "      <td>76</td>\n",
              "      <td>838000</td>\n",
              "    </tr>\n",
              "    <tr>\n",
              "      <th>4</th>\n",
              "      <td>6762812919</td>\n",
              "      <td>42491</td>\n",
              "      <td>3</td>\n",
              "      <td>2.00000</td>\n",
              "      <td>2710</td>\n",
              "      <td>4500</td>\n",
              "      <td>1.50000</td>\n",
              "      <td>0</td>\n",
              "      <td>0</td>\n",
              "      <td>4</td>\n",
              "      <td>...</td>\n",
              "      <td>1929</td>\n",
              "      <td>0</td>\n",
              "      <td>122006</td>\n",
              "      <td>52.90470</td>\n",
              "      <td>-114.48500</td>\n",
              "      <td>2060</td>\n",
              "      <td>4500</td>\n",
              "      <td>1</td>\n",
              "      <td>51</td>\n",
              "      <td>805000</td>\n",
              "    </tr>\n",
              "  </tbody>\n",
              "</table>\n",
              "<p>5 rows × 23 columns</p>\n",
              "</div>\n",
              "      <button class=\"colab-df-convert\" onclick=\"convertToInteractive('df-9623cc50-9288-4420-be6f-f6f58839ce19')\"\n",
              "              title=\"Convert this dataframe to an interactive table.\"\n",
              "              style=\"display:none;\">\n",
              "        \n",
              "  <svg xmlns=\"http://www.w3.org/2000/svg\" height=\"24px\"viewBox=\"0 0 24 24\"\n",
              "       width=\"24px\">\n",
              "    <path d=\"M0 0h24v24H0V0z\" fill=\"none\"/>\n",
              "    <path d=\"M18.56 5.44l.94 2.06.94-2.06 2.06-.94-2.06-.94-.94-2.06-.94 2.06-2.06.94zm-11 1L8.5 8.5l.94-2.06 2.06-.94-2.06-.94L8.5 2.5l-.94 2.06-2.06.94zm10 10l.94 2.06.94-2.06 2.06-.94-2.06-.94-.94-2.06-.94 2.06-2.06.94z\"/><path d=\"M17.41 7.96l-1.37-1.37c-.4-.4-.92-.59-1.43-.59-.52 0-1.04.2-1.43.59L10.3 9.45l-7.72 7.72c-.78.78-.78 2.05 0 2.83L4 21.41c.39.39.9.59 1.41.59.51 0 1.02-.2 1.41-.59l7.78-7.78 2.81-2.81c.8-.78.8-2.07 0-2.86zM5.41 20L4 18.59l7.72-7.72 1.47 1.35L5.41 20z\"/>\n",
              "  </svg>\n",
              "      </button>\n",
              "      \n",
              "  <style>\n",
              "    .colab-df-container {\n",
              "      display:flex;\n",
              "      flex-wrap:wrap;\n",
              "      gap: 12px;\n",
              "    }\n",
              "\n",
              "    .colab-df-convert {\n",
              "      background-color: #E8F0FE;\n",
              "      border: none;\n",
              "      border-radius: 50%;\n",
              "      cursor: pointer;\n",
              "      display: none;\n",
              "      fill: #1967D2;\n",
              "      height: 32px;\n",
              "      padding: 0 0 0 0;\n",
              "      width: 32px;\n",
              "    }\n",
              "\n",
              "    .colab-df-convert:hover {\n",
              "      background-color: #E2EBFA;\n",
              "      box-shadow: 0px 1px 2px rgba(60, 64, 67, 0.3), 0px 1px 3px 1px rgba(60, 64, 67, 0.15);\n",
              "      fill: #174EA6;\n",
              "    }\n",
              "\n",
              "    [theme=dark] .colab-df-convert {\n",
              "      background-color: #3B4455;\n",
              "      fill: #D2E3FC;\n",
              "    }\n",
              "\n",
              "    [theme=dark] .colab-df-convert:hover {\n",
              "      background-color: #434B5C;\n",
              "      box-shadow: 0px 1px 3px 1px rgba(0, 0, 0, 0.15);\n",
              "      filter: drop-shadow(0px 1px 2px rgba(0, 0, 0, 0.3));\n",
              "      fill: #FFFFFF;\n",
              "    }\n",
              "  </style>\n",
              "\n",
              "      <script>\n",
              "        const buttonEl =\n",
              "          document.querySelector('#df-9623cc50-9288-4420-be6f-f6f58839ce19 button.colab-df-convert');\n",
              "        buttonEl.style.display =\n",
              "          google.colab.kernel.accessAllowed ? 'block' : 'none';\n",
              "\n",
              "        async function convertToInteractive(key) {\n",
              "          const element = document.querySelector('#df-9623cc50-9288-4420-be6f-f6f58839ce19');\n",
              "          const dataTable =\n",
              "            await google.colab.kernel.invokeFunction('convertToInteractive',\n",
              "                                                     [key], {});\n",
              "          if (!dataTable) return;\n",
              "\n",
              "          const docLinkHtml = 'Like what you see? Visit the ' +\n",
              "            '<a target=\"_blank\" href=https://colab.research.google.com/notebooks/data_table.ipynb>data table notebook</a>'\n",
              "            + ' to learn more about interactive tables.';\n",
              "          element.innerHTML = '';\n",
              "          dataTable['output_type'] = 'display_data';\n",
              "          await google.colab.output.renderOutput(dataTable, element);\n",
              "          const docLink = document.createElement('div');\n",
              "          docLink.innerHTML = docLinkHtml;\n",
              "          element.appendChild(docLink);\n",
              "        }\n",
              "      </script>\n",
              "    </div>\n",
              "  </div>\n",
              "  "
            ]
          },
          "metadata": {},
          "execution_count": 225
        }
      ]
    },
    {
      "cell_type": "markdown",
      "source": [
        "TESTING"
      ],
      "metadata": {
        "id": "8aaJZK3_RLIy"
      }
    },
    {
      "cell_type": "code",
      "source": [
        "model.predict([[4,\t2.25\t,2200\t,11250\t,1.5\t,0\t,0\t,5\t,7\t,1300\t,900,\t1920,\t0\t,122010\t,52.9145\t,-114.391,\t2320\t,10814\t,2,\t53]])\n"
      ],
      "metadata": {
        "colab": {
          "base_uri": "https://localhost:8080/"
        },
        "id": "3eRHM-d0P4ZW",
        "outputId": "934fc611-9129-4b2d-fe29-f72f8319988d"
      },
      "execution_count": 240,
      "outputs": [
        {
          "output_type": "stream",
          "name": "stdout",
          "text": [
            "1/1 [==============================] - 0s 168ms/step\n",
            "[[4.77222e+10]]\n"
          ]
        }
      ]
    },
    {
      "cell_type": "code",
      "source": [
        "\n",
        "model.predict([[8,\t2.5\t,2300\t,22250\t,1\t,0\t,0\t,5\t,7\t,1900\t,1000,\t1920,\t0\t,122010\t,52.9145\t,-114.391,\t2320\t,10814\t,2,\t90]])"
      ],
      "metadata": {
        "colab": {
          "base_uri": "https://localhost:8080/"
        },
        "id": "ud18wyYeP54G",
        "outputId": "62939dda-782a-4691-ce0b-89c128d66cf0"
      },
      "execution_count": 229,
      "outputs": [
        {
          "output_type": "stream",
          "name": "stdout",
          "text": [
            "1/1 [==============================] - 0s 43ms/step\n"
          ]
        },
        {
          "output_type": "execute_result",
          "data": {
            "text/plain": [
              "array([[4.628545e+10]], dtype=float32)"
            ]
          },
          "metadata": {},
          "execution_count": 229
        }
      ]
    },
    {
      "cell_type": "code",
      "source": [
        "\n",
        "model.predict([[3\t,1.75,\t2240,\t10578\t,2,\t0,\t0\t,5\t,8,\t1550,\t690\t,1923,\t0,\t122006\t,52.9254,\t-114.482\t,1570,\t10578\t,3\t,80]])"
      ],
      "metadata": {
        "colab": {
          "base_uri": "https://localhost:8080/"
        },
        "id": "N_8YJIyG4y-D",
        "outputId": "3a85c5bb-3465-4bef-811e-41d965b08b15"
      },
      "execution_count": 230,
      "outputs": [
        {
          "output_type": "stream",
          "name": "stdout",
          "text": [
            "1/1 [==============================] - 0s 41ms/step\n"
          ]
        },
        {
          "output_type": "execute_result",
          "data": {
            "text/plain": [
              "array([[4.783402e+10]], dtype=float32)"
            ]
          },
          "metadata": {},
          "execution_count": 230
        }
      ]
    }
  ],
  "metadata": {
    "colab": {
      "provenance": []
    },
    "kernelspec": {
      "display_name": "Python 3 (ipykernel)",
      "language": "python",
      "name": "python3"
    },
    "language_info": {
      "codemirror_mode": {
        "name": "ipython",
        "version": 3
      },
      "file_extension": ".py",
      "mimetype": "text/x-python",
      "name": "python",
      "nbconvert_exporter": "python",
      "pygments_lexer": "ipython3",
      "version": "3.10.11"
    }
  },
  "nbformat": 4,
  "nbformat_minor": 0
}